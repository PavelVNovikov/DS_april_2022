{
  "cells": [
    {
      "cell_type": "markdown",
      "metadata": {
        "id": "OYZRf1ncz-sT"
      },
      "source": [
        "NLP2_1\n",
        "https://www.hackerrank.com/challenges/detect-the-email-addresses/problem?isFullScreen=true"
      ]
    },
    {
      "cell_type": "markdown",
      "metadata": {
        "id": "jKzbIfdq0CKr"
      },
      "source": [
        "NLP2_2 https://www.hackerrank.com/challenges/detect-the-domain-name/problem?isFullScreen=true"
      ]
    },
    {
      "cell_type": "markdown",
      "metadata": {
        "id": "b5DQQnoU1bXY"
      },
      "source": [
        "NLP2_3 Реализовать классификатор токсичных комментариев tfidf на базе датасета\n",
        "https://www.kaggle.com/datasets/blackmoon/russian-language-toxic-comments  \n",
        "\n",
        "Дубликат файла: https://cloud.mail.ru/public/Z4L3/vB8GcgTtK\n",
        "\n"
      ]
    },
    {
      "cell_type": "code",
      "execution_count": 40,
      "metadata": {},
      "outputs": [
        {
          "name": "stdout",
          "output_type": "stream",
          "text": [
            "product@hackerrank.com;hackers@hackerrank.com;interviewstreet@hackerrank.com;\n"
          ]
        }
      ],
      "source": [
        "#nlp2_1\n",
        "\n",
        "import re\n",
        "\n",
        "text = '''HackerRank is more than just a company\n",
        "    We are a tight group of hackers, bootstrappers, entrepreneurial thinkers and innovators. We are building an engaged community of problem solvers. Imagine the intelligence and value that a room would hold if it contained hackers/problem solvers from around the world? We're building this online.\n",
        "Hypothesis: Every hacker loves a particular type of challenge presented in a certain set of difficulty. If we build a large collection of real world challenges in different domains with an engaging interface, it is going to be incredible! Join us to create history.\n",
        "Available Positions\n",
        "Product Hacker product@hackerrank.com\n",
        "Challenge Curator\n",
        "Product Evangelist\n",
        "Product Designer\n",
        "Content Creator\n",
        "ACM World Finals Hacker\n",
        "Backend C++ Hacker\n",
        "Mail us at hackers@hackerrank.com to chat more. Or you can write to us at interviewstreet@hackerrank.com!\n",
        "HACKERRANK PERKS\n",
        "Working for a startup is hard work, but there are plenty of benefits of working for a small, fun, growing team.\n",
        "[Image] Perk: Get tools for the jobAll the Right ToolsWe know that everyone's perfect workspace is unique to them. We will get you set up with whatever equipment you need to start hacking - a new 15” Macbook Pro or iMac, or a computer of your choice plus a display if you need it. Additionally, if you require any software or other tools, we've got it covered.[Image] Perk: Flexible HoursFlexible HoursBecause we work so hard, we encourage our employees to keep flexible hours and don't require them to track their time. A morning scrum and open communication ensures that the job gets done on time, and we rely on the honor system so that you can work on your own pace.[Image] Perk: HealthcareWellness SupportTo work hard, you have to be healthy. We will cover your health, dental, and visual insurance with no wait period. That means instant benefits from the day you're hired.[Image] Perk: Choice of LocationLocation, Location, LocationWe are the first Indian company to be backed by Y-Combinator, and as a result we have a thriving office in Bangalore and a growing office in Mountain View, CA. Depending on your residency or visa status, we will get you situated in one of our two offices, both of which are located in the heart of their country's tech industry.[Image] Perk: Choice of LocationCreative SupportIf you have a cool side project that you want to launch, we will pay for EC2/heroku servers to get it off the ground. Side projects fuel creativity and learning, which are crucial to the HackerRank culture.\n",
        "CULTURE\n",
        "The culture of a startup is reflective of the founders’ DNA. Larry Page & Sergey Brin were PhD’s from Stanford and that’s why Google is filled with high scoring graders from top schools and is very hard to get in if you’re not a CS major. Similarly, the hacker culture at Facebook is inspired by Zuckerberg, a hacker, the design culture by Steve Jobs and so on.\n",
        "The adjective to describe the environment/founders here is relentless hardworkers. It might be a general trait of a startup but I’m pretty sure it’s a notch higher here and defines the culture. This is what has taken us this far. It’s not working in weekends or allnighters that count, but the effort that goes into building something intellectually engaging for hackers and making it fun is high.\n",
        "You’ll have to embrace randomness and chaos. There’s some level of discipline (eg: daily scrums) but only so much. We push boundaries everyday, stretch our limits but no one complains because there’s a feeling of doing something great at the end of the day, every single day.\n",
        "'''\n",
        "pattern = r'([\\w]+)(@[\\w\\.-]+)(\\.[\\w]+)'\n",
        "\n",
        "mails = re.findall(pattern, text)\n",
        "mail = ''\n",
        "for i in mails: \n",
        "    mail += i[0]+i[1]+i[2]+';'\n",
        "print(mail)"
      ]
    },
    {
      "cell_type": "code",
      "execution_count": 59,
      "metadata": {},
      "outputs": [
        {
          "name": "stdout",
          "output_type": "stream",
          "text": [
            "askoxford.com; askoxford.com; hydrogencarsnow.com; bnsf.com; mrvc.indianrail.gov.in; mrvc.indianrail.gov.in; mrvc.indianrail.gov.in; \n"
          ]
        }
      ],
      "source": [
        "#nlp2_2\n",
        "text = ''' 10\\\n",
        "<div class=\"reflist\" style=\"list-style-type: decimal;\">\\\n",
        "<ol class=\"references\">\\\n",
        "<li id=\"cite_note-1\"><span class=\"mw-cite-backlink\"><b>^ [\"Train (noun)\"](http://www.askoxford.com/concise_oed/train?view=uk). <i>(definition – Compact OED)</i>. Oxford University Press<span class=\"reference-accessdate\">. Retrieved 2008-03-18</span>.</span><span title=\"ctx_ver=Z39.88-2004&rfr_id=info%3Asid%2Fen.wikipedia.org%3ATrain&rft.atitle=Train+%28noun%29&rft.genre=article&rft_id=http%3A%2F%2Fwww.askoxford.com%2Fconcise_oed%2Ftrain%3Fview%3Duk&rft.jtitle=%28definition+%E2%80%93+Compact+OED%29&rft.pub=Oxford+University+Press&rft_val_fmt=info%3Aofi%2Ffmt%3Akev%3Amtx%3Ajournal\" class=\"Z3988\"><span style=\"display:none;\"> </span></span></span></li>\\\n",
        "<li id=\"cite_note-2\"><span class=\"mw-cite-backlink\"><b>^</b></span> <span class=\"reference-text\"><span class=\"citation book\">Atchison, Topeka and Santa Fe Railway (1948). <i>Rules: Operating Department</i>. p. 7.</span><span title=\"ctx_ver=Z39.88-2004&rfr_id=info%3Asid%2Fen.wikipedia.org%3ATrain&rft.au=Atchison%2C+Topeka+and+Santa+Fe+Railway&rft.aulast=Atchison%2C+Topeka+and+Santa+Fe+Railway&rft.btitle=Rules%3A+Operating+Department&rft.date=1948&rft.genre=book&rft.pages=7&rft_val_fmt=info%3Aofi%2Ffmt%3Akev%3Amtx%3Abook\" class=\"Z3988\"><span style=\"display:none;\"> </span></span></span></li>\\\n",
        "<li id=\"cite_note-3\"><span class=\"mw-cite-backlink\"><b>^ [Hydrogen trains](http://www.hydrogencarsnow.com/blog2/index.php/hydrogen-vehicles/i-hear-the-hydrogen-train-a-comin-its-rolling-round-the-bend/)</span></li>\\\n",
        "<li id=\"cite_note-4\"><span class=\"mw-cite-backlink\"><b>^ [Vehicle Projects Inc. Fuel cell locomotive](http://www.bnsf.com/media/news/articles/2008/01/2008-01-09a.html)</span></li>\\\n",
        "<li id=\"cite_note-5\"><span class=\"mw-cite-backlink\"><b>^</b></span> <span class=\"reference-text\"><span class=\"citation book\">Central Japan Railway (2006). <i>Central Japan Railway Data Book 2006</i>. p. 16.</span><span title=\"ctx_ver=Z39.88-2004&rfr_id=info%3Asid%2Fen.wikipedia.org%3ATrain&rft.au=Central+Japan+Railway&rft.aulast=Central+Japan+Railway&rft.btitle=Central+Japan+Railway+Data+Book+2006&rft.date=2006&rft.genre=book&rft.pages=16&rft_val_fmt=info%3Aofi%2Ffmt%3Akev%3Amtx%3Abook\" class=\"Z3988\"><span style=\"display:none;\"> </span></span></span></li>\\\n",
        "<li id=\"cite_note-6\"><span class=\"mw-cite-backlink\"><b>^ [\"Overview Of the existing Mumbai Suburban Railway\"](http://web.archive.org/web/20080620033027/http://www.mrvc.indianrail.gov.in/overview.htm). _Official webpage of Mumbai Railway Vikas Corporation_. Archived from [the original](http://www.mrvc.indianrail.gov.in/overview.htm) on 2008-06-20<span class=\"reference-accessdate\">. Retrieved 2008-12-11</span>.</span><span title=\"ctx_ver=Z39.88-2004&rfr_id=info%3Asid%2Fen.wikipedia.org%3ATrain&rft.atitle=Overview+Of+the+existing+Mumbai+Suburban+Railway&rft.genre=article&rft_id=http%3A%2F%2Fwww.mrvc.indianrail.gov.in%2Foverview.htm&rft.jtitle=Official+webpage+of+Mumbai+Railway+Vikas+Corporation&rft_val_fmt=info%3Aofi%2Ffmt%3Akev%3Amtx%3Ajournal\" class=\"Z3988\"><span style=\"display:none;\"> </span></span></span></li>\\\n",
        "</ol>\\\n",
        "</div>\\\n",
        "'''\n",
        "\n",
        "pattern = r'www\\.(\\w[\\d\\w\\.-]+)'\n",
        "\n",
        "adrs = re.findall(pattern, text)\n",
        "adr = ''\n",
        "for i in adrs: \n",
        "    adr += i+'; '\n",
        "print(adr)"
      ]
    },
    {
      "cell_type": "code",
      "execution_count": 2,
      "metadata": {
        "id": "0BRC1-k81pIW"
      },
      "outputs": [],
      "source": [
        "# nlp2_3 реализовать на базе bag of words\n",
        "import pandas as pd\n",
        "import numpy as np \n",
        "from sklearn.feature_extraction.text import CountVectorizer\n",
        "from sklearn.feature_extraction.text import TfidfTransformer\n",
        "from sklearn.feature_extraction.text import TfidfVectorizer"
      ]
    },
    {
      "cell_type": "code",
      "execution_count": 3,
      "metadata": {},
      "outputs": [
        {
          "name": "stdout",
          "output_type": "stream",
          "text": [
            "  (0, 1321)\t1\n",
            "  (0, 2409)\t1\n",
            "  (1, 7476)\t1\n",
            "  (1, 59889)\t1\n",
            "  (1, 17208)\t1\n",
            "  (1, 66319)\t1\n",
            "  (1, 13527)\t1\n",
            "  (1, 5536)\t1\n",
            "  (3, 65042)\t1\n",
            "  (3, 67955)\t1\n",
            "  (3, 36841)\t1\n",
            "  (3, 19210)\t1\n",
            "  (3, 51796)\t1\n",
            "  (3, 29349)\t1\n",
            "  (3, 9069)\t1\n",
            "  (3, 65007)\t2\n",
            "  (3, 16591)\t1\n",
            "  (3, 65281)\t1\n",
            "  (3, 16553)\t1\n",
            "  (3, 6686)\t2\n",
            "  (3, 31916)\t1\n",
            "  (3, 6757)\t1\n",
            "  (3, 22820)\t1\n",
            "  (3, 21605)\t1\n",
            "  (3, 45910)\t1\n",
            "  :\t:\n",
            "  (27855, 43653)\t1\n",
            "  (27855, 14655)\t1\n",
            "  (27855, 35600)\t1\n",
            "  (27855, 23226)\t1\n",
            "  (27855, 24013)\t1\n",
            "  (27855, 7957)\t1\n",
            "  (27855, 54058)\t1\n",
            "  (27855, 58934)\t1\n",
            "  (27855, 22007)\t1\n",
            "  (27855, 7316)\t1\n",
            "  (27855, 44571)\t1\n",
            "  (27855, 53087)\t1\n",
            "  (27855, 30459)\t1\n",
            "  (27855, 50854)\t1\n",
            "  (27855, 44591)\t1\n",
            "  (27855, 40176)\t1\n",
            "  (27855, 39503)\t1\n",
            "  (27855, 36040)\t1\n",
            "  (27855, 22476)\t1\n",
            "  (27855, 67207)\t1\n",
            "  (27855, 52895)\t1\n",
            "  (27855, 65091)\t1\n",
            "  (27855, 65149)\t1\n",
            "  (27855, 7511)\t1\n",
            "  (27855, 12087)\t1\n"
          ]
        }
      ],
      "source": [
        "text = list(open(\"./labeled.csv\", encoding=\"utf-8\"))\n",
        "count = CountVectorizer()\n",
        "word_count=count.fit_transform(text)\n",
        "print(word_count)"
      ]
    },
    {
      "cell_type": "code",
      "execution_count": 4,
      "metadata": {},
      "outputs": [
        {
          "data": {
            "text/html": [
              "<div>\n",
              "<style scoped>\n",
              "    .dataframe tbody tr th:only-of-type {\n",
              "        vertical-align: middle;\n",
              "    }\n",
              "\n",
              "    .dataframe tbody tr th {\n",
              "        vertical-align: top;\n",
              "    }\n",
              "\n",
              "    .dataframe thead th {\n",
              "        text-align: right;\n",
              "    }\n",
              "</style>\n",
              "<table border=\"1\" class=\"dataframe\">\n",
              "  <thead>\n",
              "    <tr style=\"text-align: right;\">\n",
              "      <th></th>\n",
              "      <th>idf_weights</th>\n",
              "    </tr>\n",
              "  </thead>\n",
              "  <tbody>\n",
              "    <tr>\n",
              "      <th>не</th>\n",
              "      <td>2.519815</td>\n",
              "    </tr>\n",
              "    <tr>\n",
              "      <th>на</th>\n",
              "      <td>2.828837</td>\n",
              "    </tr>\n",
              "    <tr>\n",
              "      <th>что</th>\n",
              "      <td>2.954671</td>\n",
              "    </tr>\n",
              "    <tr>\n",
              "      <th>это</th>\n",
              "      <td>3.234191</td>\n",
              "    </tr>\n",
              "    <tr>\n",
              "      <th>то</th>\n",
              "      <td>3.298930</td>\n",
              "    </tr>\n",
              "    <tr>\n",
              "      <th>...</th>\n",
              "      <td>...</td>\n",
              "    </tr>\n",
              "    <tr>\n",
              "      <th>парамаунт</th>\n",
              "      <td>10.541728</td>\n",
              "    </tr>\n",
              "    <tr>\n",
              "      <th>дискутировать</th>\n",
              "      <td>10.541728</td>\n",
              "    </tr>\n",
              "    <tr>\n",
              "      <th>дискутабельный</th>\n",
              "      <td>10.541728</td>\n",
              "    </tr>\n",
              "    <tr>\n",
              "      <th>параллели</th>\n",
              "      <td>10.541728</td>\n",
              "    </tr>\n",
              "    <tr>\n",
              "      <th>ётавских</th>\n",
              "      <td>10.541728</td>\n",
              "    </tr>\n",
              "  </tbody>\n",
              "</table>\n",
              "<p>68425 rows × 1 columns</p>\n",
              "</div>"
            ],
            "text/plain": [
              "                idf_weights\n",
              "не                 2.519815\n",
              "на                 2.828837\n",
              "что                2.954671\n",
              "это                3.234191\n",
              "то                 3.298930\n",
              "...                     ...\n",
              "парамаунт         10.541728\n",
              "дискутировать     10.541728\n",
              "дискутабельный    10.541728\n",
              "параллели         10.541728\n",
              "ётавских          10.541728\n",
              "\n",
              "[68425 rows x 1 columns]"
            ]
          },
          "execution_count": 4,
          "metadata": {},
          "output_type": "execute_result"
        }
      ],
      "source": [
        "tfidf_transformer=TfidfTransformer(smooth_idf=True,use_idf=True)\n",
        "tfidf_transformer.fit(word_count)\n",
        "df_idf = pd.DataFrame(tfidf_transformer.idf_, index=count.get_feature_names(),columns=[\"idf_weights\"])\n",
        "#inverse document frequency\n",
        "df_idf.sort_values(by=['idf_weights'])"
      ]
    },
    {
      "cell_type": "code",
      "execution_count": 5,
      "metadata": {},
      "outputs": [
        {
          "data": {
            "text/html": [
              "<div>\n",
              "<style scoped>\n",
              "    .dataframe tbody tr th:only-of-type {\n",
              "        vertical-align: middle;\n",
              "    }\n",
              "\n",
              "    .dataframe tbody tr th {\n",
              "        vertical-align: top;\n",
              "    }\n",
              "\n",
              "    .dataframe thead th {\n",
              "        text-align: right;\n",
              "    }\n",
              "</style>\n",
              "<table border=\"1\" class=\"dataframe\">\n",
              "  <thead>\n",
              "    <tr style=\"text-align: right;\">\n",
              "      <th></th>\n",
              "      <th>tfidf</th>\n",
              "    </tr>\n",
              "  </thead>\n",
              "  <tbody>\n",
              "    <tr>\n",
              "      <th>верблюдов</th>\n",
              "      <td>0.599829</td>\n",
              "    </tr>\n",
              "    <tr>\n",
              "      <th>бл</th>\n",
              "      <td>0.549689</td>\n",
              "    </tr>\n",
              "    <tr>\n",
              "      <th>дебилы</th>\n",
              "      <td>0.469805</td>\n",
              "    </tr>\n",
              "    <tr>\n",
              "      <th>за</th>\n",
              "      <td>0.220562</td>\n",
              "    </tr>\n",
              "    <tr>\n",
              "      <th>то</th>\n",
              "      <td>0.195219</td>\n",
              "    </tr>\n",
              "    <tr>\n",
              "      <th>...</th>\n",
              "      <td>...</td>\n",
              "    </tr>\n",
              "    <tr>\n",
              "      <th>киселев</th>\n",
              "      <td>0.000000</td>\n",
              "    </tr>\n",
              "    <tr>\n",
              "      <th>киселева</th>\n",
              "      <td>0.000000</td>\n",
              "    </tr>\n",
              "    <tr>\n",
              "      <th>киселевым</th>\n",
              "      <td>0.000000</td>\n",
              "    </tr>\n",
              "    <tr>\n",
              "      <th>киселем</th>\n",
              "      <td>0.000000</td>\n",
              "    </tr>\n",
              "    <tr>\n",
              "      <th>ётавских</th>\n",
              "      <td>0.000000</td>\n",
              "    </tr>\n",
              "  </tbody>\n",
              "</table>\n",
              "<p>68425 rows × 1 columns</p>\n",
              "</div>"
            ],
            "text/plain": [
              "              tfidf\n",
              "верблюдов  0.599829\n",
              "бл         0.549689\n",
              "дебилы     0.469805\n",
              "за         0.220562\n",
              "то         0.195219\n",
              "...             ...\n",
              "киселев    0.000000\n",
              "киселева   0.000000\n",
              "киселевым  0.000000\n",
              "киселем    0.000000\n",
              "ётавских   0.000000\n",
              "\n",
              "[68425 rows x 1 columns]"
            ]
          },
          "execution_count": 5,
          "metadata": {},
          "output_type": "execute_result"
        }
      ],
      "source": [
        "#tfidf\n",
        "tf_idf_vector=tfidf_transformer.transform(word_count)\n",
        "feature_names = count.get_feature_names()\n",
        "first_document_vector=tf_idf_vector[1]\n",
        "df_tfifd= pd.DataFrame(first_document_vector.T.todense(), index=feature_names, columns=[\"tfidf\"])\n",
        "df_tfifd.sort_values(by=[\"tfidf\"],ascending=False)"
      ]
    }
  ],
  "metadata": {
    "colab": {
      "name": "NLP2-homework",
      "provenance": []
    },
    "kernelspec": {
      "display_name": "Python 3",
      "name": "python3"
    },
    "language_info": {
      "codemirror_mode": {
        "name": "ipython",
        "version": 3
      },
      "file_extension": ".py",
      "mimetype": "text/x-python",
      "name": "python",
      "nbconvert_exporter": "python",
      "pygments_lexer": "ipython3",
      "version": "3.9.7"
    }
  },
  "nbformat": 4,
  "nbformat_minor": 0
}
