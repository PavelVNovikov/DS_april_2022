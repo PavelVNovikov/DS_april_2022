{
  "nbformat": 4,
  "nbformat_minor": 0,
  "metadata": {
    "colab": {
      "name": "NLP2-homework",
      "provenance": []
    },
    "kernelspec": {
      "name": "python3",
      "display_name": "Python 3"
    },
    "language_info": {
      "name": "python"
    }
  },
  "cells": [
    {
      "cell_type": "markdown",
      "source": [
        "NLP2_1\n",
        "https://www.hackerrank.com/challenges/detect-the-email-addresses/problem?isFullScreen=true"
      ],
      "metadata": {
        "id": "OYZRf1ncz-sT"
      }
    },
    {
      "cell_type": "markdown",
      "source": [
        "NLP2_2 https://www.hackerrank.com/challenges/detect-the-domain-name/problem?isFullScreen=true"
      ],
      "metadata": {
        "id": "jKzbIfdq0CKr"
      }
    },
    {
      "cell_type": "markdown",
      "source": [
        "NLP2_3 Реализовать классификатор токсичных комментариев tfidf на базе датасета\n",
        "https://www.kaggle.com/datasets/blackmoon/russian-language-toxic-comments  \n",
        "\n",
        "Дубликат файла: https://cloud.mail.ru/public/Z4L3/vB8GcgTtK\n",
        "\n"
      ],
      "metadata": {
        "id": "b5DQQnoU1bXY"
      }
    },
    {
      "cell_type": "code",
      "source": [
        ""
      ],
      "metadata": {
        "id": "0BRC1-k81pIW"
      },
      "execution_count": null,
      "outputs": []
    }
  ]
}