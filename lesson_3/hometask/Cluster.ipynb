{
 "cells": [
  {
   "cell_type": "markdown",
   "metadata": {
    "pycharm": {
     "name": "#%% md\n"
    }
   },
   "source": [
    "# Задание"
   ]
  },
  {
   "cell_type": "markdown",
   "metadata": {
    "pycharm": {
     "name": "#%% md\n"
    }
   },
   "source": [
    "* Попробовать найти и показать различные инсайты в этом датасете с помощью графиков Seaborn, Matplotlib и Plotly\n",
    "* Дополнить графики комментариями"
   ]
  },
  {
   "cell_type": "markdown",
   "metadata": {
    "pycharm": {
     "name": "#%% md\n"
    }
   },
   "source": [
    "# Описания полей"
   ]
  },
  {
   "cell_type": "markdown",
   "metadata": {
    "pycharm": {
     "name": "#%% md\n"
    }
   },
   "source": [
    "* age\tвозраст\n",
    "* gender\tпол repexc_date\n",
    "* city_type\tТип города проживания клиента\n",
    "* full_mob\tДлительность взаимоотношений с банком\n",
    "\n",
    "* ml_balance\tипотека\n",
    "* cl_balance_0m\tпотребительский кредит\n",
    "* loan_balance_0m\tвсе кредиты\n",
    "\n",
    "* td_balance_0m\tдепозит\n",
    "* casa_balance_0m\tсчета\n",
    "\n",
    "* dc_trx_cnt\tколичество трат по картам\n",
    "* dc_trx_sum\tсумма трат по картам\n",
    "* Avg_trx\tсредний размер транзакции\n",
    "* avgtrx_to_balance\t\n",
    "\n",
    "\n",
    "* min_casa_balance_1q\tпоказатели по счетам за квартал\n",
    "* max_casa_balance_1q\t\n",
    "* avg_casa_balance_1Y\tпоказатели по счетам за год\n",
    "\n",
    "* min_td_balance_1q\t\n",
    "* max_td_balance_1q\t\n",
    "* avg_td_balance_1Y\n",
    "\n",
    "* min_loan_balance_1q\t\n",
    "* max_loan_balance_1q\t\n",
    "* avg_loan_balance_1Y\n",
    "\n",
    "* min_cl_balance_1q\t\n",
    "* max_cl_balance_1q\t\n",
    "* avg_cl_balance_1Y\t\n",
    "* loan_to_deposit\t\n",
    "\n",
    "* income\tдоход клиента\n",
    "* nbi\tдоход от клиента без OPEX"
   ]
  },
  {
   "cell_type": "code",
   "execution_count": 2,
   "metadata": {
    "pycharm": {
     "name": "#%%\n"
    }
   },
   "outputs": [],
   "source": [
    "%matplotlib inline\n",
    "import pandas as pd\n",
    "import matplotlib.pyplot as plt\n",
    "import seaborn as sns\n",
    "import numpy as np\n",
    "from scipy import stats\n",
    "from tqdm.auto import tqdm"
   ]
  },
  {
   "cell_type": "code",
   "execution_count": 8,
   "metadata": {
    "pycharm": {
     "name": "#%%\n"
    }
   },
   "outputs": [
    {
     "data": {
      "text/html": [
       "<div>\n",
       "<style>\n",
       "    .dataframe thead tr:only-child th {\n",
       "        text-align: right;\n",
       "    }\n",
       "\n",
       "    .dataframe thead th {\n",
       "        text-align: left;\n",
       "    }\n",
       "\n",
       "    .dataframe tbody tr th {\n",
       "        vertical-align: top;\n",
       "    }\n",
       "</style>\n",
       "<table border=\"1\" class=\"dataframe\">\n",
       "  <thead>\n",
       "    <tr style=\"text-align: right;\">\n",
       "      <th></th>\n",
       "      <th>age</th>\n",
       "      <th>gender</th>\n",
       "      <th>city_type</th>\n",
       "      <th>full_mob</th>\n",
       "      <th>ml_balance</th>\n",
       "      <th>cl_balance_0m</th>\n",
       "      <th>loan_balance_0m</th>\n",
       "      <th>td_balance_0m</th>\n",
       "      <th>casa_balance_0m</th>\n",
       "      <th>dc_trx_cnt</th>\n",
       "      <th>...</th>\n",
       "      <th>min_loan_balance_1q</th>\n",
       "      <th>max_loan_balance_1q</th>\n",
       "      <th>avg_loan_balance_1Y</th>\n",
       "      <th>min_cl_balance_1q</th>\n",
       "      <th>max_cl_balance_1q</th>\n",
       "      <th>avg_cl_balance_1Y</th>\n",
       "      <th>loan_to_deposit</th>\n",
       "      <th>Avg_trx</th>\n",
       "      <th>avgtrx_to_balance</th>\n",
       "      <th>nbi</th>\n",
       "    </tr>\n",
       "  </thead>\n",
       "  <tbody>\n",
       "    <tr>\n",
       "      <th>0</th>\n",
       "      <td>71</td>\n",
       "      <td>NaN</td>\n",
       "      <td>&lt;100</td>\n",
       "      <td>103</td>\n",
       "      <td>0.0</td>\n",
       "      <td>0.0</td>\n",
       "      <td>0.0</td>\n",
       "      <td>0.0</td>\n",
       "      <td>0.0000</td>\n",
       "      <td>0</td>\n",
       "      <td>...</td>\n",
       "      <td>0.0</td>\n",
       "      <td>0.0</td>\n",
       "      <td>0.0</td>\n",
       "      <td>0.0</td>\n",
       "      <td>0.0</td>\n",
       "      <td>0.0</td>\n",
       "      <td>NaN</td>\n",
       "      <td>NaN</td>\n",
       "      <td>NaN</td>\n",
       "      <td>NaN</td>\n",
       "    </tr>\n",
       "    <tr>\n",
       "      <th>1</th>\n",
       "      <td>49</td>\n",
       "      <td>NaN</td>\n",
       "      <td>Mega</td>\n",
       "      <td>81</td>\n",
       "      <td>0.0</td>\n",
       "      <td>0.0</td>\n",
       "      <td>0.0</td>\n",
       "      <td>0.0</td>\n",
       "      <td>3272.9367</td>\n",
       "      <td>0</td>\n",
       "      <td>...</td>\n",
       "      <td>0.0</td>\n",
       "      <td>0.0</td>\n",
       "      <td>0.0</td>\n",
       "      <td>0.0</td>\n",
       "      <td>0.0</td>\n",
       "      <td>0.0</td>\n",
       "      <td>NaN</td>\n",
       "      <td>NaN</td>\n",
       "      <td>NaN</td>\n",
       "      <td>28.762952</td>\n",
       "    </tr>\n",
       "    <tr>\n",
       "      <th>2</th>\n",
       "      <td>56</td>\n",
       "      <td>NaN</td>\n",
       "      <td>Mega</td>\n",
       "      <td>81</td>\n",
       "      <td>0.0</td>\n",
       "      <td>0.0</td>\n",
       "      <td>0.0</td>\n",
       "      <td>0.0</td>\n",
       "      <td>6249.7550</td>\n",
       "      <td>6</td>\n",
       "      <td>...</td>\n",
       "      <td>0.0</td>\n",
       "      <td>0.0</td>\n",
       "      <td>0.0</td>\n",
       "      <td>0.0</td>\n",
       "      <td>0.0</td>\n",
       "      <td>0.0</td>\n",
       "      <td>NaN</td>\n",
       "      <td>854.67</td>\n",
       "      <td>0.083467</td>\n",
       "      <td>1973.335539</td>\n",
       "    </tr>\n",
       "    <tr>\n",
       "      <th>3</th>\n",
       "      <td>47</td>\n",
       "      <td>NaN</td>\n",
       "      <td>Mega</td>\n",
       "      <td>81</td>\n",
       "      <td>0.0</td>\n",
       "      <td>0.0</td>\n",
       "      <td>0.0</td>\n",
       "      <td>0.0</td>\n",
       "      <td>14354.9370</td>\n",
       "      <td>0</td>\n",
       "      <td>...</td>\n",
       "      <td>0.0</td>\n",
       "      <td>0.0</td>\n",
       "      <td>0.0</td>\n",
       "      <td>0.0</td>\n",
       "      <td>0.0</td>\n",
       "      <td>0.0</td>\n",
       "      <td>NaN</td>\n",
       "      <td>NaN</td>\n",
       "      <td>NaN</td>\n",
       "      <td>364.008556</td>\n",
       "    </tr>\n",
       "    <tr>\n",
       "      <th>4</th>\n",
       "      <td>74</td>\n",
       "      <td>NaN</td>\n",
       "      <td>Mega</td>\n",
       "      <td>81</td>\n",
       "      <td>0.0</td>\n",
       "      <td>0.0</td>\n",
       "      <td>0.0</td>\n",
       "      <td>0.0</td>\n",
       "      <td>91511.7691</td>\n",
       "      <td>0</td>\n",
       "      <td>...</td>\n",
       "      <td>0.0</td>\n",
       "      <td>0.0</td>\n",
       "      <td>0.0</td>\n",
       "      <td>0.0</td>\n",
       "      <td>0.0</td>\n",
       "      <td>0.0</td>\n",
       "      <td>NaN</td>\n",
       "      <td>NaN</td>\n",
       "      <td>NaN</td>\n",
       "      <td>6651.416562</td>\n",
       "    </tr>\n",
       "  </tbody>\n",
       "</table>\n",
       "<p>5 rows × 28 columns</p>\n",
       "</div>"
      ],
      "text/plain": [
       "   age gender city_type  full_mob  ml_balance  cl_balance_0m  loan_balance_0m  \\\n",
       "0   71    NaN      <100       103         0.0            0.0              0.0   \n",
       "1   49    NaN      Mega        81         0.0            0.0              0.0   \n",
       "2   56    NaN      Mega        81         0.0            0.0              0.0   \n",
       "3   47    NaN      Mega        81         0.0            0.0              0.0   \n",
       "4   74    NaN      Mega        81         0.0            0.0              0.0   \n",
       "\n",
       "   td_balance_0m  casa_balance_0m  dc_trx_cnt     ...       \\\n",
       "0            0.0           0.0000           0     ...        \n",
       "1            0.0        3272.9367           0     ...        \n",
       "2            0.0        6249.7550           6     ...        \n",
       "3            0.0       14354.9370           0     ...        \n",
       "4            0.0       91511.7691           0     ...        \n",
       "\n",
       "   min_loan_balance_1q  max_loan_balance_1q  avg_loan_balance_1Y  \\\n",
       "0                  0.0                  0.0                  0.0   \n",
       "1                  0.0                  0.0                  0.0   \n",
       "2                  0.0                  0.0                  0.0   \n",
       "3                  0.0                  0.0                  0.0   \n",
       "4                  0.0                  0.0                  0.0   \n",
       "\n",
       "   min_cl_balance_1q  max_cl_balance_1q  avg_cl_balance_1Y  loan_to_deposit  \\\n",
       "0                0.0                0.0                0.0              NaN   \n",
       "1                0.0                0.0                0.0              NaN   \n",
       "2                0.0                0.0                0.0              NaN   \n",
       "3                0.0                0.0                0.0              NaN   \n",
       "4                0.0                0.0                0.0              NaN   \n",
       "\n",
       "   Avg_trx  avgtrx_to_balance          nbi  \n",
       "0      NaN                NaN          NaN  \n",
       "1      NaN                NaN    28.762952  \n",
       "2   854.67           0.083467  1973.335539  \n",
       "3      NaN                NaN   364.008556  \n",
       "4      NaN                NaN  6651.416562  \n",
       "\n",
       "[5 rows x 28 columns]"
      ]
     },
     "execution_count": 8,
     "metadata": {},
     "output_type": "execute_result"
    }
   ],
   "source": [
    "df = pd.read_csv('test_cluster.csv', encoding='cp1251', sep=';')\n",
    "df.head()"
   ]
  },
  {
   "cell_type": "code",
   "execution_count": 12,
   "metadata": {},
   "outputs": [],
   "source": [
    "df_analiz = df.groupby('city_type')['ml_balance','cl_balance_0m'].sum()"
   ]
  },
  {
   "cell_type": "code",
   "execution_count": 13,
   "metadata": {
    "pycharm": {
     "name": "#%%\n"
    }
   },
   "outputs": [
    {
     "data": {
      "text/html": [
       "<div>\n",
       "<style>\n",
       "    .dataframe thead tr:only-child th {\n",
       "        text-align: right;\n",
       "    }\n",
       "\n",
       "    .dataframe thead th {\n",
       "        text-align: left;\n",
       "    }\n",
       "\n",
       "    .dataframe tbody tr th {\n",
       "        vertical-align: top;\n",
       "    }\n",
       "</style>\n",
       "<table border=\"1\" class=\"dataframe\">\n",
       "  <thead>\n",
       "    <tr style=\"text-align: right;\">\n",
       "      <th></th>\n",
       "      <th>ml_balance</th>\n",
       "      <th>cl_balance_0m</th>\n",
       "      <th>ipoteka_del_potreb</th>\n",
       "    </tr>\n",
       "    <tr>\n",
       "      <th>city_type</th>\n",
       "      <th></th>\n",
       "      <th></th>\n",
       "      <th></th>\n",
       "    </tr>\n",
       "  </thead>\n",
       "  <tbody>\n",
       "    <tr>\n",
       "      <th>100-500</th>\n",
       "      <td>1.086098e+08</td>\n",
       "      <td>7.232785e+08</td>\n",
       "      <td>0.150163</td>\n",
       "    </tr>\n",
       "    <tr>\n",
       "      <th>1M+</th>\n",
       "      <td>1.359681e+08</td>\n",
       "      <td>4.438743e+08</td>\n",
       "      <td>0.306321</td>\n",
       "    </tr>\n",
       "    <tr>\n",
       "      <th>500-1000</th>\n",
       "      <td>7.057908e+07</td>\n",
       "      <td>3.966268e+08</td>\n",
       "      <td>0.177948</td>\n",
       "    </tr>\n",
       "    <tr>\n",
       "      <th>&lt;100</th>\n",
       "      <td>1.178792e+08</td>\n",
       "      <td>9.737268e+08</td>\n",
       "      <td>0.121060</td>\n",
       "    </tr>\n",
       "    <tr>\n",
       "      <th>Mega</th>\n",
       "      <td>2.110360e+08</td>\n",
       "      <td>4.793389e+08</td>\n",
       "      <td>0.440265</td>\n",
       "    </tr>\n",
       "  </tbody>\n",
       "</table>\n",
       "</div>"
      ],
      "text/plain": [
       "             ml_balance  cl_balance_0m  ipoteka_del_potreb\n",
       "city_type                                                 \n",
       "100-500    1.086098e+08   7.232785e+08            0.150163\n",
       "1M+        1.359681e+08   4.438743e+08            0.306321\n",
       "500-1000   7.057908e+07   3.966268e+08            0.177948\n",
       "<100       1.178792e+08   9.737268e+08            0.121060\n",
       "Mega       2.110360e+08   4.793389e+08            0.440265"
      ]
     },
     "execution_count": 13,
     "metadata": {},
     "output_type": "execute_result"
    }
   ],
   "source": [
    "df_analiz['ipoteka_del_potreb'] = df.groupby('city_type')['ml_balance'].sum() / df.groupby('city_type')['cl_balance_0m'].sum()\n",
    "df_analiz\n"
   ]
  },
  {
   "cell_type": "markdown",
   "metadata": {},
   "source": [
    "строим датафрейм с данными ипотечной доли кредитов к потребительским"
   ]
  },
  {
   "cell_type": "code",
   "execution_count": 14,
   "metadata": {},
   "outputs": [
    {
     "data": {
      "text/plain": [
       "city_type\n",
       "100-500     0.150163\n",
       "1M+         0.306321\n",
       "500-1000    0.177948\n",
       "<100        0.121060\n",
       "Mega        0.440265\n",
       "Name: ipoteka_del_potreb, dtype: float64"
      ]
     },
     "execution_count": 14,
     "metadata": {},
     "output_type": "execute_result"
    }
   ],
   "source": [
    "df_analiz['ipoteka_del_potreb']"
   ]
  },
  {
   "cell_type": "markdown",
   "metadata": {},
   "source": [
    "Столбчатая диаграмма -показывает отношение общей суммы ипотечных кредитов к потребительским в разрезе численности городов, из которой можно сделать вывод, что если общее отнощение кредитов в городе отличается от статистического, имеет смысл расширить предложения по потребительским либо по ипотечным крелитам."
   ]
  },
  {
   "cell_type": "code",
   "execution_count": 16,
   "metadata": {},
   "outputs": [
    {
     "data": {
      "image/png": "[encoded data removed]",
      "text/plain": [
       "<matplotlib.figure.Figure at 0x278bb3a66d8>"
      ]
     },
     "metadata": {},
     "output_type": "display_data"
    }
   ],
   "source": [
    "df_analiz['ipoteka_del_potreb'].plot(kind='bar')\n",
    "plt.show()"
   ]
  }
 ],
 "metadata": {
  "kernelspec": {
   "display_name": "Python 3",
   "language": "python",
   "name": "python3"
  },
  "language_info": {
   "codemirror_mode": {
    "name": "ipython",
    "version": 3
   },
   "file_extension": ".py",
   "mimetype": "text/x-python",
   "name": "python",
   "nbconvert_exporter": "python",
   "pygments_lexer": "ipython3",
   "version": "3.6.1"
  }
 },
 "nbformat": 4,
 "nbformat_minor": 4
}
