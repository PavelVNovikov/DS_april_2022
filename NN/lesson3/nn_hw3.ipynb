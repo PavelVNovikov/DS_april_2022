{
 "cells": [
  {
   "cell_type": "markdown",
   "id": "4d9a5663-b4b7-4b82-a820-6c6910bdeb44",
   "metadata": {},
   "source": [
    "## Обучить AE собственной архитектуры на MNIST"
   ]
  },
  {
   "cell_type": "code",
   "execution_count": 22,
   "id": "19df40ac-bcc6-450e-b958-3dd868898871",
   "metadata": {},
   "outputs": [],
   "source": [
    "import torch\n",
    "import torch.nn as nn\n",
    "from torchvision import datasets\n",
    "from torch.utils.data import DataLoader\n",
    "import matplotlib.pyplot as plt\n",
    "import gc\n",
    "import torchvision\n",
    "\n",
    "train_dataset = datasets.MNIST('/Users/novikov-pw/Pythoning/MNIST', train = True, download=False,transform=torchvision.transforms.ToTensor())\n",
    "test_dataset = datasets.MNIST('/Users/novikov-pw/Pythoning/MNIST', train = False, download=False,transform=torchvision.transforms.ToTensor())\n",
    "\n",
    "# parameters\n",
    "num_epoch = 10\n",
    "batch_size = 256\n",
    "input_d = 28*28\n",
    "lr=0.001\n",
    "device = torch.device(\"cuda\") if torch.cuda.is_available() else torch.device(\"cpu\")\n"
   ]
  },
  {
   "cell_type": "code",
   "execution_count": 23,
   "id": "62f4fb04-5669-4138-b1a9-43460fac7f3a",
   "metadata": {},
   "outputs": [],
   "source": [
    "# conv autoencoder\n",
    "class AutoEncoder(nn.Module):\n",
    "    def __init__(self):\n",
    "        super().__init__()\n",
    "\n",
    "        self.encoder = nn.Sequential(\n",
    "            nn.Linear(input_d, 128),\n",
    "            nn.ReLU(),\n",
    "            nn.Dropout(0.1),\n",
    "            nn.Linear(128, 64),\n",
    "            nn.ReLU(),\n",
    "            nn.Linear(64, 16),\n",
    "            nn.Dropout(0.1),\n",
    "            nn.ReLU(),\n",
    "            nn.Linear(16, 4)\n",
    "        )\n",
    "        self.decoder = nn.Sequential(\n",
    "            nn.Linear(4, 16),\n",
    "            nn.ReLU(),\n",
    "            nn.Linear(16, 64),\n",
    "            nn.ReLU(),\n",
    "            nn.Linear(64, 128),\n",
    "            nn.ReLU(),\n",
    "            nn.Linear(128, input_d),\n",
    "            nn.ReLU()\n",
    "        )\n",
    "\n",
    "    def forward(self, inputs):\n",
    "        zip = self.encoder(inputs)\n",
    "        unzip = self.decoder(zip)\n",
    "\n",
    "        return zip, unzip"
   ]
  },
  {
   "cell_type": "code",
   "execution_count": 24,
   "id": "507113fe-1673-4e49-a6bb-d29dede0211a",
   "metadata": {},
   "outputs": [],
   "source": [
    "# model\n",
    "gc.collect()\n",
    "torch.cuda.empty_cache()\n",
    "\n",
    "modelAE = AutoEncoder()\n",
    "modelAE = modelAE.to(device)\n",
    "modelAE.train()\n",
    "\n",
    "# optimizer\n",
    "optim = torch.optim.Adam(modelAE.parameters(), lr=lr)\n",
    "\n",
    "# loss function\n",
    "loss_func = nn.MSELoss()"
   ]
  },
  {
   "cell_type": "code",
   "execution_count": 25,
   "id": "cd5e6117-3d2b-4f80-80b6-604f523720dc",
   "metadata": {},
   "outputs": [
    {
     "name": "stdout",
     "output_type": "stream",
     "text": [
      "epoch: 0, loss: 0.06549962610006332\n",
      "epoch: 1, loss: 0.05034709349274635\n",
      "epoch: 2, loss: 0.04428676515817642\n",
      "epoch: 3, loss: 0.04504908248782158\n",
      "epoch: 4, loss: 0.04278663545846939\n",
      "epoch: 5, loss: 0.04185846820473671\n",
      "epoch: 6, loss: 0.04174056276679039\n",
      "epoch: 7, loss: 0.03970763832330704\n",
      "epoch: 8, loss: 0.042052458971738815\n",
      "epoch: 9, loss: 0.039144355803728104\n"
     ]
    }
   ],
   "source": [
    "# traning\n",
    "for epoch in range(num_epoch):\n",
    "    data_loader = DataLoader(dataset=train_dataset,\n",
    "                             batch_size=batch_size,\n",
    "                             shuffle=True,\n",
    "                             drop_last=True,\n",
    "                             )\n",
    "\n",
    "    for data, labels in data_loader:\n",
    "        inputs = data.view(-1, 28*28).to(device)\n",
    "\n",
    "        zip, unzip = modelAE(inputs)\n",
    "\n",
    "        optim.zero_grad()\n",
    "        loss = loss_func(unzip, inputs)\n",
    "        loss.backward()\n",
    "        optim.step()\n",
    "\n",
    "    print(f'epoch: {epoch}, loss: {loss.item()}')\n"
   ]
  },
  {
   "cell_type": "code",
   "execution_count": 27,
   "id": "097a397c-cc3d-434c-9384-701b7cc71fd8",
   "metadata": {},
   "outputs": [
    {
     "data": {
      "image/png": "[encoded data removed]",
      "text/plain": [
       "<Figure size 432x288 with 1 Axes>"
      ]
     },
     "metadata": {
      "needs_background": "light"
     },
     "output_type": "display_data"
    },
    {
     "data": {
      "image/png": "[encoded data removed]",
      "text/plain": [
       "<Figure size 432x288 with 1 Axes>"
      ]
     },
     "metadata": {
      "needs_background": "light"
     },
     "output_type": "display_data"
    }
   ],
   "source": [
    "inputs = (test_dataset.test_data[134].view(-1, 28*28).float() / 255).to(device)\n",
    "plt.imshow(test_dataset.test_data[134])\n",
    "plt.show()\n",
    "code, outputs = modelAE(inputs)\n",
    "plt.imshow(outputs.view(28, 28).cpu().detach().numpy())\n",
    "plt.show()"
   ]
  },
  {
   "cell_type": "markdown",
   "id": "41b18dd5-924f-43b7-8def-b7002bbf5ccf",
   "metadata": {},
   "source": [
    "## Обучить VAE собственной архитектуры на MNIST"
   ]
  },
  {
   "cell_type": "code",
   "execution_count": 28,
   "id": "19df40ac-bcc6-450e-b958-3dd868898871",
   "metadata": {},
   "outputs": [],
   "source": [
    "import torch\n",
    "import torch.nn as nn\n",
    "from torchvision import datasets\n",
    "from torch.utils.data import DataLoader\n",
    "import matplotlib.pyplot as plt\n",
    "import gc\n",
    "import torchvision\n",
    "import torch.nn.functional as F\n",
    "\n",
    "# parsmeters\n",
    "num_epochs = 3\n",
    "batch_size = 128\n",
    "lr=0.001\n",
    "\n",
    "train_dataset = datasets.MNIST('/Users/novikov-pw/Pythoning/MNIST', train = True, download=False,transform=torchvision.transforms.ToTensor())\n",
    "test_dataset = datasets.MNIST('/Users/novikov-pw/Pythoning/MNIST', train = False, download=False,transform=torchvision.transforms.ToTensor())\n",
    "\n",
    "train_loader = DataLoader(train_dataset, batch_size=batch_size, shuffle=True)\n",
    "device = torch.device(\"cuda\") if torch.cuda.is_available() else torch.device(\"cpu\")"
   ]
  },
  {
   "cell_type": "code",
   "execution_count": 29,
   "id": "3207c369-e7fb-42d5-96e1-089dafe88d06",
   "metadata": {},
   "outputs": [],
   "source": [
    "class VAE(nn.Module):\n",
    "    def __init__(self, in_ch=1, hidden_ch=32*20*20, out_ch=256):\n",
    "        super(VAE, self).__init__()\n",
    "        \n",
    "        self.enConv1 = nn.Conv2d(in_ch, 16, 5)\n",
    "        self.enConv2 = nn.Conv2d(16, 32, 5)\n",
    "        self.enFC1 = nn.Linear(hidden_ch, out_ch)\n",
    "        self.enFC2 = nn.Linear(hidden_ch, out_ch)\n",
    "        \n",
    "        self.deFC1 = nn.Linear(out_ch, hidden_ch)\n",
    "        self.deConv1 = nn.ConvTranspose2d(32, 16, 5)\n",
    "        self.deConv2 = nn.ConvTranspose2d(16, in_ch, 5)\n",
    "        \n",
    "    def encoder(self, x):\n",
    "        \n",
    "        x = nn.ReLU()(self.enConv1(x))\n",
    "        x = nn.ReLU()(self.enConv2(x))\n",
    "        x = x.view(-1, 32*20*20)\n",
    "        mu = self.enFC1(x)\n",
    "        logVar = self.enFC2(x)\n",
    "        return mu, logVar\n",
    "    \n",
    "    def reparameterize(self, mu, logVar):\n",
    "        std = torch.exp(logVar /2)\n",
    "        eps = torch.rand_like(std)\n",
    "        \n",
    "        return mu + eps * std\n",
    "        \n",
    "        \n",
    "    def decoder(self, z):\n",
    "        x = nn.ReLU()(self.deFC1(z))\n",
    "        x = x.view(-1, 32, 20, 20)\n",
    "        x = nn.ReLU()(self.deConv1(x))\n",
    "        x = torch.sigmoid(self.deConv2(x))\n",
    "        return x\n",
    "    \n",
    "    def forward(self, x):\n",
    "        mu, logVar = self.encoder(x)\n",
    "        z = self.reparameterize(mu, logVar)\n",
    "        out = self.decoder(z)\n",
    "        return out, mu, logVar\n",
    "        "
   ]
  },
  {
   "cell_type": "code",
   "execution_count": 30,
   "id": "9bd9ea03-66e1-4699-a5b1-100a2fe142e8",
   "metadata": {},
   "outputs": [],
   "source": [
    "# Model\n",
    "modelVAE = VAE().to(device)\n",
    "modelVAE.train()\n",
    "\n",
    "# Optimizator\n",
    "optim = torch.optim.Adam(modelVAE.parameters(), lr=lr)"
   ]
  },
  {
   "cell_type": "code",
   "execution_count": 31,
   "id": "6417a431-5e01-4975-945e-870f670705e8",
   "metadata": {},
   "outputs": [
    {
     "name": "stderr",
     "output_type": "stream",
     "text": [
      "C:\\Anaconda3\\lib\\site-packages\\torch\\nn\\_reduction.py:42: UserWarning: size_average and reduce args will be deprecated, please use reduction='sum' instead.\n",
      "  warnings.warn(warning.format(ret))\n"
     ]
    },
    {
     "name": "stdout",
     "output_type": "stream",
     "text": [
      "epoch: 0, loss: 8597.5888671875\n",
      "epoch: 1, loss: 7895.0859375\n",
      "epoch: 2, loss: 8080.791015625\n"
     ]
    }
   ],
   "source": [
    "# Train\n",
    "\n",
    "gc.collect()\n",
    "torch.cuda.empty_cache()\n",
    "\n",
    "for epoch in range(num_epochs):\n",
    "    for step, batch in enumerate(train_loader):\n",
    "        data, _ = batch\n",
    "        data = data.view(-1, 1,  28, 28).float().to(device)\n",
    "        out, mu, logVar = modelVAE(data)\n",
    "        \n",
    "        kl = 0.5 * torch.sum(-1 - logVar + mu.pow(2) + logVar.exp())\n",
    "        loss = F.binary_cross_entropy(out, data, size_average=False) + kl\n",
    "        \n",
    "        optim.zero_grad()\n",
    "        loss.backward()\n",
    "        optim.step()\n",
    "    print(f'epoch: {epoch}, loss: {loss.item()}')"
   ]
  },
  {
   "cell_type": "code",
   "execution_count": 33,
   "id": "6417a431-5e01-4975-945e-870f670705e8",
   "metadata": {},
   "outputs": [
    {
     "data": {
      "image/png": "[encoded data removed]",
      "text/plain": [
       "<Figure size 432x288 with 1 Axes>"
      ]
     },
     "metadata": {
      "needs_background": "light"
     },
     "output_type": "display_data"
    },
    {
     "data": {
      "image/png": "[encoded data removed]",
      "text/plain": [
       "<Figure size 432x288 with 1 Axes>"
      ]
     },
     "metadata": {
      "needs_background": "light"
     },
     "output_type": "display_data"
    }
   ],
   "source": [
    "img = (test_dataset.test_data[134].view(-1, 1,  28, 28).float() / 255).to(device)\n",
    "plt.imshow(test_dataset.test_data[134])\n",
    "plt.show()\n",
    "out, mu, logVAR = modelVAE(img)\n",
    "plt.imshow(out.view(28, 28).cpu().detach().numpy())\n",
    "plt.show()"
   ]
  }
 ],
 "metadata": {
  "kernelspec": {
   "display_name": "Python 3.9.12 ('base')",
   "language": "python",
   "name": "python3"
  },
  "language_info": {
   "codemirror_mode": {
    "name": "ipython",
    "version": 3
   },
   "file_extension": ".py",
   "mimetype": "text/x-python",
   "name": "python",
   "nbconvert_exporter": "python",
   "pygments_lexer": "ipython3",
   "version": "3.9.7"
  },
  "vscode": {
   "interpreter": {
    "hash": "f9664aef0baf30e2b509990f72aa3245ea02a06f685dd1680e2e8f9c3deed265"
   }
  }
 },
 "nbformat": 4,
 "nbformat_minor": 5
}
