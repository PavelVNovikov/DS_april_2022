{
 "cells": [
  {
   "cell_type": "markdown",
   "metadata": {},
   "source": [
    "Написать на PyTorch forward и backward полносвязного слоя без использования autograd.\n",
    "Написать 1-2 адаптивных оптимизатора.\n",
    "Решить задачу нахождения корней квадратного уравнения методом градиентного спуска."
   ]
  },
  {
   "cell_type": "code",
   "execution_count": 1,
   "metadata": {},
   "outputs": [],
   "source": [
    "import torch\n",
    "import torch.nn as nn"
   ]
  },
  {
   "cell_type": "code",
   "execution_count": 2,
   "metadata": {},
   "outputs": [
    {
     "name": "stdout",
     "output_type": "stream",
     "text": [
      "tensor([1., 2., 3., 4., 5.])\n",
      "Parameter containing:\n",
      "tensor([0.5086, 0.6228, 0.0398, 0.4587, 0.0283], requires_grad=True)\n"
     ]
    },
    {
     "data": {
      "text/plain": [
       "tensor([-0.5356], grad_fn=<AddBackward0>)"
      ]
     },
     "execution_count": 2,
     "metadata": {},
     "output_type": "execute_result"
    }
   ],
   "source": [
    "tensor = torch.tensor([1, 2, 3, 4, 5]).float()\n",
    "wieghts = nn.Parameter(torch.rand(5), requires_grad=True)\n",
    "\n",
    "print(tensor)\n",
    "print(wieghts)\n",
    "# tensor = tensor.detach()\n",
    "# tensor.detach_()\n",
    "\n",
    "linear = wieghts @ tensor.t()\n",
    "\n",
    "activation = nn.ReLU()\n",
    "\n",
    "activated_linear = activation(linear) # torch.relu(linear)\n",
    "\n",
    "linear = nn.Linear(5, 1, bias=True)\n",
    "linear(tensor)"
   ]
  },
  {
   "cell_type": "code",
   "execution_count": 3,
   "metadata": {},
   "outputs": [
    {
     "name": "stdout",
     "output_type": "stream",
     "text": [
      "CustomLinear(\n",
      "  (l1): Linear(in_features=5, out_features=10, bias=True)\n",
      "  (l2): Linear(in_features=10, out_features=10, bias=True)\n",
      "  (l3): Linear(in_features=10, out_features=5, bias=True)\n",
      ")\n"
     ]
    }
   ],
   "source": [
    "#TODO реализовать forward и backward\n",
    "class CustomLinear(nn.Module):\n",
    "    def __init__(self,\n",
    "                 input_dim : int,\n",
    "                 hidden_dim : int,\n",
    "                 out_dim : int,\n",
    "                  *args, **kwargs):\n",
    "        super().__init__()\n",
    "        self.l1 = nn.Linear(input_dim,hidden_dim,bias=True)\n",
    "        self.l2 = nn.Linear(hidden_dim,hidden_dim,bias=True)\n",
    "        self.l3 = nn.Linear(hidden_dim,out_dim,bias=True)\n",
    "\n",
    "    def forward(self, x):\n",
    "        x = nn.ReLU(self.l1(x))\n",
    "        x = nn.ReLU(self.l2(x))\n",
    "        x = self.l3(x)\n",
    "        return x\n",
    "\n",
    "    def backward(self, grad):\n",
    "        pass\n",
    "\n",
    "net = CustomLinear()\n",
    "print(net)\n",
    "\n",
    "# seq = nn.Sequential(\n",
    "#     {\n",
    "#         'linear1': nn.Linear(5, 1, bias=True),\n",
    "#         'relu1': nn.ReLU(),\n",
    "#         'linear2': nn.Linear(5, 1, bias=True),\n",
    "#         'relu2': nn.ReLU(),\n",
    "#         'linear3': nn.Linear(5, 1, bias=True),\n",
    "#         'relu3': nn.ReLU(),\n",
    "#     }\n",
    "# )\n",
    "\n",
    "# predict = seq(tensor)\n",
    "# loss = torch.mean((target - predict) ** 2)\n",
    "# loss.backward()\n",
    "\n"
   ]
  },
  {
   "cell_type": "code",
   "execution_count": 13,
   "metadata": {},
   "outputs": [
    {
     "name": "stdout",
     "output_type": "stream",
     "text": [
      "i =  911\n",
      "(1.0000099482460874, 911)\n"
     ]
    }
   ],
   "source": [
    "# Решить задачу нахождения корней квадратного уравнения методом градиентного спуска.\n",
    "a, b, c = 1, -2, 1\n",
    "\n",
    "func = lambda x: (a*x**2 + b*x + c)\n",
    "gradient = lambda x: (2*a*x + b)\n",
    "h = 0.01\n",
    "\n",
    "def solver(x_start):\n",
    "    x = x_start\n",
    "    for i in range(1000):\n",
    "        x -= h * gradient(x)\n",
    "        if abs(func(x)) < 0.0000000001:\n",
    "            print('i = ',i)\n",
    "            return x, i\n",
    "    print(func(x))\n",
    "    print(x)\n",
    "    \n",
    "print(solver(1000))"
   ]
  }
 ],
 "metadata": {
  "interpreter": {
   "hash": "97ae724bfa85b9b34df7982b8bb8c7216f435b92902d749e4263f71162bea840"
  },
  "kernelspec": {
   "display_name": "Python 3.9.7 ('base')",
   "language": "python",
   "name": "python3"
  },
  "language_info": {
   "codemirror_mode": {
    "name": "ipython",
    "version": 3
   },
   "file_extension": ".py",
   "mimetype": "text/x-python",
   "name": "python",
   "nbconvert_exporter": "python",
   "pygments_lexer": "ipython3",
   "version": "3.9.7"
  },
  "orig_nbformat": 4
 },
 "nbformat": 4,
 "nbformat_minor": 2
}
