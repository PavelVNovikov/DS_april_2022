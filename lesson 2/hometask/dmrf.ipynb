{
 "cells": [
  {
   "cell_type": "markdown",
   "metadata": {
    "collapsed": false,
    "pycharm": {
     "name": "#%% md\n"
    }
   },
   "source": [
    "# Задание\n",
    "* Собрать информацию о всех строящихся объектах на сайте \"наш.дом.рф\"\n",
    "* Cохранить ее в pandas dataframe\n",
    "* Cохранить pandas dataframe в excel\n",
    "* Cохранить pandas dataframe в pickle\n",
    "* Cохранить pandas dataframe в БД\n",
    "\n",
    "# Задание *\n",
    "* Написать скрипт, который скачивает фотографии всех строящихся объектов с сайта \"наш.дом.рф\"\n"
   ]
  },
  {
   "cell_type": "code",
   "execution_count": 38,
   "metadata": {
    "collapsed": false,
    "pycharm": {
     "name": "#%%\n"
    }
   },
   "outputs": [],
   "source": [
    "import requests\n",
    "import pandas as pd\n",
    "import pickle"
   ]
  },
  {
   "cell_type": "markdown",
   "metadata": {
    "collapsed": false,
    "pycharm": {
     "name": "#%% md\n"
    }
   },
   "source": [
    "## Список объектов"
   ]
  },
  {
   "cell_type": "code",
   "execution_count": 3,
   "metadata": {
    "collapsed": false,
    "pycharm": {
     "name": "#%%\n"
    }
   },
   "outputs": [],
   "source": [
    "offset_ = 1\n",
    "limit_ = 4000\n",
    "url = f'https://xn--80az8a.xn--d1aqf.xn--p1ai/%D1%81%D0%B5%D1%80%D0%B2%D0%B8%D1%81%D1%8B/api/kn/object?offset={offset_}&limit={limit_}&sortField=devId.devShortCleanNm&sortType=asc&objStatus=0'\n",
    "res = requests.get(url)\n",
    "objects_data = res.json()"
   ]
  },
  {
   "cell_type": "markdown",
   "metadata": {},
   "source": [
    "* Cохранить ее в pandas dataframe"
   ]
  },
  {
   "cell_type": "code",
   "execution_count": 28,
   "metadata": {},
   "outputs": [
    {
     "data": {
      "text/html": [
       "<div>\n",
       "<style>\n",
       "    .dataframe thead tr:only-child th {\n",
       "        text-align: right;\n",
       "    }\n",
       "\n",
       "    .dataframe thead th {\n",
       "        text-align: left;\n",
       "    }\n",
       "\n",
       "    .dataframe tbody tr th {\n",
       "        vertical-align: top;\n",
       "    }\n",
       "</style>\n",
       "<table border=\"1\" class=\"dataframe\">\n",
       "  <thead>\n",
       "    <tr style=\"text-align: right;\">\n",
       "      <th></th>\n",
       "      <th>buildType</th>\n",
       "      <th>complexShortName</th>\n",
       "      <th>developer</th>\n",
       "      <th>latitude</th>\n",
       "      <th>longitude</th>\n",
       "      <th>objAddr</th>\n",
       "      <th>objCommercNm</th>\n",
       "      <th>objCompensFundFlg</th>\n",
       "      <th>objElemLivingCnt</th>\n",
       "      <th>objFloorMax</th>\n",
       "      <th>...</th>\n",
       "      <th>objProblemFlg</th>\n",
       "      <th>objReady100PercDt</th>\n",
       "      <th>objSquareLiving</th>\n",
       "      <th>objStatus</th>\n",
       "      <th>pdId</th>\n",
       "      <th>problemFlag</th>\n",
       "      <th>residentialBuildings</th>\n",
       "      <th>rpdNum</th>\n",
       "      <th>rpdRegionCd</th>\n",
       "      <th>siteStatus</th>\n",
       "    </tr>\n",
       "  </thead>\n",
       "  <tbody>\n",
       "    <tr>\n",
       "      <th>0</th>\n",
       "      <td>Жилое</td>\n",
       "      <td>NaN</td>\n",
       "      <td>{'devId': 306, 'shortName': '2МЕН ГРУПП', 'ful...</td>\n",
       "      <td>57.1519</td>\n",
       "      <td>65.5544</td>\n",
       "      <td>г Тюмень, ул Профсоюзная, д. 56</td>\n",
       "      <td>NaN</td>\n",
       "      <td>0</td>\n",
       "      <td>43</td>\n",
       "      <td>10</td>\n",
       "      <td>...</td>\n",
       "      <td>0</td>\n",
       "      <td>2024-12-31</td>\n",
       "      <td>4812.98</td>\n",
       "      <td>0</td>\n",
       "      <td>28141</td>\n",
       "      <td>NONE</td>\n",
       "      <td>1</td>\n",
       "      <td>72-000097</td>\n",
       "      <td>72</td>\n",
       "      <td>Строящиеся</td>\n",
       "    </tr>\n",
       "    <tr>\n",
       "      <th>1</th>\n",
       "      <td>Жилое</td>\n",
       "      <td>NaN</td>\n",
       "      <td>{'devId': 306, 'shortName': '2МЕН ГРУПП', 'ful...</td>\n",
       "      <td>57.1530</td>\n",
       "      <td>65.5343</td>\n",
       "      <td>г Тюмень</td>\n",
       "      <td>NaN</td>\n",
       "      <td>1</td>\n",
       "      <td>68</td>\n",
       "      <td>20</td>\n",
       "      <td>...</td>\n",
       "      <td>0</td>\n",
       "      <td>2022-06-30</td>\n",
       "      <td>6289.98</td>\n",
       "      <td>0</td>\n",
       "      <td>28105</td>\n",
       "      <td>NONE</td>\n",
       "      <td>1</td>\n",
       "      <td>72-000095</td>\n",
       "      <td>72</td>\n",
       "      <td>Строящиеся</td>\n",
       "    </tr>\n",
       "    <tr>\n",
       "      <th>2</th>\n",
       "      <td>Жилое</td>\n",
       "      <td>NaN</td>\n",
       "      <td>{'devId': 306, 'shortName': '2МЕН ГРУПП', 'ful...</td>\n",
       "      <td>57.1519</td>\n",
       "      <td>65.5544</td>\n",
       "      <td>г Тюмень, ул Профсоюзная, д. 56</td>\n",
       "      <td>NaN</td>\n",
       "      <td>0</td>\n",
       "      <td>65</td>\n",
       "      <td>12</td>\n",
       "      <td>...</td>\n",
       "      <td>0</td>\n",
       "      <td>2024-12-31</td>\n",
       "      <td>6248.51</td>\n",
       "      <td>0</td>\n",
       "      <td>28141</td>\n",
       "      <td>NONE</td>\n",
       "      <td>1</td>\n",
       "      <td>72-000097</td>\n",
       "      <td>72</td>\n",
       "      <td>Строящиеся</td>\n",
       "    </tr>\n",
       "    <tr>\n",
       "      <th>3</th>\n",
       "      <td>Жилое</td>\n",
       "      <td>NaN</td>\n",
       "      <td>{'devId': 306, 'shortName': '2МЕН ГРУПП', 'ful...</td>\n",
       "      <td>57.1541</td>\n",
       "      <td>65.5595</td>\n",
       "      <td>г Тюмень, ул Профсоюзная</td>\n",
       "      <td>NaN</td>\n",
       "      <td>1</td>\n",
       "      <td>44</td>\n",
       "      <td>12</td>\n",
       "      <td>...</td>\n",
       "      <td>0</td>\n",
       "      <td>2022-06-30</td>\n",
       "      <td>4293.67</td>\n",
       "      <td>0</td>\n",
       "      <td>28101</td>\n",
       "      <td>NONE</td>\n",
       "      <td>1</td>\n",
       "      <td>72-000096</td>\n",
       "      <td>72</td>\n",
       "      <td>Строящиеся</td>\n",
       "    </tr>\n",
       "    <tr>\n",
       "      <th>4</th>\n",
       "      <td>Жилое</td>\n",
       "      <td>NaN</td>\n",
       "      <td>{'devId': 6811, 'shortName': '84 ВЫСОТА', 'ful...</td>\n",
       "      <td>60.2152</td>\n",
       "      <td>30.3089</td>\n",
       "      <td>д Агалатово</td>\n",
       "      <td>Жилой комплекс \"84 высота\"</td>\n",
       "      <td>1</td>\n",
       "      <td>54</td>\n",
       "      <td>10</td>\n",
       "      <td>...</td>\n",
       "      <td>0</td>\n",
       "      <td>2022-06-30</td>\n",
       "      <td>2748.15</td>\n",
       "      <td>0</td>\n",
       "      <td>64486</td>\n",
       "      <td>NONE</td>\n",
       "      <td>1</td>\n",
       "      <td>47-000416</td>\n",
       "      <td>47</td>\n",
       "      <td>Строящиеся</td>\n",
       "    </tr>\n",
       "  </tbody>\n",
       "</table>\n",
       "<p>5 rows × 23 columns</p>\n",
       "</div>"
      ],
      "text/plain": [
       "  buildType complexShortName  \\\n",
       "0     Жилое              NaN   \n",
       "1     Жилое              NaN   \n",
       "2     Жилое              NaN   \n",
       "3     Жилое              NaN   \n",
       "4     Жилое              NaN   \n",
       "\n",
       "                                           developer  latitude  longitude  \\\n",
       "0  {'devId': 306, 'shortName': '2МЕН ГРУПП', 'ful...   57.1519    65.5544   \n",
       "1  {'devId': 306, 'shortName': '2МЕН ГРУПП', 'ful...   57.1530    65.5343   \n",
       "2  {'devId': 306, 'shortName': '2МЕН ГРУПП', 'ful...   57.1519    65.5544   \n",
       "3  {'devId': 306, 'shortName': '2МЕН ГРУПП', 'ful...   57.1541    65.5595   \n",
       "4  {'devId': 6811, 'shortName': '84 ВЫСОТА', 'ful...   60.2152    30.3089   \n",
       "\n",
       "                           objAddr                objCommercNm  \\\n",
       "0  г Тюмень, ул Профсоюзная, д. 56                         NaN   \n",
       "1                         г Тюмень                         NaN   \n",
       "2  г Тюмень, ул Профсоюзная, д. 56                         NaN   \n",
       "3         г Тюмень, ул Профсоюзная                         NaN   \n",
       "4                      д Агалатово  Жилой комплекс \"84 высота\"   \n",
       "\n",
       "   objCompensFundFlg  objElemLivingCnt  objFloorMax     ...      \\\n",
       "0                  0                43           10     ...       \n",
       "1                  1                68           20     ...       \n",
       "2                  0                65           12     ...       \n",
       "3                  1                44           12     ...       \n",
       "4                  1                54           10     ...       \n",
       "\n",
       "   objProblemFlg  objReady100PercDt  objSquareLiving  objStatus   pdId  \\\n",
       "0              0         2024-12-31          4812.98          0  28141   \n",
       "1              0         2022-06-30          6289.98          0  28105   \n",
       "2              0         2024-12-31          6248.51          0  28141   \n",
       "3              0         2022-06-30          4293.67          0  28101   \n",
       "4              0         2022-06-30          2748.15          0  64486   \n",
       "\n",
       "   problemFlag  residentialBuildings     rpdNum rpdRegionCd  siteStatus  \n",
       "0         NONE                     1  72-000097          72  Строящиеся  \n",
       "1         NONE                     1  72-000095          72  Строящиеся  \n",
       "2         NONE                     1  72-000097          72  Строящиеся  \n",
       "3         NONE                     1  72-000096          72  Строящиеся  \n",
       "4         NONE                     1  47-000416          47  Строящиеся  \n",
       "\n",
       "[5 rows x 23 columns]"
      ]
     },
     "execution_count": 28,
     "metadata": {},
     "output_type": "execute_result"
    }
   ],
   "source": [
    "len(objects_data)\n",
    "df = pd.DataFrame.from_dict(objects_data['data']['list'])\n",
    "df.head(5)"
   ]
  },
  {
   "cell_type": "code",
   "execution_count": 33,
   "metadata": {
    "collapsed": false,
    "pycharm": {
     "name": "#%%\n"
    }
   },
   "outputs": [],
   "source": [
    "# Cохранить pandas dataframe в excel\n",
    "df.to_excel('hometask.xls', index=False)"
   ]
  },
  {
   "cell_type": "code",
   "execution_count": 39,
   "metadata": {},
   "outputs": [],
   "source": [
    "# Cохранить pandas dataframe в pickle\n",
    "with open('hometask.pkl','wb') as f:\n",
    "\tpickle.dump(df, f)"
   ]
  },
  {
   "cell_type": "code",
   "execution_count": 47,
   "metadata": {},
   "outputs": [],
   "source": [
    "# Cохранить pandas dataframe в БД\n",
    "df.to_csv('hometask.csv', index=False)"
   ]
  },
  {
   "cell_type": "markdown",
   "metadata": {
    "collapsed": false,
    "pycharm": {
     "name": "#%% md\n"
    }
   },
   "source": [
    "# Данные по определенному объекту"
   ]
  },
  {
   "cell_type": "code",
   "execution_count": 73,
   "metadata": {
    "collapsed": false,
    "pycharm": {
     "name": "#%%\n"
    }
   },
   "outputs": [],
   "source": [
    "# url = f'https://xn--80az8a.xn--d1aqf.xn--p1ai/%D1%81%D0%B5%D1%80%D0%B2%D0%B8%D1%81%D1%8B/api/object/36774'\n",
    "url = f'https://xn--80az8a.xn--d1aqf.xn--p1ai/%D1%81%D0%B5%D1%80%D0%B2%D0%B8%D1%81%D1%8B/api/object/46031'\n",
    "\n",
    "# url_set = [\"f'https://xn--80az8a.xn--d1aqf.xn--p1ai/%D1%81%D0%B5%D1%80%D0%B2%D0%B8%D1%81%D1%8B/api/object/\" + str(x) + \"'\" for x in objids[:]]\n",
    "url_set = [str(\"https://xn--80az8a.xn--d1aqf.xn--p1ai/%D1%81%D0%B5%D1%80%D0%B2%D0%B8%D1%81%D1%8B/api/object/\") + str(x) for x in objids[:]]"
   ]
  },
  {
   "cell_type": "code",
   "execution_count": 75,
   "metadata": {},
   "outputs": [
    {
     "data": {
      "text/plain": [
       "str"
      ]
     },
     "execution_count": 75,
     "metadata": {},
     "output_type": "execute_result"
    }
   ],
   "source": [
    "type(url_set[:])\n",
    "type(url)"
   ]
  },
  {
   "cell_type": "code",
   "execution_count": 74,
   "metadata": {},
   "outputs": [
    {
     "name": "stdout",
     "output_type": "stream",
     "text": [
      "https://xn--80az8a.xn--d1aqf.xn--p1ai/%D1%81%D0%B5%D1%80%D0%B2%D0%B8%D1%81%D1%8B/api/object/46031\n",
      "['https://xn--80az8a.xn--d1aqf.xn--p1ai/%D1%81%D0%B5%D1%80%D0%B2%D0%B8%D1%81%D1%8B/api/object/13398', 'https://xn--80az8a.xn--d1aqf.xn--p1ai/%D1%81%D0%B5%D1%80%D0%B2%D0%B8%D1%81%D1%8B/api/object/13383', 'https://xn--80az8a.xn--d1aqf.xn--p1ai/%D1%81%D0%B5%D1%80%D0%B2%D0%B8%D1%81%D1%8B/api/object/13397', 'https://xn--80az8a.xn--d1aqf.xn--p1ai/%D1%81%D0%B5%D1%80%D0%B2%D0%B8%D1%81%D1%8B/api/object/13391', 'https://xn--80az8a.xn--d1aqf.xn--p1ai/%D1%81%D0%B5%D1%80%D0%B2%D0%B8%D1%81%D1%8B/api/object/23682', 'https://xn--80az8a.xn--d1aqf.xn--p1ai/%D1%81%D0%B5%D1%80%D0%B2%D0%B8%D1%81%D1%8B/api/object/36321']\n"
     ]
    }
   ],
   "source": [
    "print (url)\n",
    "print(url_set[:6])"
   ]
  },
  {
   "cell_type": "code",
   "execution_count": 82,
   "metadata": {
    "collapsed": false,
    "pycharm": {
     "name": "#%%\n"
    }
   },
   "outputs": [
    {
     "data": {
      "text/plain": [
       "{'data': {'address': 'г Тюмень, ул Профсоюзная, д. 56',\n",
       "  'conclusion': False,\n",
       "  'developer': {'buildObjCnt': 5,\n",
       "   'comissObjCnt': 0,\n",
       "   'companyGroupId': 5776,\n",
       "   'devEmail': 'info@2mengroup.ru',\n",
       "   'devEmplMainFullNm': 'Киселев Сергей Михайлович',\n",
       "   'devFactAddr': 'Тюменская область, город Тюмень, улица Комсомольская 75/5',\n",
       "   'devFullCleanNm': '2МЕН ГРУПП',\n",
       "   'devId': 306,\n",
       "   'devInn': '7701651356',\n",
       "   'devKpp': '720301001',\n",
       "   'devLegalAddr': 'Тюменская область, город Тюмень, улица Комсомольская дом 75/5',\n",
       "   'devOgrn': '1067746424899',\n",
       "   'devOrgRegRegionCd': 72,\n",
       "   'devPhoneNum': '+7(345)279-18-88',\n",
       "   'devShortCleanNm': '2МЕН ГРУПП',\n",
       "   'devShortNm': '2МЕН ГРУПП',\n",
       "   'devSite': '2mengroup.ru',\n",
       "   'developerGroupName': '2МЕН ГРУПП ДЕВЕЛОПМЕНТ',\n",
       "   'fundGuarantyFlg': 1,\n",
       "   'govFundFlg': 0,\n",
       "   'lastRpdId': 592262,\n",
       "   'objGuarantyEscrowFlg': 0,\n",
       "   'orgForm': {'fullForm': 'Акционерное общество', 'id': 1, 'shortForm': 'АО'},\n",
       "   'problObjCnt': 0,\n",
       "   'regRegionDesc': 'Тюменская область'},\n",
       "  'floorMax': 12,\n",
       "  'floorMin': 6,\n",
       "  'generalContractorNm': 'ООО Транспромжилстрой-2005 (ИНН: 7204097730)',\n",
       "  'id': 13397,\n",
       "  'infrastructureIndexValue': 10,\n",
       "  'isAvailableWantLiveHere': True,\n",
       "  'loadDttm': '11-05-2022 01:10',\n",
       "  'miniUrl': 'https://xn--80az8a.xn--d1aqf.xn--p1ai/api/ext/file/cb641b0a-8580-4cbd-9f0c-1dca386bdb97',\n",
       "  'newBuildingId': 37201,\n",
       "  'nonlivFirstFloor': 0,\n",
       "  'objCompensFundFlg': 0,\n",
       "  'objElemLivingCnt': 65,\n",
       "  'objElemParkingCnt': 0,\n",
       "  'objElevatorCargoCnt': 4,\n",
       "  'objElevatorPassengerCnt': 5,\n",
       "  'objElevatorWheelchairCnt': 0,\n",
       "  'objEnergyEffShortDesc': 'B',\n",
       "  'objFlatCnt': 65,\n",
       "  'objFlatSq': '6248.51',\n",
       "  'objFloorCnt': 12,\n",
       "  'objGreenHouseFlg': 0,\n",
       "  'objGuarantyEscrowFlg': 0,\n",
       "  'objInfrstrBicycleLaneFlg': 0,\n",
       "  'objInfrstrCurbLoweringFlg': 1,\n",
       "  'objInfrstrNotObjPrkngCnt': 10,\n",
       "  'objInfrstrObjPrkngCnt': 11,\n",
       "  'objInfrstrPlaygrndCnt': 1,\n",
       "  'objInfrstrRampFlg': 1,\n",
       "  'objInfrstrSportGroundCnt': 1,\n",
       "  'objInfrstrTrashAreaCnt': 1,\n",
       "  'objLivCeilingHeight': '2,96',\n",
       "  'objLkClassDesc': 'Элитный',\n",
       "  'objLkFinishTypeDesc': 'Без отделки',\n",
       "  'objLkFreePlanDesc': 'Нет',\n",
       "  'objLkLatitude': '57.1519',\n",
       "  'objLkLongitude': '65.5544',\n",
       "  'objLkSaleDepEmail': 'info@2mengroup.ru',\n",
       "  'objNonlivElemCnt': 70,\n",
       "  'objPriceAvg': 45523,\n",
       "  'objProblemFlg': 0,\n",
       "  'objReady100PercDt': '2024-12-31',\n",
       "  'objSquareLiving': 6248.51,\n",
       "  'objStatus': 0,\n",
       "  'objTransferPlanDt': '28-02-2025 12:00',\n",
       "  'objectTransportInfo': [],\n",
       "  'objectType': 'normal',\n",
       "  'pdId': 28141,\n",
       "  'photoRenderDTO': [{'devId': 306,\n",
       "    'knFlg': 1,\n",
       "    'loadDttm': '11-05-2022 00:55',\n",
       "    'objBuildTypeShortDesc': 'Жилое',\n",
       "    'objId': 13397,\n",
       "    'objReadyDesc': 'Строится',\n",
       "    'objRenderPhotoDttm': '12-05-2021 16:54',\n",
       "    'objRenderPhotoHiddenFlg': 0,\n",
       "    'objRenderPhotoNm': 'IMG_20210512_094406.jpg',\n",
       "    'objRenderPhotoSize': 1495964,\n",
       "    'objRenderPhotoUrl': 'https://xn--80az8a.xn--d1aqf.xn--p1ai/api/ext/file/3468baf9-f5b6-446b-a6b9-1b3147d72e28',\n",
       "    'ordNum': 1,\n",
       "    'pdId': 28141,\n",
       "    'rpdId': 592262},\n",
       "   {'devId': 306,\n",
       "    'knFlg': 1,\n",
       "    'loadDttm': '11-05-2022 00:55',\n",
       "    'objBuildTypeShortDesc': 'Жилое',\n",
       "    'objId': 13397,\n",
       "    'objReadyDesc': 'Строится',\n",
       "    'objRenderPhotoDttm': '12-05-2021 16:54',\n",
       "    'objRenderPhotoHiddenFlg': 0,\n",
       "    'objRenderPhotoNm': 'IMG_20210512_094452.jpg',\n",
       "    'objRenderPhotoSize': 1079175,\n",
       "    'objRenderPhotoUrl': 'https://xn--80az8a.xn--d1aqf.xn--p1ai/api/ext/file/c602e57b-9ff4-4f95-8733-a507e50eaebe',\n",
       "    'ordNum': 2,\n",
       "    'pdId': 28141,\n",
       "    'rpdId': 592262},\n",
       "   {'devId': 306,\n",
       "    'knFlg': 1,\n",
       "    'loadDttm': '11-05-2022 00:55',\n",
       "    'objBuildTypeShortDesc': 'Жилое',\n",
       "    'objId': 13397,\n",
       "    'objReadyDesc': 'Строится',\n",
       "    'objRenderPhotoDttm': '12-05-2021 16:54',\n",
       "    'objRenderPhotoHiddenFlg': 0,\n",
       "    'objRenderPhotoNm': 'IMG_20210512_0948551.jpg',\n",
       "    'objRenderPhotoSize': 1222192,\n",
       "    'objRenderPhotoUrl': 'https://xn--80az8a.xn--d1aqf.xn--p1ai/api/ext/file/d6b9d8ea-1541-4526-9bb3-adb413f746bf',\n",
       "    'ordNum': 3,\n",
       "    'pdId': 28141,\n",
       "    'rpdId': 592262},\n",
       "   {'devId': 306,\n",
       "    'knFlg': 1,\n",
       "    'loadDttm': '11-05-2022 00:55',\n",
       "    'objBuildTypeShortDesc': 'Жилое',\n",
       "    'objId': 13397,\n",
       "    'objReadyDesc': 'Строится',\n",
       "    'objRenderPhotoDttm': '12-05-2021 16:54',\n",
       "    'objRenderPhotoHiddenFlg': 0,\n",
       "    'objRenderPhotoNm': 'IMG_20210512_0949152.jpg',\n",
       "    'objRenderPhotoSize': 978388,\n",
       "    'objRenderPhotoUrl': 'https://xn--80az8a.xn--d1aqf.xn--p1ai/api/ext/file/8745e4bc-b106-4917-b0ab-cffc2ec20a2d',\n",
       "    'ordNum': 4,\n",
       "    'pdId': 28141,\n",
       "    'rpdId': 592262}],\n",
       "  'quartography': {'objLivElem1KCnt': 0,\n",
       "   'objLivElem2KCnt': 24,\n",
       "   'objLivElem3KCnt': 35,\n",
       "   'objLivElem4KCnt': 6,\n",
       "   'objLivElemCnt': 65,\n",
       "   'objLivElemEntrCnt': 4,\n",
       "   'objLivElemEntrFloorAvg': 3},\n",
       "  'region': 72,\n",
       "  'residentialBuildings': 1,\n",
       "  'rpdIssueDttm': '06-05-2022 11:23',\n",
       "  'rpdNum': '72-000097',\n",
       "  'rpdPdfLink': 'https://xn--80az8a.xn--d1aqf.xn--p1ai/api/ext/file/6697e54c-5c39-472c-b349-95cc5b0e8abb',\n",
       "  'soldOutPerc': 0.99998399618469,\n",
       "  'wallMaterialShortDesc': 'Другое'},\n",
       " 'errcode': '0'}"
      ]
     },
     "execution_count": 82,
     "metadata": {},
     "output_type": "execute_result"
    }
   ],
   "source": [
    "# res = requests.get(url)\n",
    "res = requests.get(url_set[2])\n",
    "res.json()"
   ]
  },
  {
   "cell_type": "markdown",
   "metadata": {},
   "source": [
    "Получаем массив данных по каждому объекту:"
   ]
  },
  {
   "cell_type": "code",
   "execution_count": 88,
   "metadata": {
    "collapsed": false,
    "pycharm": {
     "name": "#%%\n"
    }
   },
   "outputs": [
    {
     "data": {
      "text/plain": [
       "{'data': {'address': 'г Владивосток, район Ленинский, ул 10-я Рабочая, д. 80',\n",
       "  'conclusion': False,\n",
       "  'developer': {'buildObjCnt': 1,\n",
       "   'comissObjCnt': 0,\n",
       "   'devEmail': '1962166@mail.ru',\n",
       "   'devEmplMainFullNm': 'Жимолдинов Михаил Михайлович',\n",
       "   'devFactAddr': 'край Приморский, г Владивосток, ул Прапорщика Комарова д. 58',\n",
       "   'devFullCleanNm': 'CПЕЦИАЛИЗИРОВАННЫЙ ЗАСТРОЙЩИК АЗИЯ-КОНТРАКТ',\n",
       "   'devId': 10195,\n",
       "   'devInn': '2536319917',\n",
       "   'devKpp': '253601001',\n",
       "   'devLegalAddr': 'Приморский край, город Владивосток, улица Прапорщика Комарова дом 58',\n",
       "   'devOgrn': '1192536030169',\n",
       "   'devOrgRegRegionCd': 25,\n",
       "   'devPhoneNum': '+7(914)196-21-66',\n",
       "   'devShortCleanNm': 'CЗ АЗИЯ-КОНТРАКТ',\n",
       "   'devShortNm': 'CЗ АЗИЯ-КОНТРАКТ',\n",
       "   'devSite': 'lasto4ka.ru',\n",
       "   'fundGuarantyFlg': 0,\n",
       "   'govFundFlg': 0,\n",
       "   'lastRpdId': 590479,\n",
       "   'objGuarantyEscrowFlg': 1,\n",
       "   'orgForm': {'fullForm': 'Общество с ограниченной ответственностью',\n",
       "    'id': 4,\n",
       "    'shortForm': 'ООО'},\n",
       "   'problObjCnt': 0,\n",
       "   'regRegionDesc': 'Приморский край'},\n",
       "  'floorMax': 25,\n",
       "  'floorMin': 25,\n",
       "  'generalContractorNm': 'ООО \"Тихоокеанская строительная компания\" (ИНН: 2539079741)',\n",
       "  'id': 36321,\n",
       "  'infrastructureIndexValue': 9,\n",
       "  'isAvailableWantLiveHere': True,\n",
       "  'loadDttm': '11-05-2022 01:10',\n",
       "  'miniUrl': 'https://xn--80az8a.xn--d1aqf.xn--p1ai/api/ext/file/3a313534-1dfc-4c70-9e38-97740c0055ee',\n",
       "  'newBuildingId': 116538,\n",
       "  'nonlivFirstFloor': 0,\n",
       "  'objCompensFundFlg': 0,\n",
       "  'objElemLivingCnt': 120,\n",
       "  'objElemParkingCnt': 76,\n",
       "  'objElevatorCargoCnt': 2,\n",
       "  'objElevatorPassengerCnt': 3,\n",
       "  'objElevatorWheelchairCnt': 0,\n",
       "  'objEnergyEffShortDesc': 'B',\n",
       "  'objFlatCnt': 120,\n",
       "  'objFlatSq': '8002.4',\n",
       "  'objFloorCnt': 25,\n",
       "  'objGreenHouseFlg': 0,\n",
       "  'objGuarantyEscrowFlg': 1,\n",
       "  'objInfrstrBicycleLaneFlg': 0,\n",
       "  'objInfrstrCurbLoweringFlg': 0,\n",
       "  'objInfrstrNotObjPrkngCnt': 0,\n",
       "  'objInfrstrObjPrkngCnt': 0,\n",
       "  'objInfrstrPlaygrndCnt': 1,\n",
       "  'objInfrstrRampFlg': 0,\n",
       "  'objInfrstrSportGroundCnt': 1,\n",
       "  'objInfrstrTrashAreaCnt': 2,\n",
       "  'objLivCeilingHeight': '2,7',\n",
       "  'objLkClassDesc': 'Комфорт',\n",
       "  'objLkFinishTypeDesc': 'Без отделки',\n",
       "  'objLkFreePlanDesc': 'Есть',\n",
       "  'objLkLatitude': '43.1258',\n",
       "  'objLkLongitude': '131.9341',\n",
       "  'objLkSaleDepEmail': 'dom@lasto4ka.ru',\n",
       "  'objNonlivElemCnt': 10,\n",
       "  'objPriceAvg': 132614,\n",
       "  'objProblemFlg': 0,\n",
       "  'objReady100PercDt': '2022-06-30',\n",
       "  'objSquareLiving': 8002.4,\n",
       "  'objStatus': 0,\n",
       "  'objTransferPlanDt': '31-07-2022 12:00',\n",
       "  'objectTransportInfo': [],\n",
       "  'objectType': 'normal',\n",
       "  'pdId': 319464,\n",
       "  'photoRenderDTO': [{'devId': 10195,\n",
       "    'knFlg': 1,\n",
       "    'loadDttm': '11-05-2022 00:55',\n",
       "    'objBuildTypeShortDesc': 'Жилое',\n",
       "    'objId': 36321,\n",
       "    'objReadyDesc': 'Строится',\n",
       "    'objRenderPhotoDttm': '27-10-2020 16:43',\n",
       "    'objRenderPhotoHiddenFlg': 0,\n",
       "    'objRenderPhotoNm': '1.jpg',\n",
       "    'objRenderPhotoSize': 3286107,\n",
       "    'objRenderPhotoUrl': 'https://xn--80az8a.xn--d1aqf.xn--p1ai/api/ext/file/84998a75-a525-4b71-a547-05683c695078',\n",
       "    'ordNum': 1,\n",
       "    'pdId': 319464,\n",
       "    'rpdId': 590479},\n",
       "   {'devId': 10195,\n",
       "    'knFlg': 1,\n",
       "    'loadDttm': '11-05-2022 00:55',\n",
       "    'objBuildTypeShortDesc': 'Жилое',\n",
       "    'objId': 36321,\n",
       "    'objReadyDesc': 'Строится',\n",
       "    'objRenderPhotoDttm': '27-10-2020 16:43',\n",
       "    'objRenderPhotoHiddenFlg': 0,\n",
       "    'objRenderPhotoNm': '31.jpg',\n",
       "    'objRenderPhotoSize': 3811944,\n",
       "    'objRenderPhotoUrl': 'https://xn--80az8a.xn--d1aqf.xn--p1ai/api/ext/file/1fd47081-f370-472c-a43f-42966dfd844b',\n",
       "    'ordNum': 2,\n",
       "    'pdId': 319464,\n",
       "    'rpdId': 590479},\n",
       "   {'devId': 10195,\n",
       "    'knFlg': 1,\n",
       "    'loadDttm': '11-05-2022 00:55',\n",
       "    'objBuildTypeShortDesc': 'Жилое',\n",
       "    'objId': 36321,\n",
       "    'objReadyDesc': 'Строится',\n",
       "    'objRenderPhotoDttm': '27-10-2020 16:43',\n",
       "    'objRenderPhotoHiddenFlg': 0,\n",
       "    'objRenderPhotoNm': '42.jpg',\n",
       "    'objRenderPhotoSize': 4504494,\n",
       "    'objRenderPhotoUrl': 'https://xn--80az8a.xn--d1aqf.xn--p1ai/api/ext/file/bd5aa52f-173d-48c0-af5d-8bc9c7fd5d69',\n",
       "    'ordNum': 3,\n",
       "    'pdId': 319464,\n",
       "    'rpdId': 590479}],\n",
       "  'quartography': {'objLivElem1KCnt': 120,\n",
       "   'objLivElem2KCnt': 0,\n",
       "   'objLivElem3KCnt': 0,\n",
       "   'objLivElem4KCnt': 0,\n",
       "   'objLivElemCnt': 120,\n",
       "   'objLivElemEntrCnt': 1,\n",
       "   'objLivElemEntrFloorAvg': 6},\n",
       "  'region': 25,\n",
       "  'residentialBuildings': 1,\n",
       "  'rpdIssueDttm': '05-05-2022 10:35',\n",
       "  'rpdNum': '25-000337',\n",
       "  'rpdPdfLink': 'https://xn--80az8a.xn--d1aqf.xn--p1ai/api/ext/file/6cd240ca-5880-4d33-8295-83c9eb7b0324',\n",
       "  'soldOutPerc': 0.44853543936819,\n",
       "  'wallMaterialShortDesc': 'Монолит'},\n",
       " 'errcode': '0'}"
      ]
     },
     "execution_count": 88,
     "metadata": {},
     "output_type": "execute_result"
    }
   ],
   "source": [
    "res_all = [requests.get(url)  for url in url_set[:6]]\n",
    "# res_all.json()\n",
    "res_all[5].json()"
   ]
  },
  {
   "cell_type": "code",
   "execution_count": 23,
   "metadata": {
    "collapsed": false,
    "pycharm": {
     "name": "#%%\n"
    }
   },
   "outputs": [],
   "source": [
    "import pandas as pd"
   ]
  },
  {
   "cell_type": "code",
   "execution_count": null,
   "metadata": {
    "collapsed": false,
    "pycharm": {
     "name": "#%%\n"
    }
   },
   "outputs": [],
   "source": []
  },
  {
   "cell_type": "code",
   "execution_count": null,
   "metadata": {
    "collapsed": false,
    "pycharm": {
     "name": "#%%\n"
    }
   },
   "outputs": [],
   "source": []
  }
 ],
 "metadata": {
  "kernelspec": {
   "display_name": "Python 3",
   "language": "python",
   "name": "python3"
  },
  "language_info": {
   "codemirror_mode": {
    "name": "ipython",
    "version": 3
   },
   "file_extension": ".py",
   "mimetype": "text/x-python",
   "name": "python",
   "nbconvert_exporter": "python",
   "pygments_lexer": "ipython3",
   "version": "3.6.1"
  }
 },
 "nbformat": 4,
 "nbformat_minor": 0
}
