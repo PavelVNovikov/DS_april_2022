{
 "cells": [
  {
   "cell_type": "code",
   "execution_count": 1,
   "metadata": {
    "ExecuteTime": {
     "end_time": "2022-05-30T16:21:28.021432Z",
     "start_time": "2022-05-30T16:21:25.604801Z"
    },
    "collapsed": true
   },
   "outputs": [],
   "source": [
    "import sqlite3\n",
    "import pandas as pd"
   ]
  },
  {
   "cell_type": "code",
   "execution_count": 2,
   "metadata": {
    "ExecuteTime": {
     "end_time": "2022-05-30T16:21:34.201114Z",
     "start_time": "2022-05-30T16:21:34.198403Z"
    },
    "collapsed": true
   },
   "outputs": [],
   "source": [
    "con = sqlite3.connect(\":memory:\")\n",
    "cur = con.cursor()"
   ]
  },
  {
   "cell_type": "code",
   "execution_count": 3,
   "metadata": {
    "ExecuteTime": {
     "end_time": "2022-05-30T17:33:47.642940Z",
     "start_time": "2022-05-30T17:33:47.637228Z"
    },
    "collapsed": true
   },
   "outputs": [],
   "source": [
    "sql_salaries = '''\n",
    "drop table if exists salaries;\n",
    "create table salaries (emp_id integer, depname varchar(20), emp varchar(20), role varchar(20), salary integer);\n",
    "insert into salaries (emp_id, depname, emp,role, salary) values (1, 'dep1','Christiano','Manager', 1000);\n",
    "insert into salaries (emp_id, depname, emp,role, salary) values (2, 'dep1','Eric','Manager', 1500);\n",
    "insert into salaries (emp_id, depname, emp,role, salary) values (3, 'dep1','Ryan','Director', 2000);\n",
    "insert into salaries (emp_id, depname, emp,role, salary) values (4, 'dep1', 'Bryan','Director',1500);\n",
    "insert into salaries (emp_id, depname, emp,role, salary) values (5, 'dep2', 'Doreen','Manager',2000);\n",
    "insert into salaries (emp_id, depname, emp,role, salary) values (6, 'dep2', 'Gabriel','Manager',3000);\n",
    "insert into salaries (emp_id, depname, emp,role, salary) values (7, 'dep2', 'Angel','Manager',2400);\n",
    "insert into salaries (emp_id, depname, emp,role, salary) values (8, 'dep2', 'Robin','Director',2700);\n",
    "insert into salaries (emp_id, depname, emp,role, salary) values (9, 'dep3','Sarah','Manager', 1900);\n",
    "insert into salaries (emp_id, depname, emp,role, salary) values (10, 'dep3', 'Peter','Manager',1700);\n",
    "'''"
   ]
  },
  {
   "cell_type": "code",
   "execution_count": 4,
   "metadata": {
    "ExecuteTime": {
     "end_time": "2022-05-30T18:09:58.331576Z",
     "start_time": "2022-05-30T18:09:58.329410Z"
    },
    "collapsed": true
   },
   "outputs": [],
   "source": [
    "sql_salaries = '''\n",
    "insert into salaries (emp_id, depname, emp,role, salary) values (9, 'dep3','Sarah','Manager', 1900);\n",
    "insert into salaries (emp_id, depname, emp,role, salary) values (10, 'dep3', 'Peter','Manager',1700);\n",
    "'''"
   ]
  },
  {
   "cell_type": "code",
   "execution_count": 4,
   "metadata": {
    "ExecuteTime": {
     "end_time": "2022-05-30T18:09:59.931116Z",
     "start_time": "2022-05-30T18:09:59.928120Z"
    }
   },
   "outputs": [],
   "source": [
    "cur.executescript(sql_salaries)\n",
    "con.commit()"
   ]
  },
  {
   "cell_type": "code",
   "execution_count": 5,
   "metadata": {
    "ExecuteTime": {
     "end_time": "2022-05-30T17:33:49.713297Z",
     "start_time": "2022-05-30T17:33:49.697929Z"
    }
   },
   "outputs": [
    {
     "data": {
      "text/html": [
       "<div>\n",
       "<style>\n",
       "    .dataframe thead tr:only-child th {\n",
       "        text-align: right;\n",
       "    }\n",
       "\n",
       "    .dataframe thead th {\n",
       "        text-align: left;\n",
       "    }\n",
       "\n",
       "    .dataframe tbody tr th {\n",
       "        vertical-align: top;\n",
       "    }\n",
       "</style>\n",
       "<table border=\"1\" class=\"dataframe\">\n",
       "  <thead>\n",
       "    <tr style=\"text-align: right;\">\n",
       "      <th></th>\n",
       "      <th>emp_id</th>\n",
       "      <th>depname</th>\n",
       "      <th>emp</th>\n",
       "      <th>role</th>\n",
       "      <th>salary</th>\n",
       "    </tr>\n",
       "  </thead>\n",
       "  <tbody>\n",
       "    <tr>\n",
       "      <th>0</th>\n",
       "      <td>1</td>\n",
       "      <td>dep1</td>\n",
       "      <td>Christiano</td>\n",
       "      <td>Manager</td>\n",
       "      <td>1000</td>\n",
       "    </tr>\n",
       "    <tr>\n",
       "      <th>1</th>\n",
       "      <td>2</td>\n",
       "      <td>dep1</td>\n",
       "      <td>Eric</td>\n",
       "      <td>Manager</td>\n",
       "      <td>1500</td>\n",
       "    </tr>\n",
       "    <tr>\n",
       "      <th>2</th>\n",
       "      <td>3</td>\n",
       "      <td>dep1</td>\n",
       "      <td>Ryan</td>\n",
       "      <td>Director</td>\n",
       "      <td>2000</td>\n",
       "    </tr>\n",
       "    <tr>\n",
       "      <th>3</th>\n",
       "      <td>4</td>\n",
       "      <td>dep1</td>\n",
       "      <td>Bryan</td>\n",
       "      <td>Director</td>\n",
       "      <td>1500</td>\n",
       "    </tr>\n",
       "    <tr>\n",
       "      <th>4</th>\n",
       "      <td>5</td>\n",
       "      <td>dep2</td>\n",
       "      <td>Doreen</td>\n",
       "      <td>Manager</td>\n",
       "      <td>2000</td>\n",
       "    </tr>\n",
       "    <tr>\n",
       "      <th>5</th>\n",
       "      <td>6</td>\n",
       "      <td>dep2</td>\n",
       "      <td>Gabriel</td>\n",
       "      <td>Manager</td>\n",
       "      <td>3000</td>\n",
       "    </tr>\n",
       "    <tr>\n",
       "      <th>6</th>\n",
       "      <td>7</td>\n",
       "      <td>dep2</td>\n",
       "      <td>Angel</td>\n",
       "      <td>Manager</td>\n",
       "      <td>2400</td>\n",
       "    </tr>\n",
       "    <tr>\n",
       "      <th>7</th>\n",
       "      <td>8</td>\n",
       "      <td>dep2</td>\n",
       "      <td>Robin</td>\n",
       "      <td>Director</td>\n",
       "      <td>2700</td>\n",
       "    </tr>\n",
       "    <tr>\n",
       "      <th>8</th>\n",
       "      <td>9</td>\n",
       "      <td>dep3</td>\n",
       "      <td>Sarah</td>\n",
       "      <td>Manager</td>\n",
       "      <td>1900</td>\n",
       "    </tr>\n",
       "    <tr>\n",
       "      <th>9</th>\n",
       "      <td>10</td>\n",
       "      <td>dep3</td>\n",
       "      <td>Peter</td>\n",
       "      <td>Manager</td>\n",
       "      <td>1700</td>\n",
       "    </tr>\n",
       "  </tbody>\n",
       "</table>\n",
       "</div>"
      ],
      "text/plain": [
       "   emp_id depname         emp      role  salary\n",
       "0       1    dep1  Christiano   Manager    1000\n",
       "1       2    dep1        Eric   Manager    1500\n",
       "2       3    dep1        Ryan  Director    2000\n",
       "3       4    dep1       Bryan  Director    1500\n",
       "4       5    dep2      Doreen   Manager    2000\n",
       "5       6    dep2     Gabriel   Manager    3000\n",
       "6       7    dep2       Angel   Manager    2400\n",
       "7       8    dep2       Robin  Director    2700\n",
       "8       9    dep3       Sarah   Manager    1900\n",
       "9      10    dep3       Peter   Manager    1700"
      ]
     },
     "execution_count": 5,
     "metadata": {},
     "output_type": "execute_result"
    }
   ],
   "source": [
    "pd.read_sql(\n",
    "    \"\"\"\n",
    "SELECT *\n",
    "FROM salaries\n",
    "    \"\"\",\n",
    "    con,\n",
    ")"
   ]
  },
  {
   "cell_type": "code",
   "execution_count": 6,
   "metadata": {
    "ExecuteTime": {
     "end_time": "2022-05-30T16:24:01.908521Z",
     "start_time": "2022-05-30T16:24:01.901930Z"
    }
   },
   "outputs": [
    {
     "data": {
      "text/html": [
       "<div>\n",
       "<style>\n",
       "    .dataframe thead tr:only-child th {\n",
       "        text-align: right;\n",
       "    }\n",
       "\n",
       "    .dataframe thead th {\n",
       "        text-align: left;\n",
       "    }\n",
       "\n",
       "    .dataframe tbody tr th {\n",
       "        vertical-align: top;\n",
       "    }\n",
       "</style>\n",
       "<table border=\"1\" class=\"dataframe\">\n",
       "  <thead>\n",
       "    <tr style=\"text-align: right;\">\n",
       "      <th></th>\n",
       "      <th>avg</th>\n",
       "    </tr>\n",
       "  </thead>\n",
       "  <tbody>\n",
       "    <tr>\n",
       "      <th>0</th>\n",
       "      <td>1970.0</td>\n",
       "    </tr>\n",
       "  </tbody>\n",
       "</table>\n",
       "</div>"
      ],
      "text/plain": [
       "      avg\n",
       "0  1970.0"
      ]
     },
     "execution_count": 6,
     "metadata": {},
     "output_type": "execute_result"
    }
   ],
   "source": [
    "pd.read_sql(\n",
    "    \"\"\"\n",
    "SELECT avg(salary) as 'avg'\n",
    "FROM salaries;\n",
    "    \"\"\",\n",
    "    con,\n",
    ")"
   ]
  },
  {
   "cell_type": "code",
   "execution_count": 7,
   "metadata": {
    "ExecuteTime": {
     "end_time": "2022-05-30T16:25:17.842944Z",
     "start_time": "2022-05-30T16:25:17.831488Z"
    }
   },
   "outputs": [
    {
     "ename": "DatabaseError",
     "evalue": "Execution failed on sql '\nSELECT emp_id,emp, depname, salary, avg(salary) OVER () as 'avg'\nFROM salaries;\n    ': near \"(\": syntax error",
     "output_type": "error",
     "traceback": [
      "\u001b[1;31m---------------------------------------------------------------------------\u001b[0m",
      "\u001b[1;31mOperationalError\u001b[0m                          Traceback (most recent call last)",
      "\u001b[1;32mC:\\Program Files\\Anaconda3\\lib\\site-packages\\pandas\\io\\sql.py\u001b[0m in \u001b[0;36mexecute\u001b[1;34m(self, *args, **kwargs)\u001b[0m\n\u001b[0;32m   1403\u001b[0m             \u001b[1;32melse\u001b[0m\u001b[1;33m:\u001b[0m\u001b[1;33m\u001b[0m\u001b[0m\n\u001b[1;32m-> 1404\u001b[1;33m                 \u001b[0mcur\u001b[0m\u001b[1;33m.\u001b[0m\u001b[0mexecute\u001b[0m\u001b[1;33m(\u001b[0m\u001b[1;33m*\u001b[0m\u001b[0margs\u001b[0m\u001b[1;33m)\u001b[0m\u001b[1;33m\u001b[0m\u001b[0m\n\u001b[0m\u001b[0;32m   1405\u001b[0m             \u001b[1;32mreturn\u001b[0m \u001b[0mcur\u001b[0m\u001b[1;33m\u001b[0m\u001b[0m\n",
      "\u001b[1;31mOperationalError\u001b[0m: near \"(\": syntax error",
      "\nDuring handling of the above exception, another exception occurred:\n",
      "\u001b[1;31mDatabaseError\u001b[0m                             Traceback (most recent call last)",
      "\u001b[1;32m<ipython-input-7-05841582c16e>\u001b[0m in \u001b[0;36m<module>\u001b[1;34m()\u001b[0m\n\u001b[0;32m      4\u001b[0m \u001b[0mFROM\u001b[0m \u001b[0msalaries\u001b[0m\u001b[1;33m;\u001b[0m\u001b[1;33m\u001b[0m\u001b[0m\n\u001b[0;32m      5\u001b[0m     \"\"\",\n\u001b[1;32m----> 6\u001b[1;33m     \u001b[0mcon\u001b[0m\u001b[1;33m,\u001b[0m\u001b[1;33m\u001b[0m\u001b[0m\n\u001b[0m\u001b[0;32m      7\u001b[0m )\n",
      "\u001b[1;32mC:\\Program Files\\Anaconda3\\lib\\site-packages\\pandas\\io\\sql.py\u001b[0m in \u001b[0;36mread_sql\u001b[1;34m(sql, con, index_col, coerce_float, params, parse_dates, columns, chunksize)\u001b[0m\n\u001b[0;32m    398\u001b[0m             \u001b[0msql\u001b[0m\u001b[1;33m,\u001b[0m \u001b[0mindex_col\u001b[0m\u001b[1;33m=\u001b[0m\u001b[0mindex_col\u001b[0m\u001b[1;33m,\u001b[0m \u001b[0mparams\u001b[0m\u001b[1;33m=\u001b[0m\u001b[0mparams\u001b[0m\u001b[1;33m,\u001b[0m\u001b[1;33m\u001b[0m\u001b[0m\n\u001b[0;32m    399\u001b[0m             \u001b[0mcoerce_float\u001b[0m\u001b[1;33m=\u001b[0m\u001b[0mcoerce_float\u001b[0m\u001b[1;33m,\u001b[0m \u001b[0mparse_dates\u001b[0m\u001b[1;33m=\u001b[0m\u001b[0mparse_dates\u001b[0m\u001b[1;33m,\u001b[0m\u001b[1;33m\u001b[0m\u001b[0m\n\u001b[1;32m--> 400\u001b[1;33m             chunksize=chunksize)\n\u001b[0m\u001b[0;32m    401\u001b[0m \u001b[1;33m\u001b[0m\u001b[0m\n\u001b[0;32m    402\u001b[0m     \u001b[1;32mtry\u001b[0m\u001b[1;33m:\u001b[0m\u001b[1;33m\u001b[0m\u001b[0m\n",
      "\u001b[1;32mC:\\Program Files\\Anaconda3\\lib\\site-packages\\pandas\\io\\sql.py\u001b[0m in \u001b[0;36mread_query\u001b[1;34m(self, sql, index_col, coerce_float, params, parse_dates, chunksize)\u001b[0m\n\u001b[0;32m   1437\u001b[0m \u001b[1;33m\u001b[0m\u001b[0m\n\u001b[0;32m   1438\u001b[0m         \u001b[0margs\u001b[0m \u001b[1;33m=\u001b[0m \u001b[0m_convert_params\u001b[0m\u001b[1;33m(\u001b[0m\u001b[0msql\u001b[0m\u001b[1;33m,\u001b[0m \u001b[0mparams\u001b[0m\u001b[1;33m)\u001b[0m\u001b[1;33m\u001b[0m\u001b[0m\n\u001b[1;32m-> 1439\u001b[1;33m         \u001b[0mcursor\u001b[0m \u001b[1;33m=\u001b[0m \u001b[0mself\u001b[0m\u001b[1;33m.\u001b[0m\u001b[0mexecute\u001b[0m\u001b[1;33m(\u001b[0m\u001b[1;33m*\u001b[0m\u001b[0margs\u001b[0m\u001b[1;33m)\u001b[0m\u001b[1;33m\u001b[0m\u001b[0m\n\u001b[0m\u001b[0;32m   1440\u001b[0m         \u001b[0mcolumns\u001b[0m \u001b[1;33m=\u001b[0m \u001b[1;33m[\u001b[0m\u001b[0mcol_desc\u001b[0m\u001b[1;33m[\u001b[0m\u001b[1;36m0\u001b[0m\u001b[1;33m]\u001b[0m \u001b[1;32mfor\u001b[0m \u001b[0mcol_desc\u001b[0m \u001b[1;32min\u001b[0m \u001b[0mcursor\u001b[0m\u001b[1;33m.\u001b[0m\u001b[0mdescription\u001b[0m\u001b[1;33m]\u001b[0m\u001b[1;33m\u001b[0m\u001b[0m\n\u001b[0;32m   1441\u001b[0m \u001b[1;33m\u001b[0m\u001b[0m\n",
      "\u001b[1;32mC:\\Program Files\\Anaconda3\\lib\\site-packages\\pandas\\io\\sql.py\u001b[0m in \u001b[0;36mexecute\u001b[1;34m(self, *args, **kwargs)\u001b[0m\n\u001b[0;32m   1414\u001b[0m             ex = DatabaseError(\n\u001b[0;32m   1415\u001b[0m                 \"Execution failed on sql '%s': %s\" % (args[0], exc))\n\u001b[1;32m-> 1416\u001b[1;33m             \u001b[0mraise_with_traceback\u001b[0m\u001b[1;33m(\u001b[0m\u001b[0mex\u001b[0m\u001b[1;33m)\u001b[0m\u001b[1;33m\u001b[0m\u001b[0m\n\u001b[0m\u001b[0;32m   1417\u001b[0m \u001b[1;33m\u001b[0m\u001b[0m\n\u001b[0;32m   1418\u001b[0m     \u001b[1;33m@\u001b[0m\u001b[0mstaticmethod\u001b[0m\u001b[1;33m\u001b[0m\u001b[0m\n",
      "\u001b[1;32mC:\\Program Files\\Anaconda3\\lib\\site-packages\\pandas\\compat\\__init__.py\u001b[0m in \u001b[0;36mraise_with_traceback\u001b[1;34m(exc, traceback)\u001b[0m\n\u001b[0;32m    342\u001b[0m         \u001b[1;32mif\u001b[0m \u001b[0mtraceback\u001b[0m \u001b[1;33m==\u001b[0m \u001b[0mEllipsis\u001b[0m\u001b[1;33m:\u001b[0m\u001b[1;33m\u001b[0m\u001b[0m\n\u001b[0;32m    343\u001b[0m             \u001b[0m_\u001b[0m\u001b[1;33m,\u001b[0m \u001b[0m_\u001b[0m\u001b[1;33m,\u001b[0m \u001b[0mtraceback\u001b[0m \u001b[1;33m=\u001b[0m \u001b[0msys\u001b[0m\u001b[1;33m.\u001b[0m\u001b[0mexc_info\u001b[0m\u001b[1;33m(\u001b[0m\u001b[1;33m)\u001b[0m\u001b[1;33m\u001b[0m\u001b[0m\n\u001b[1;32m--> 344\u001b[1;33m         \u001b[1;32mraise\u001b[0m \u001b[0mexc\u001b[0m\u001b[1;33m.\u001b[0m\u001b[0mwith_traceback\u001b[0m\u001b[1;33m(\u001b[0m\u001b[0mtraceback\u001b[0m\u001b[1;33m)\u001b[0m\u001b[1;33m\u001b[0m\u001b[0m\n\u001b[0m\u001b[0;32m    345\u001b[0m \u001b[1;32melse\u001b[0m\u001b[1;33m:\u001b[0m\u001b[1;33m\u001b[0m\u001b[0m\n\u001b[0;32m    346\u001b[0m     \u001b[1;31m# this version of raise is a syntax error in Python 3\u001b[0m\u001b[1;33m\u001b[0m\u001b[1;33m\u001b[0m\u001b[0m\n",
      "\u001b[1;32mC:\\Program Files\\Anaconda3\\lib\\site-packages\\pandas\\io\\sql.py\u001b[0m in \u001b[0;36mexecute\u001b[1;34m(self, *args, **kwargs)\u001b[0m\n\u001b[0;32m   1402\u001b[0m                 \u001b[0mcur\u001b[0m\u001b[1;33m.\u001b[0m\u001b[0mexecute\u001b[0m\u001b[1;33m(\u001b[0m\u001b[1;33m*\u001b[0m\u001b[0margs\u001b[0m\u001b[1;33m,\u001b[0m \u001b[1;33m**\u001b[0m\u001b[0mkwargs\u001b[0m\u001b[1;33m)\u001b[0m\u001b[1;33m\u001b[0m\u001b[0m\n\u001b[0;32m   1403\u001b[0m             \u001b[1;32melse\u001b[0m\u001b[1;33m:\u001b[0m\u001b[1;33m\u001b[0m\u001b[0m\n\u001b[1;32m-> 1404\u001b[1;33m                 \u001b[0mcur\u001b[0m\u001b[1;33m.\u001b[0m\u001b[0mexecute\u001b[0m\u001b[1;33m(\u001b[0m\u001b[1;33m*\u001b[0m\u001b[0margs\u001b[0m\u001b[1;33m)\u001b[0m\u001b[1;33m\u001b[0m\u001b[0m\n\u001b[0m\u001b[0;32m   1405\u001b[0m             \u001b[1;32mreturn\u001b[0m \u001b[0mcur\u001b[0m\u001b[1;33m\u001b[0m\u001b[0m\n\u001b[0;32m   1406\u001b[0m         \u001b[1;32mexcept\u001b[0m \u001b[0mException\u001b[0m \u001b[1;32mas\u001b[0m \u001b[0mexc\u001b[0m\u001b[1;33m:\u001b[0m\u001b[1;33m\u001b[0m\u001b[0m\n",
      "\u001b[1;31mDatabaseError\u001b[0m: Execution failed on sql '\nSELECT emp_id,emp, depname, salary, avg(salary) OVER () as 'avg'\nFROM salaries;\n    ': near \"(\": syntax error"
     ]
    }
   ],
   "source": [
    "pd.read_sql(\n",
    "    \"\"\"\n",
    "SELECT emp_id,emp, depname, salary, avg(salary) OVER() as 'avg'\n",
    "FROM salaries;\n",
    "    \"\"\",\n",
    "    con,\n",
    ")"
   ]
  },
  {
   "cell_type": "code",
   "execution_count": 11,
   "metadata": {
    "ExecuteTime": {
     "end_time": "2022-05-30T16:26:39.722911Z",
     "start_time": "2022-05-30T16:26:39.711380Z"
    }
   },
   "outputs": [
    {
     "ename": "DatabaseError",
     "evalue": "Execution failed on sql '\nSELECT emp_id,emp, depname, salary, abs(salary - avg(salary) OVER ()) as 'diff_with_avg'\nFROM salaries;\n    ': near \"OVER\": syntax error",
     "output_type": "error",
     "traceback": [
      "\u001b[1;31m---------------------------------------------------------------------------\u001b[0m",
      "\u001b[1;31mOperationalError\u001b[0m                          Traceback (most recent call last)",
      "\u001b[1;32mC:\\Program Files\\Anaconda3\\lib\\site-packages\\pandas\\io\\sql.py\u001b[0m in \u001b[0;36mexecute\u001b[1;34m(self, *args, **kwargs)\u001b[0m\n\u001b[0;32m   1403\u001b[0m             \u001b[1;32melse\u001b[0m\u001b[1;33m:\u001b[0m\u001b[1;33m\u001b[0m\u001b[0m\n\u001b[1;32m-> 1404\u001b[1;33m                 \u001b[0mcur\u001b[0m\u001b[1;33m.\u001b[0m\u001b[0mexecute\u001b[0m\u001b[1;33m(\u001b[0m\u001b[1;33m*\u001b[0m\u001b[0margs\u001b[0m\u001b[1;33m)\u001b[0m\u001b[1;33m\u001b[0m\u001b[0m\n\u001b[0m\u001b[0;32m   1405\u001b[0m             \u001b[1;32mreturn\u001b[0m \u001b[0mcur\u001b[0m\u001b[1;33m\u001b[0m\u001b[0m\n",
      "\u001b[1;31mOperationalError\u001b[0m: near \"OVER\": syntax error",
      "\nDuring handling of the above exception, another exception occurred:\n",
      "\u001b[1;31mDatabaseError\u001b[0m                             Traceback (most recent call last)",
      "\u001b[1;32m<ipython-input-11-d6f4a81b25aa>\u001b[0m in \u001b[0;36m<module>\u001b[1;34m()\u001b[0m\n\u001b[0;32m      4\u001b[0m \u001b[0mFROM\u001b[0m \u001b[0msalaries\u001b[0m\u001b[1;33m;\u001b[0m\u001b[1;33m\u001b[0m\u001b[0m\n\u001b[0;32m      5\u001b[0m     \"\"\",\n\u001b[1;32m----> 6\u001b[1;33m     \u001b[0mcon\u001b[0m\u001b[1;33m,\u001b[0m\u001b[1;33m\u001b[0m\u001b[0m\n\u001b[0m\u001b[0;32m      7\u001b[0m )\n",
      "\u001b[1;32mC:\\Program Files\\Anaconda3\\lib\\site-packages\\pandas\\io\\sql.py\u001b[0m in \u001b[0;36mread_sql\u001b[1;34m(sql, con, index_col, coerce_float, params, parse_dates, columns, chunksize)\u001b[0m\n\u001b[0;32m    398\u001b[0m             \u001b[0msql\u001b[0m\u001b[1;33m,\u001b[0m \u001b[0mindex_col\u001b[0m\u001b[1;33m=\u001b[0m\u001b[0mindex_col\u001b[0m\u001b[1;33m,\u001b[0m \u001b[0mparams\u001b[0m\u001b[1;33m=\u001b[0m\u001b[0mparams\u001b[0m\u001b[1;33m,\u001b[0m\u001b[1;33m\u001b[0m\u001b[0m\n\u001b[0;32m    399\u001b[0m             \u001b[0mcoerce_float\u001b[0m\u001b[1;33m=\u001b[0m\u001b[0mcoerce_float\u001b[0m\u001b[1;33m,\u001b[0m \u001b[0mparse_dates\u001b[0m\u001b[1;33m=\u001b[0m\u001b[0mparse_dates\u001b[0m\u001b[1;33m,\u001b[0m\u001b[1;33m\u001b[0m\u001b[0m\n\u001b[1;32m--> 400\u001b[1;33m             chunksize=chunksize)\n\u001b[0m\u001b[0;32m    401\u001b[0m \u001b[1;33m\u001b[0m\u001b[0m\n\u001b[0;32m    402\u001b[0m     \u001b[1;32mtry\u001b[0m\u001b[1;33m:\u001b[0m\u001b[1;33m\u001b[0m\u001b[0m\n",
      "\u001b[1;32mC:\\Program Files\\Anaconda3\\lib\\site-packages\\pandas\\io\\sql.py\u001b[0m in \u001b[0;36mread_query\u001b[1;34m(self, sql, index_col, coerce_float, params, parse_dates, chunksize)\u001b[0m\n\u001b[0;32m   1437\u001b[0m \u001b[1;33m\u001b[0m\u001b[0m\n\u001b[0;32m   1438\u001b[0m         \u001b[0margs\u001b[0m \u001b[1;33m=\u001b[0m \u001b[0m_convert_params\u001b[0m\u001b[1;33m(\u001b[0m\u001b[0msql\u001b[0m\u001b[1;33m,\u001b[0m \u001b[0mparams\u001b[0m\u001b[1;33m)\u001b[0m\u001b[1;33m\u001b[0m\u001b[0m\n\u001b[1;32m-> 1439\u001b[1;33m         \u001b[0mcursor\u001b[0m \u001b[1;33m=\u001b[0m \u001b[0mself\u001b[0m\u001b[1;33m.\u001b[0m\u001b[0mexecute\u001b[0m\u001b[1;33m(\u001b[0m\u001b[1;33m*\u001b[0m\u001b[0margs\u001b[0m\u001b[1;33m)\u001b[0m\u001b[1;33m\u001b[0m\u001b[0m\n\u001b[0m\u001b[0;32m   1440\u001b[0m         \u001b[0mcolumns\u001b[0m \u001b[1;33m=\u001b[0m \u001b[1;33m[\u001b[0m\u001b[0mcol_desc\u001b[0m\u001b[1;33m[\u001b[0m\u001b[1;36m0\u001b[0m\u001b[1;33m]\u001b[0m \u001b[1;32mfor\u001b[0m \u001b[0mcol_desc\u001b[0m \u001b[1;32min\u001b[0m \u001b[0mcursor\u001b[0m\u001b[1;33m.\u001b[0m\u001b[0mdescription\u001b[0m\u001b[1;33m]\u001b[0m\u001b[1;33m\u001b[0m\u001b[0m\n\u001b[0;32m   1441\u001b[0m \u001b[1;33m\u001b[0m\u001b[0m\n",
      "\u001b[1;32mC:\\Program Files\\Anaconda3\\lib\\site-packages\\pandas\\io\\sql.py\u001b[0m in \u001b[0;36mexecute\u001b[1;34m(self, *args, **kwargs)\u001b[0m\n\u001b[0;32m   1414\u001b[0m             ex = DatabaseError(\n\u001b[0;32m   1415\u001b[0m                 \"Execution failed on sql '%s': %s\" % (args[0], exc))\n\u001b[1;32m-> 1416\u001b[1;33m             \u001b[0mraise_with_traceback\u001b[0m\u001b[1;33m(\u001b[0m\u001b[0mex\u001b[0m\u001b[1;33m)\u001b[0m\u001b[1;33m\u001b[0m\u001b[0m\n\u001b[0m\u001b[0;32m   1417\u001b[0m \u001b[1;33m\u001b[0m\u001b[0m\n\u001b[0;32m   1418\u001b[0m     \u001b[1;33m@\u001b[0m\u001b[0mstaticmethod\u001b[0m\u001b[1;33m\u001b[0m\u001b[0m\n",
      "\u001b[1;32mC:\\Program Files\\Anaconda3\\lib\\site-packages\\pandas\\compat\\__init__.py\u001b[0m in \u001b[0;36mraise_with_traceback\u001b[1;34m(exc, traceback)\u001b[0m\n\u001b[0;32m    342\u001b[0m         \u001b[1;32mif\u001b[0m \u001b[0mtraceback\u001b[0m \u001b[1;33m==\u001b[0m \u001b[0mEllipsis\u001b[0m\u001b[1;33m:\u001b[0m\u001b[1;33m\u001b[0m\u001b[0m\n\u001b[0;32m    343\u001b[0m             \u001b[0m_\u001b[0m\u001b[1;33m,\u001b[0m \u001b[0m_\u001b[0m\u001b[1;33m,\u001b[0m \u001b[0mtraceback\u001b[0m \u001b[1;33m=\u001b[0m \u001b[0msys\u001b[0m\u001b[1;33m.\u001b[0m\u001b[0mexc_info\u001b[0m\u001b[1;33m(\u001b[0m\u001b[1;33m)\u001b[0m\u001b[1;33m\u001b[0m\u001b[0m\n\u001b[1;32m--> 344\u001b[1;33m         \u001b[1;32mraise\u001b[0m \u001b[0mexc\u001b[0m\u001b[1;33m.\u001b[0m\u001b[0mwith_traceback\u001b[0m\u001b[1;33m(\u001b[0m\u001b[0mtraceback\u001b[0m\u001b[1;33m)\u001b[0m\u001b[1;33m\u001b[0m\u001b[0m\n\u001b[0m\u001b[0;32m    345\u001b[0m \u001b[1;32melse\u001b[0m\u001b[1;33m:\u001b[0m\u001b[1;33m\u001b[0m\u001b[0m\n\u001b[0;32m    346\u001b[0m     \u001b[1;31m# this version of raise is a syntax error in Python 3\u001b[0m\u001b[1;33m\u001b[0m\u001b[1;33m\u001b[0m\u001b[0m\n",
      "\u001b[1;32mC:\\Program Files\\Anaconda3\\lib\\site-packages\\pandas\\io\\sql.py\u001b[0m in \u001b[0;36mexecute\u001b[1;34m(self, *args, **kwargs)\u001b[0m\n\u001b[0;32m   1402\u001b[0m                 \u001b[0mcur\u001b[0m\u001b[1;33m.\u001b[0m\u001b[0mexecute\u001b[0m\u001b[1;33m(\u001b[0m\u001b[1;33m*\u001b[0m\u001b[0margs\u001b[0m\u001b[1;33m,\u001b[0m \u001b[1;33m**\u001b[0m\u001b[0mkwargs\u001b[0m\u001b[1;33m)\u001b[0m\u001b[1;33m\u001b[0m\u001b[0m\n\u001b[0;32m   1403\u001b[0m             \u001b[1;32melse\u001b[0m\u001b[1;33m:\u001b[0m\u001b[1;33m\u001b[0m\u001b[0m\n\u001b[1;32m-> 1404\u001b[1;33m                 \u001b[0mcur\u001b[0m\u001b[1;33m.\u001b[0m\u001b[0mexecute\u001b[0m\u001b[1;33m(\u001b[0m\u001b[1;33m*\u001b[0m\u001b[0margs\u001b[0m\u001b[1;33m)\u001b[0m\u001b[1;33m\u001b[0m\u001b[0m\n\u001b[0m\u001b[0;32m   1405\u001b[0m             \u001b[1;32mreturn\u001b[0m \u001b[0mcur\u001b[0m\u001b[1;33m\u001b[0m\u001b[0m\n\u001b[0;32m   1406\u001b[0m         \u001b[1;32mexcept\u001b[0m \u001b[0mException\u001b[0m \u001b[1;32mas\u001b[0m \u001b[0mexc\u001b[0m\u001b[1;33m:\u001b[0m\u001b[1;33m\u001b[0m\u001b[0m\n",
      "\u001b[1;31mDatabaseError\u001b[0m: Execution failed on sql '\nSELECT emp_id,emp, depname, salary, abs(salary - avg(salary) OVER ()) as 'diff_with_avg'\nFROM salaries;\n    ': near \"OVER\": syntax error"
     ]
    }
   ],
   "source": [
    "pd.read_sql(\n",
    "    \"\"\"\n",
    "SELECT emp_id,emp, depname, salary, abs(salary - avg(salary) OVER ()) as 'diff_with_avg'\n",
    "FROM salaries;\n",
    "    \"\"\",\n",
    "    con,\n",
    ")"
   ]
  },
  {
   "cell_type": "code",
   "execution_count": null,
   "metadata": {
    "ExecuteTime": {
     "end_time": "2022-05-30T16:28:18.630985Z",
     "start_time": "2022-05-30T16:28:18.616382Z"
    },
    "collapsed": true
   },
   "outputs": [],
   "source": [
    "pd.read_sql(\n",
    "    \"\"\"\n",
    "SELECT emp_id,emp, depname, salary, avg(salary) OVER (PARTITION BY depname) as 'avg_by_dept'\n",
    "FROM salaries;\n",
    "    \"\"\",\n",
    "    con,\n",
    ")"
   ]
  },
  {
   "cell_type": "code",
   "execution_count": null,
   "metadata": {
    "ExecuteTime": {
     "end_time": "2022-05-30T16:30:37.881526Z",
     "start_time": "2022-05-30T16:30:37.870342Z"
    },
    "collapsed": true
   },
   "outputs": [],
   "source": [
    "pd.read_sql(\n",
    "    \"\"\"\n",
    "SELECT emp_id,emp, depname, salary, abs(salary - avg(salary) OVER (PARTITION BY depname))  as 'diff_with_avg_by_dept'\n",
    "FROM salaries;\n",
    "    \"\"\",\n",
    "    con,\n",
    ")"
   ]
  },
  {
   "cell_type": "code",
   "execution_count": null,
   "metadata": {
    "ExecuteTime": {
     "end_time": "2022-05-30T16:31:14.920472Z",
     "start_time": "2022-05-30T16:31:14.909605Z"
    },
    "collapsed": true
   },
   "outputs": [],
   "source": [
    "pd.read_sql(\n",
    "    \"\"\"\n",
    "SELECT emp_id,emp, depname, salary, sum(salary) OVER () as 'sum'\n",
    "FROM salaries;\n",
    "    \"\"\",\n",
    "    con,\n",
    ")"
   ]
  },
  {
   "cell_type": "code",
   "execution_count": null,
   "metadata": {
    "ExecuteTime": {
     "end_time": "2022-05-30T16:32:14.501186Z",
     "start_time": "2022-05-30T16:32:14.490968Z"
    },
    "collapsed": true
   },
   "outputs": [],
   "source": [
    "pd.read_sql(\n",
    "    \"\"\"\n",
    "SELECT emp_id,emp, depname, salary, salary*100/(sum(salary) OVER ()) as 'prc'\n",
    "FROM salaries;\n",
    "    \"\"\",\n",
    "    con,\n",
    ")"
   ]
  },
  {
   "cell_type": "code",
   "execution_count": null,
   "metadata": {
    "ExecuteTime": {
     "end_time": "2022-05-30T16:33:17.973612Z",
     "start_time": "2022-05-30T16:33:17.960717Z"
    },
    "collapsed": true
   },
   "outputs": [],
   "source": [
    "pd.read_sql(\n",
    "    \"\"\"\n",
    "SELECT emp_id,emp, depname, salary, round(salary*100/(sum(salary) OVER ()),1) as 'prc'\n",
    "FROM salaries;\n",
    "    \"\"\",\n",
    "    con,\n",
    ")"
   ]
  },
  {
   "cell_type": "code",
   "execution_count": null,
   "metadata": {
    "ExecuteTime": {
     "end_time": "2022-05-30T16:34:58.217097Z",
     "start_time": "2022-05-30T16:34:58.204537Z"
    },
    "collapsed": true
   },
   "outputs": [],
   "source": [
    "pd.read_sql(\n",
    "    \"\"\"\n",
    "SELECT emp_id,emp, depname, salary, cast(salary*100/(sum(salary) OVER ()) as float) as 'prc'\n",
    "FROM salaries;\n",
    "    \"\"\",\n",
    "    con,\n",
    ")"
   ]
  },
  {
   "cell_type": "code",
   "execution_count": null,
   "metadata": {
    "ExecuteTime": {
     "end_time": "2022-05-30T16:35:39.344355Z",
     "start_time": "2022-05-30T16:35:39.329122Z"
    },
    "collapsed": true
   },
   "outputs": [],
   "source": [
    "pd.read_sql(\n",
    "    \"\"\"\n",
    "SELECT emp_id,emp, depname, salary, round(cast(salary as float)*100/(sum(salary) OVER ()),2) as 'prc'\n",
    "FROM salaries;\n",
    "    \"\"\",\n",
    "    con,\n",
    ")"
   ]
  },
  {
   "cell_type": "code",
   "execution_count": null,
   "metadata": {
    "ExecuteTime": {
     "end_time": "2022-05-30T16:36:59.367877Z",
     "start_time": "2022-05-30T16:36:59.353063Z"
    },
    "collapsed": true
   },
   "outputs": [],
   "source": [
    "pd.read_sql(\n",
    "    \"\"\"\n",
    "SELECT emp_id,emp, depname, salary, round(salary*100/cast(sum(salary) OVER () as float),2) as 'prc'\n",
    "FROM salaries;\n",
    "    \"\"\",\n",
    "    con,\n",
    ")"
   ]
  },
  {
   "cell_type": "code",
   "execution_count": null,
   "metadata": {
    "ExecuteTime": {
     "end_time": "2022-05-30T16:37:50.186957Z",
     "start_time": "2022-05-30T16:37:50.176119Z"
    },
    "collapsed": true
   },
   "outputs": [],
   "source": [
    "pd.read_sql(\n",
    "    \"\"\"\n",
    "SELECT emp_id,emp, depname, salary, round(salary*100.0/(sum(salary) OVER ()),2) as 'prc'\n",
    "FROM salaries;\n",
    "    \"\"\",\n",
    "    con,\n",
    ")"
   ]
  },
  {
   "cell_type": "code",
   "execution_count": null,
   "metadata": {
    "ExecuteTime": {
     "end_time": "2022-05-30T16:43:41.988947Z",
     "start_time": "2022-05-30T16:43:41.977301Z"
    },
    "collapsed": true
   },
   "outputs": [],
   "source": [
    "pd.read_sql(\n",
    "    \"\"\"\n",
    "    \n",
    " select q.*, \n",
    " sum(q.prc) OVER () as 'new_prc' \n",
    " \n",
    " from \n",
    " (\n",
    "SELECT emp_id,\n",
    "emp, --'сотрудник'\n",
    "depname, \n",
    "salary, \n",
    "round(salary*1.0/(sum(salary) OVER ()),3) as 'prc'\n",
    "\n",
    "FROM salaries) q\n",
    "\n",
    "    \"\"\",\n",
    "    con,\n",
    ")"
   ]
  },
  {
   "cell_type": "code",
   "execution_count": null,
   "metadata": {
    "ExecuteTime": {
     "end_time": "2022-05-30T16:45:14.084844Z",
     "start_time": "2022-05-30T16:45:14.078481Z"
    },
    "collapsed": true
   },
   "outputs": [],
   "source": [
    "pd.read_sql(\n",
    "    \"\"\"\n",
    "SELECT 1/2\n",
    "    \"\"\",\n",
    "    con,\n",
    ")"
   ]
  },
  {
   "cell_type": "code",
   "execution_count": null,
   "metadata": {
    "ExecuteTime": {
     "end_time": "2022-05-30T16:45:27.841331Z",
     "start_time": "2022-05-30T16:45:27.834753Z"
    },
    "collapsed": true
   },
   "outputs": [],
   "source": [
    "pd.read_sql(\n",
    "    \"\"\"\n",
    "SELECT 1.0/2\n",
    "    \"\"\",\n",
    "    con,\n",
    ")"
   ]
  },
  {
   "cell_type": "code",
   "execution_count": null,
   "metadata": {
    "ExecuteTime": {
     "end_time": "2022-05-30T16:45:35.674351Z",
     "start_time": "2022-05-30T16:45:35.667776Z"
    },
    "collapsed": true
   },
   "outputs": [],
   "source": [
    "pd.read_sql(\n",
    "    \"\"\"\n",
    "SELECT 1/2.0\n",
    "    \"\"\",\n",
    "    con,\n",
    ")"
   ]
  },
  {
   "cell_type": "code",
   "execution_count": null,
   "metadata": {
    "ExecuteTime": {
     "end_time": "2022-05-30T16:45:57.442648Z",
     "start_time": "2022-05-30T16:45:57.432209Z"
    },
    "collapsed": true
   },
   "outputs": [],
   "source": [
    "pd.read_sql(\n",
    "    \"\"\"\n",
    "SELECT emp_id,emp, depname, salary, sum(salary) OVER (PARTITION BY depname) as 'sum'\n",
    "FROM salaries;\n",
    "    \"\"\",\n",
    "    con,\n",
    ")"
   ]
  },
  {
   "cell_type": "code",
   "execution_count": null,
   "metadata": {
    "ExecuteTime": {
     "end_time": "2022-05-30T16:46:29.927030Z",
     "start_time": "2022-05-30T16:46:29.916368Z"
    },
    "collapsed": true
   },
   "outputs": [],
   "source": [
    "pd.read_sql(\n",
    "    \"\"\"\n",
    "SELECT emp_id,emp, depname, salary, sum(salary) OVER (PARTITION BY depname ORDER BY salary) as 'sum'\n",
    "FROM salaries;\n",
    "    \"\"\",\n",
    "    con,\n",
    ")"
   ]
  },
  {
   "cell_type": "code",
   "execution_count": null,
   "metadata": {
    "ExecuteTime": {
     "end_time": "2022-05-30T16:48:52.888278Z",
     "start_time": "2022-05-30T16:48:52.877589Z"
    },
    "collapsed": true
   },
   "outputs": [],
   "source": [
    "pd.read_sql(\n",
    "    \"\"\"\n",
    "SELECT emp_id,emp, depname, salary,\n",
    "sum(salary) OVER (PARTITION BY depname ORDER BY salary ROWS BETWEEN CURRENT ROW AND 1 FOLLOWING) as 'sum'\n",
    "FROM salaries;\n",
    "    \"\"\",\n",
    "    con,\n",
    ")"
   ]
  },
  {
   "cell_type": "code",
   "execution_count": null,
   "metadata": {
    "ExecuteTime": {
     "end_time": "2022-05-30T17:02:31.033266Z",
     "start_time": "2022-05-30T17:02:31.020143Z"
    },
    "collapsed": true
   },
   "outputs": [],
   "source": [
    "pd.read_sql(\n",
    "    \"\"\"\n",
    "SELECT emp_id, emp,depname, salary, row_number() OVER (PARTITION BY depname) row_num_by_dept\n",
    "FROM salaries;\n",
    "    \"\"\",\n",
    "    con,\n",
    ")"
   ]
  },
  {
   "cell_type": "code",
   "execution_count": null,
   "metadata": {
    "ExecuteTime": {
     "end_time": "2022-05-30T17:03:13.486248Z",
     "start_time": "2022-05-30T17:03:13.475012Z"
    },
    "collapsed": true
   },
   "outputs": [],
   "source": [
    "pd.read_sql(\n",
    "    \"\"\"\n",
    "SELECT emp_id, emp,depname, salary, row_number() OVER (PARTITION BY depname ORDER BY salary DESC) row_num_by_dept\n",
    "FROM salaries\n",
    "    \"\"\",\n",
    "    con,\n",
    ")"
   ]
  },
  {
   "cell_type": "code",
   "execution_count": null,
   "metadata": {
    "ExecuteTime": {
     "end_time": "2022-05-30T17:04:11.726199Z",
     "start_time": "2022-05-30T17:04:11.710614Z"
    },
    "collapsed": true
   },
   "outputs": [],
   "source": [
    "pd.read_sql(\n",
    "    \"\"\"\n",
    "SELECT emp_id, emp,depname, salary, rank() OVER (PARTITION BY depname ORDER BY salary DESC) rank_by_dept\n",
    "FROM salaries\n",
    "    \"\"\",\n",
    "    con,\n",
    ")"
   ]
  },
  {
   "cell_type": "code",
   "execution_count": null,
   "metadata": {
    "ExecuteTime": {
     "end_time": "2022-05-30T17:05:17.244102Z",
     "start_time": "2022-05-30T17:05:17.231510Z"
    },
    "collapsed": true
   },
   "outputs": [],
   "source": [
    "pd.read_sql(\n",
    "    \"\"\"\n",
    "SELECT emp_id, emp,depname, salary, dense_rank() OVER (PARTITION BY depname ORDER BY salary DESC) rank_by_dept\n",
    "FROM salaries\n",
    "    \"\"\",\n",
    "    con,\n",
    ")"
   ]
  },
  {
   "cell_type": "code",
   "execution_count": null,
   "metadata": {
    "ExecuteTime": {
     "end_time": "2022-05-30T17:06:00.680074Z",
     "start_time": "2022-05-30T17:06:00.669039Z"
    },
    "collapsed": true
   },
   "outputs": [],
   "source": [
    "pd.read_sql(\n",
    "    \"\"\"\n",
    "select * from (\n",
    "SELECT emp_id, emp,depname, salary, row_number() OVER (PARTITION BY depname ORDER BY salary DESC) row_num_by_dept\n",
    "FROM salaries\n",
    ") r where r.row_num_by_dept = 1\n",
    "    \"\"\",\n",
    "    con,\n",
    ")"
   ]
  },
  {
   "cell_type": "code",
   "execution_count": null,
   "metadata": {
    "ExecuteTime": {
     "end_time": "2022-05-30T17:07:23.823522Z",
     "start_time": "2022-05-30T17:07:23.814640Z"
    },
    "collapsed": true
   },
   "outputs": [],
   "source": [
    "pd.read_sql(\n",
    "    \"\"\"\n",
    "with ranks as (\n",
    "SELECT emp_id, emp,depname, salary,\n",
    "row_number() OVER (PARTITION BY depname ORDER BY salary DESC) row_num_by_dept\n",
    "FROM salaries\n",
    ") \n",
    "select * from ranks where row_num_by_dept = 1\n",
    "    \"\"\",\n",
    "    con,\n",
    ")"
   ]
  },
  {
   "cell_type": "code",
   "execution_count": null,
   "metadata": {
    "ExecuteTime": {
     "end_time": "2022-05-30T17:07:44.240439Z",
     "start_time": "2022-05-30T17:07:44.230047Z"
    },
    "collapsed": true
   },
   "outputs": [],
   "source": [
    "pd.read_sql(\n",
    "    \"\"\"\n",
    "with ranks as (\n",
    "SELECT emp_id, emp,depname, salary,\n",
    "row_number() OVER (PARTITION BY depname ORDER BY salary DESC) row_num_by_dept\n",
    "FROM salaries\n",
    ") \n",
    "select * from ranks where row_num_by_dept = 1\n",
    "union all\n",
    "select * from ranks where row_num_by_dept = 2\n",
    "union all\n",
    "select * from ranks where row_num_by_dept = 3\n",
    "    \"\"\",\n",
    "    con,\n",
    ")"
   ]
  },
  {
   "cell_type": "code",
   "execution_count": null,
   "metadata": {
    "ExecuteTime": {
     "end_time": "2022-05-30T17:11:49.700045Z",
     "start_time": "2022-05-30T17:11:49.691988Z"
    },
    "collapsed": true
   },
   "outputs": [],
   "source": [
    "pd.read_sql(\n",
    "    \"\"\"\n",
    "SELECT emp_id, emp,depname, salary,NTILE(2) OVER(ORDER BY salary DESC) AS 'NTILE' \n",
    "FROM salaries\n",
    "    \"\"\",\n",
    "    con,\n",
    ")"
   ]
  },
  {
   "cell_type": "code",
   "execution_count": null,
   "metadata": {
    "ExecuteTime": {
     "end_time": "2022-05-30T17:13:13.722674Z",
     "start_time": "2022-05-30T17:13:13.710799Z"
    },
    "collapsed": true
   },
   "outputs": [],
   "source": [
    "pd.read_sql(\n",
    "    \"\"\"\n",
    "SELECT emp_id, emp,depname, salary,LAG(salary) OVER(PARTITION BY depname ORDER BY salary DESC) AS 'LAG' \n",
    "FROM salaries\n",
    "    \"\"\",\n",
    "    con,\n",
    ")"
   ]
  },
  {
   "cell_type": "code",
   "execution_count": null,
   "metadata": {
    "ExecuteTime": {
     "end_time": "2022-05-30T17:13:52.357654Z",
     "start_time": "2022-05-30T17:13:52.345188Z"
    },
    "collapsed": true
   },
   "outputs": [],
   "source": [
    "pd.read_sql(\n",
    "    \"\"\"\n",
    "SELECT emp_id, emp,depname, salary,LEAD(salary) OVER(PARTITION BY depname ORDER BY salary DESC) AS 'LEAD' \n",
    "FROM salaries\n",
    "    \"\"\",\n",
    "    con,\n",
    ")"
   ]
  },
  {
   "cell_type": "code",
   "execution_count": null,
   "metadata": {
    "ExecuteTime": {
     "end_time": "2022-05-30T17:14:41.578567Z",
     "start_time": "2022-05-30T17:14:41.568484Z"
    },
    "collapsed": true
   },
   "outputs": [],
   "source": [
    "pd.read_sql(\n",
    "    \"\"\"\n",
    "SELECT emp_id, emp,depname, salary,FIRST_VALUE(salary) OVER(PARTITION BY depname) AS 'FIRST_VALUE' \n",
    "FROM salaries\n",
    "    \"\"\",\n",
    "    con,\n",
    ")"
   ]
  },
  {
   "cell_type": "code",
   "execution_count": null,
   "metadata": {
    "ExecuteTime": {
     "end_time": "2022-05-30T17:14:57.552505Z",
     "start_time": "2022-05-30T17:14:57.542004Z"
    },
    "collapsed": true
   },
   "outputs": [],
   "source": [
    "pd.read_sql(\n",
    "    \"\"\"\n",
    "SELECT emp_id, emp,depname, salary,LAST_VALUE(salary) OVER(PARTITION BY depname) AS 'LAST_VALUE' \n",
    "FROM salaries\n",
    "    \"\"\",\n",
    "    con,\n",
    ")"
   ]
  },
  {
   "cell_type": "code",
   "execution_count": null,
   "metadata": {
    "ExecuteTime": {
     "end_time": "2022-05-30T17:15:40.714562Z",
     "start_time": "2022-05-30T17:15:40.704485Z"
    },
    "collapsed": true
   },
   "outputs": [],
   "source": [
    "pd.read_sql(\n",
    "    \"\"\"\n",
    "SELECT emp_id, emp,depname, salary,LAST_VALUE(salary) OVER(PARTITION BY depname ORDER BY salary) AS 'LAST_VALUE' \n",
    "FROM salaries\n",
    "    \"\"\",\n",
    "    con,\n",
    ")"
   ]
  },
  {
   "cell_type": "code",
   "execution_count": null,
   "metadata": {
    "ExecuteTime": {
     "end_time": "2022-05-30T17:16:16.777755Z",
     "start_time": "2022-05-30T17:16:16.765625Z"
    },
    "collapsed": true
   },
   "outputs": [],
   "source": [
    "pd.read_sql(\n",
    "    \"\"\"\n",
    "SELECT emp_id, emp,depname, salary,LAST_VALUE(salary) OVER(PARTITION BY depname ORDER BY salary\n",
    "ROWS BETWEEN UNBOUNDED PRECEDING AND UNBOUNDED FOLLOWING\n",
    ") AS 'LAST_VALUE' \n",
    "FROM salaries\n",
    "    \"\"\",\n",
    "    con,\n",
    ")"
   ]
  },
  {
   "cell_type": "code",
   "execution_count": null,
   "metadata": {
    "collapsed": true
   },
   "outputs": [],
   "source": []
  },
  {
   "cell_type": "markdown",
   "metadata": {},
   "source": [
    "1. Какую часть зарплат от общей суммы получают менеждеры, а какую директора?"
   ]
  },
  {
   "cell_type": "code",
   "execution_count": null,
   "metadata": {
    "ExecuteTime": {
     "end_time": "2022-05-30T17:26:50.017405Z",
     "start_time": "2022-05-30T17:26:50.003869Z"
    },
    "collapsed": true
   },
   "outputs": [],
   "source": [
    "pd.read_sql(\n",
    "    \"\"\"\n",
    "\n",
    "SELECT s.*, sum(salary) over() as 'sum', sum(s.salary) over(partition by s.role) as 'by_role' ,\n",
    " (sum(s.salary) over(partition by s.role) )*100.0/(sum(salary) over()) as 'prc_role'\n",
    "FROM salaries s \n",
    "\n",
    "    \"\"\",\n",
    "    con,\n",
    ")"
   ]
  },
  {
   "cell_type": "markdown",
   "metadata": {},
   "source": [
    "2. На каком месте по величине зарплаты находятся сотрудники, у которых первая буква в имени \"R\"? "
   ]
  },
  {
   "cell_type": "code",
   "execution_count": null,
   "metadata": {
    "ExecuteTime": {
     "end_time": "2022-05-30T17:30:08.132484Z",
     "start_time": "2022-05-30T17:30:08.123501Z"
    },
    "collapsed": true
   },
   "outputs": [],
   "source": [
    "pd.read_sql(\n",
    "    \"\"\"\n",
    "select q.* from (\n",
    "SELECT emp_id, emp,depname, salary, dense_rank() OVER ( ORDER BY salary DESC) rank_by_dept\n",
    "FROM salaries\n",
    ") q\n",
    "where emp like 'R%'\n",
    "    \"\"\",\n",
    "    con,\n",
    ")"
   ]
  },
  {
   "cell_type": "markdown",
   "metadata": {},
   "source": [
    "3. Выведите процент менеджеров и директоров по каждому из департаментов."
   ]
  },
  {
   "cell_type": "code",
   "execution_count": null,
   "metadata": {
    "ExecuteTime": {
     "end_time": "2022-05-30T17:39:17.823517Z",
     "start_time": "2022-05-30T17:39:17.813787Z"
    },
    "collapsed": true
   },
   "outputs": [],
   "source": [
    "pd.read_sql(\n",
    "    \"\"\"\n",
    "    select q.depname,q.role,q.prc_man_dir from (\n",
    "SELECT depname,role,salary,\n",
    "--count() over(partition by depname,role ) as 'cnt_dep_role',count() over(partition by depname ) as 'cnt_dep',\n",
    "(count() over(partition by depname,role ))*100.0 /count() over(partition by depname ) as 'prc_man_dir'\n",
    "FROM salaries\n",
    ") q\n",
    "group by q.depname,q.role,q.prc_man_dir\n",
    "    \"\"\",\n",
    "    con,\n",
    ")"
   ]
  },
  {
   "cell_type": "code",
   "execution_count": null,
   "metadata": {
    "ExecuteTime": {
     "end_time": "2022-05-30T17:40:41.485016Z",
     "start_time": "2022-05-30T17:40:41.477510Z"
    },
    "collapsed": true
   },
   "outputs": [],
   "source": [
    "pd.read_sql(\n",
    "    \"\"\"\n",
    "SELECT depname,role\n",
    "FROM salaries q\n",
    "group by q.depname,q.role\n",
    "    \"\"\",\n",
    "    con,\n",
    ")"
   ]
  },
  {
   "cell_type": "markdown",
   "metadata": {},
   "source": [
    "4. Выведите среднюю зарплату по 1 департаменту, а также по 2 и 3 совместно."
   ]
  },
  {
   "cell_type": "code",
   "execution_count": null,
   "metadata": {
    "ExecuteTime": {
     "end_time": "2022-05-30T17:44:30.568058Z",
     "start_time": "2022-05-30T17:44:30.551482Z"
    },
    "collapsed": true
   },
   "outputs": [],
   "source": [
    "pd.read_sql(\n",
    "    \"\"\"\n",
    "SELECT emp_id,depname,emp,role,salary,\n",
    "avg(salary) over (partition by depname)\n",
    "FROM salaries\n",
    "where depname = 'dep1'\n",
    "union all\n",
    "SELECT emp_id,depname,emp,role,salary\n",
    ",avg(salary) over (partition by depname)\n",
    "FROM salaries\n",
    "where depname != 'dep1'\n",
    "    \"\"\",\n",
    "    con,\n",
    ")"
   ]
  },
  {
   "cell_type": "code",
   "execution_count": null,
   "metadata": {
    "ExecuteTime": {
     "end_time": "2022-05-30T17:51:27.528041Z",
     "start_time": "2022-05-30T17:51:27.519477Z"
    },
    "collapsed": true
   },
   "outputs": [],
   "source": [
    "pd.read_sql(\n",
    "    \"\"\"\n",
    "    with  avg_sal as (\n",
    "SELECT distinct depname,\n",
    "avg(salary) over (partition by depname) as 'avg_'\n",
    "FROM salaries\n",
    ")\n",
    "select * from avg_sal where depname = 'dep1'\n",
    "union all\n",
    "select 'dep2+dep3', sum(avg_) from avg_sal where depname != 'dep1'\n",
    "\n",
    "    \"\"\",\n",
    "    con,\n",
    ")"
   ]
  },
  {
   "cell_type": "markdown",
   "metadata": {},
   "source": [
    "5. Какой процент от суммы зарплат по всех организации получают 10% сотрудников с самыми большими зарплатами? 20%?30%?"
   ]
  },
  {
   "cell_type": "code",
   "execution_count": null,
   "metadata": {
    "ExecuteTime": {
     "end_time": "2022-05-30T18:10:05.663828Z",
     "start_time": "2022-05-30T18:10:05.646942Z"
    },
    "collapsed": true
   },
   "outputs": [],
   "source": [
    "pd.read_sql(\n",
    "    \"\"\"\n",
    "  with table1 as (  \n",
    "SELECT emp_id,depname,emp,role,salary,\n",
    "sum(salary) over () as 'sum_all',\n",
    "count() over () as 'cnt_all',\n",
    "count() over (order by salary desc ROWS BETWEEN UNBOUNDED PRECEDING AND current row) as 'sum_emp',\n",
    "sum(salary) over (order by salary desc ROWS BETWEEN UNBOUNDED PRECEDING AND current row) as 'sum_sal'\n",
    "FROM salaries\n",
    ")\n",
    "\n",
    "select sum_emp*100.0/cnt_all as 'true_prc',\n",
    "table1.salary,table1.sum_all,table1.sum_sal,\n",
    "sum_sal*100.0/sum_all\n",
    "\n",
    "\n",
    "from table1\n",
    "    \"\"\",\n",
    "    con,\n",
    ")"
   ]
  },
  {
   "cell_type": "code",
   "execution_count": null,
   "metadata": {
    "collapsed": true
   },
   "outputs": [],
   "source": []
  },
  {
   "cell_type": "code",
   "execution_count": null,
   "metadata": {
    "collapsed": true
   },
   "outputs": [],
   "source": []
  },
  {
   "cell_type": "code",
   "execution_count": null,
   "metadata": {
    "ExecuteTime": {
     "end_time": "2022-05-30T18:13:14.232858Z",
     "start_time": "2022-05-30T18:13:14.219228Z"
    },
    "collapsed": true
   },
   "outputs": [],
   "source": [
    "pd.read_sql(\n",
    "    \"\"\"\n",
    "  with table1 as (  \n",
    "SELECT emp_id,depname,emp,role,salary,\n",
    "sum(salary) over () as 'sum_all',\n",
    "--count() over () as 'cnt_all',\n",
    "count() over (order by salary desc ROWS BETWEEN UNBOUNDED PRECEDING AND current row) as 'sum_emp',\n",
    "NTILE(2) OVER(order by salary)\n",
    "FROM salaries\n",
    ")\n",
    "\n",
    "select *  from table1\n",
    "    \"\"\",\n",
    "    con,\n",
    ")"
   ]
  },
  {
   "cell_type": "code",
   "execution_count": null,
   "metadata": {
    "collapsed": true
   },
   "outputs": [],
   "source": []
  }
 ],
 "metadata": {
  "kernelspec": {
   "display_name": "Python 3",
   "language": "python",
   "name": "python3"
  },
  "language_info": {
   "codemirror_mode": {
    "name": "ipython",
    "version": 3
   },
   "file_extension": ".py",
   "mimetype": "text/x-python",
   "name": "python",
   "nbconvert_exporter": "python",
   "pygments_lexer": "ipython3",
   "version": "3.6.1"
  }
 },
 "nbformat": 4,
 "nbformat_minor": 4
}
