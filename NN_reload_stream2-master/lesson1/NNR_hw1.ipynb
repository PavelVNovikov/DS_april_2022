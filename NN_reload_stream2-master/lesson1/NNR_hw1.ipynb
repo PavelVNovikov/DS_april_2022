{
 "cells": [
  {
   "cell_type": "markdown",
   "id": "2a0c7440",
   "metadata": {},
   "source": [
    "Написать на PyTorch forward и backward полносвязного слоя без использования autograd\n",
    "Написать 1-2 адаптивных оптимизатора\n",
    "Решить задачу нахождения корней квадратного уравнения методом градиентного спуска"
   ]
  },
  {
   "cell_type": "code",
   "execution_count": 1,
   "id": "62f9011e",
   "metadata": {},
   "outputs": [],
   "source": [
    "import torch\n",
    "import numpy as np"
   ]
  },
  {
   "cell_type": "code",
   "execution_count": 3,
   "id": "191ac174",
   "metadata": {},
   "outputs": [
    {
     "name": "stdout",
     "output_type": "stream",
     "text": [
      "tensor(3.5000)\n"
     ]
    }
   ],
   "source": [
    "# velocity = momentum (0.9-0.99)* velocity - lr*gradient\n",
    "# w = w + velocity (скорость-вектор)\n",
    "class SDGMomentum:\n",
    "    def __init__(self, momentum, lr, model):\n",
    "        self.momentum = momentum\n",
    "        self.lr = lr\n",
    "        self.velocity = torch.zeros_like(model)\n",
    "        self.model = model\n",
    "    def step(self, grad):\n",
    "        self.velocity = self.momentum * self.velocity - self.lr * grad\n",
    "        self.model += self.velocity\n",
    "\n",
    "# Object(arg1, arg2)\n",
    "# найти пересечение с осью x линии y = 2 * x - 7 методом градиентного спуска\n",
    "def func(x):\n",
    "    return (2 * x -7) ** 2\n",
    "def grad_f(x):\n",
    "    return 2 * (2 * x - 7) * 2\n",
    "def solver(init_x):\n",
    "    x = torch.tensor(init_x)\n",
    "    g = grad_f(x)\n",
    "    optim = SDGMomentum(0.9, 0.001, x)\n",
    "    for i in range(1000):\n",
    "        optim.step(g)\n",
    "        g = grad_f(optim.model)\n",
    "    print(optim.model)\n",
    "solver(6.)\n"
   ]
  },
  {
   "cell_type": "code",
   "execution_count": null,
   "id": "a63863f9",
   "metadata": {},
   "outputs": [],
   "source": []
  }
 ],
 "metadata": {
  "kernelspec": {
   "display_name": "Python 3.10.5 64-bit",
   "language": "python",
   "name": "python3"
  },
  "language_info": {
   "codemirror_mode": {
    "name": "ipython",
    "version": 3
   },
   "file_extension": ".py",
   "mimetype": "text/x-python",
   "name": "python",
   "nbconvert_exporter": "python",
   "pygments_lexer": "ipython3",
   "version": "3.10.5"
  },
  "vscode": {
   "interpreter": {
    "hash": "26de051ba29f2982a8de78e945f0abaf191376122a1563185a90213a26c5da77"
   }
  }
 },
 "nbformat": 4,
 "nbformat_minor": 5
}
