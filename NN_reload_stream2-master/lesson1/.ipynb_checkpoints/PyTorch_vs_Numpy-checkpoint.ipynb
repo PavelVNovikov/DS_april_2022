{
 "cells": [
  {
   "cell_type": "code",
   "execution_count": null,
   "metadata": {
    "id": "EDcYDdXLSqc7"
   },
   "outputs": [],
   "source": [
    "import torch"
   ]
  },
  {
   "cell_type": "code",
   "execution_count": null,
   "metadata": {
    "id": "ygeQQ46TTAyF"
   },
   "outputs": [],
   "source": [
    "import numpy as np"
   ]
  },
  {
   "cell_type": "code",
   "execution_count": null,
   "metadata": {
    "id": "8Srf7oOCTD2I"
   },
   "outputs": [],
   "source": [
    "zeros_np  = np.zeros((4, 4))\n",
    "ones_np   = np.ones((4, 4))\n",
    "random_np = np.random.random((4, 4))"
   ]
  },
  {
   "cell_type": "code",
   "execution_count": null,
   "metadata": {
    "id": "oc-dUzgHTEgc"
   },
   "outputs": [],
   "source": [
    "zeros_t  = torch.zeros(4, 4)\n",
    "ones_t   = torch.ones(4, 4)\n",
    "random_t = torch.rand(4, 4)"
   ]
  },
  {
   "cell_type": "code",
   "execution_count": null,
   "metadata": {
    "id": "apEJfsttTBXZ"
   },
   "outputs": [],
   "source": [
    "# Numpy -> PyTorch\n",
    "tensor = torch.from_numpy(random_np)\n",
    "\n",
    "# PyTorch -> Numpy\n",
    "random_np = tensor.numpy()\n",
    "#отсоединение графа градиентов\n",
    "random_np = tensor.detach().cpu().numpy()"
   ]
  },
  {
   "cell_type": "markdown",
   "metadata": {
    "id": "EBcFaoYMTsB0"
   },
   "source": [
    "Индексация"
   ]
  },
  {
   "cell_type": "code",
   "execution_count": null,
   "metadata": {
    "id": "5soVuOkUTUZP"
   },
   "outputs": [],
   "source": [
    "# Index item\n",
    "print(random_np[0, 0]) # returns a float\n",
    "\n",
    "# Index row\n",
    "print(random_np[0, :]) # returns an array"
   ]
  },
  {
   "cell_type": "code",
   "execution_count": null,
   "metadata": {
    "id": "OGx06gJdTd7W"
   },
   "outputs": [],
   "source": [
    "# Index item\n",
    "print(random_t[0, 0]) # returns a float\n",
    "\n",
    "# Index row\n",
    "print(random_t[0, :]) # returns an array"
   ]
  },
  {
   "cell_type": "markdown",
   "metadata": {
    "id": "LpeOKkLUTvu-"
   },
   "source": [
    "Поэлементное сложение и вычитание\n"
   ]
  },
  {
   "cell_type": "code",
   "execution_count": null,
   "metadata": {
    "id": "8O-tyoLiTy-x"
   },
   "outputs": [],
   "source": [
    "print(random_np-ones_np)\n",
    "print(random_np+ones_np)"
   ]
  },
  {
   "cell_type": "code",
   "execution_count": null,
   "metadata": {
    "id": "JVQElzdXT6ax"
   },
   "outputs": [],
   "source": [
    "print(random_t-ones_t)\n",
    "print(random_t+ones_t)"
   ]
  },
  {
   "cell_type": "markdown",
   "metadata": {
    "id": "jaGLsEmtUJxy"
   },
   "source": [
    "Умножение"
   ]
  },
  {
   "cell_type": "code",
   "execution_count": null,
   "metadata": {
    "id": "HsqURqvqUYMk"
   },
   "outputs": [],
   "source": [
    "print(random_np*ones_np) ##Elementwise\n",
    "print(random_np@ones_np) ## Matrix"
   ]
  },
  {
   "cell_type": "code",
   "execution_count": null,
   "metadata": {
    "id": "zVyY2X9cUAES"
   },
   "outputs": [],
   "source": [
    "print(random_t*ones_t) ##Elementwise\n",
    "print(random_t@ones_t) ## Matrix"
   ]
  },
  {
   "cell_type": "markdown",
   "metadata": {
    "id": "ZietDgKRUeLu"
   },
   "source": [
    "Размерность"
   ]
  },
  {
   "cell_type": "code",
   "execution_count": null,
   "metadata": {
    "id": "r5JRJUszUWxf"
   },
   "outputs": [],
   "source": [
    "print(random_np.shape)\n",
    "print(random_np.ndim)"
   ]
  },
  {
   "cell_type": "code",
   "execution_count": null,
   "metadata": {
    "id": "YQQat3m6Umrt"
   },
   "outputs": [],
   "source": [
    "print(random_t.shape)\n",
    "print(random_t.size()) \n",
    "assert random_t.shape==random_t.size()\n",
    "print(random_t.dim())"
   ]
  },
  {
   "cell_type": "markdown",
   "metadata": {
    "id": "1iw9NbKRU6SS"
   },
   "source": [
    "Решейпинг"
   ]
  },
  {
   "cell_type": "code",
   "execution_count": null,
   "metadata": {
    "id": "q37nfaPdU5jz"
   },
   "outputs": [],
   "source": [
    "print(random_np.shape, (random_np.reshape((8,2)).shape))"
   ]
  },
  {
   "cell_type": "code",
   "execution_count": null,
   "metadata": {
    "id": "LxRlPlxIUwAE"
   },
   "outputs": [],
   "source": [
    "print(random_t.shape, (random_t.view(8, 2).shape))"
   ]
  },
  {
   "cell_type": "markdown",
   "metadata": {
    "id": "M82HWXbcVcrc"
   },
   "source": [
    "Детерминанта"
   ]
  },
  {
   "cell_type": "code",
   "execution_count": null,
   "metadata": {
    "id": "1IrcoQUZVa1o"
   },
   "outputs": [],
   "source": [
    "np.linalg.det(ones_np)"
   ]
  },
  {
   "cell_type": "code",
   "execution_count": null,
   "metadata": {
    "id": "seCsjl3NViLv"
   },
   "outputs": [],
   "source": [
    "#Не поддерживается "
   ]
  },
  {
   "cell_type": "markdown",
   "metadata": {
    "id": "YZc9QkoLVs-g"
   },
   "source": [
    "Sum/mean/std"
   ]
  },
  {
   "cell_type": "code",
   "execution_count": null,
   "metadata": {
    "id": "EChAC6BLVw32"
   },
   "outputs": [],
   "source": [
    "print(ones_np.sum(), ones_np.mean(), ones_np.std())\n",
    "print(ones_t.sum(), ones_t.mean(), ones_t.std())"
   ]
  },
  {
   "cell_type": "markdown",
   "metadata": {
    "id": "lbJeFJjlWLW-"
   },
   "source": [
    "Транспонирование"
   ]
  },
  {
   "cell_type": "code",
   "execution_count": null,
   "metadata": {
    "id": "ncSCaiq8WIBY"
   },
   "outputs": [],
   "source": [
    "print(random_np)\n",
    "print(random_np.T)"
   ]
  },
  {
   "cell_type": "code",
   "execution_count": null,
   "metadata": {
    "id": "VkGISD-MWCPM"
   },
   "outputs": [],
   "source": [
    "print(random_t)\n",
    "print(random_t.t())"
   ]
  },
  {
   "cell_type": "markdown",
   "metadata": {
    "id": "lrwlxZ4JWsuo"
   },
   "source": [
    "Сохранение данных"
   ]
  },
  {
   "cell_type": "code",
   "execution_count": null,
   "metadata": {
    "id": "tMXB4OMhWiBA"
   },
   "outputs": [],
   "source": [
    "np.save('file.npy', random_np)\n",
    "np.load('file.npy')"
   ]
  },
  {
   "cell_type": "code",
   "execution_count": null,
   "metadata": {
    "id": "AMAB-pW1WzAX"
   },
   "outputs": [],
   "source": [
    "torch.save(random_t, 'file')\n",
    "torch.load('file')"
   ]
  },
  {
   "cell_type": "code",
   "execution_count": null,
   "metadata": {
    "id": "URytu91BW4gt"
   },
   "outputs": [],
   "source": []
  }
 ],
 "metadata": {
  "colab": {
   "collapsed_sections": [],
   "name": "PyTorch_vs_Numpy.ipynb",
   "private_outputs": true,
   "provenance": []
  },
  "kernelspec": {
   "display_name": "Python 3 (ipykernel)",
   "language": "python",
   "name": "python3"
  },
  "language_info": {
   "codemirror_mode": {
    "name": "ipython",
    "version": 3
   },
   "file_extension": ".py",
   "mimetype": "text/x-python",
   "name": "python",
   "nbconvert_exporter": "python",
   "pygments_lexer": "ipython3",
   "version": "3.9.12"
  },
  "pycharm": {
   "stem_cell": {
    "cell_type": "raw",
    "metadata": {
     "collapsed": false
    },
    "source": []
   }
  }
 },
 "nbformat": 4,
 "nbformat_minor": 1
}
