{
  "cells": [
    {
      "cell_type": "markdown",
      "metadata": {
        "id": "dH7qx_irU4Y8"
      },
      "source": [
        "###ML1_1: \n",
        "https://www.hackerrank.com/challenges/capturing-non-capturing-groups/problem?isFullScreen=true\n",
        "\n",
        "###ML1_2: \n",
        "https://www.hackerrank.com/challenges/branch-reset-groups/problem?isFullScreen=true\n",
        "\n",
        "###ML1_3: \n",
        "https://www.hackerrank.com/challenges/detect-html-links/problem?isFullScreen=true\n",
        "\n",
        "###ML1_4: Реализовать stemming, lemmatization & BoW на следующем датасете: https://cloud.mail.ru/public/Z4L3/vB8GcgTtK (Russian Toxic-abuse comments)"
      ]
    },
    {
      "cell_type": "code",
      "execution_count": 1,
      "metadata": {
        "id": "xJfkstKpqsXp"
      },
      "outputs": [
        {
          "name": "stdout",
          "output_type": "stream",
          "text": [
            "True\n"
          ]
        }
      ],
      "source": [
        "# 1 \n",
        "# Regex_Pattern = r'okokok'\n",
        "Regex_Pattern = r'(ok){3,}'\n",
        "S = 'okokok! cya'\n",
        "# s = 'ervserfokokoksadc'\n",
        "\n",
        "import re\n",
        "\n",
        "print(str(bool(re.search(Regex_Pattern, S))))"
      ]
    },
    {
      "cell_type": "code",
      "execution_count": 2,
      "metadata": {},
      "outputs": [
        {
          "name": "stdout",
          "output_type": "stream",
          "text": [
            "True\n",
            "True\n",
            "True\n",
            "True\n",
            "False\n",
            "False\n"
          ]
        }
      ],
      "source": [
        "# 2\n",
        "s = ['12-34-56-78',\n",
        "        '12:34:56:78',\n",
        "        '12---34---56---78',\n",
        "        '12.34.56.78',\n",
        "        '1-234-56-78',\n",
        "        '12-45.78:10']\n",
        "Regex_Pattern = r'^((\\d{2}-){3}|(\\d{2}:){3}|(\\d{2}-{3}){3}|(\\d{2}\\.){3})\\d{2}$'\n",
        "for i in s:\n",
        "    print(str(bool(re.search(Regex_Pattern, i))))"
      ]
    },
    {
      "cell_type": "code",
      "execution_count": 35,
      "metadata": {},
      "outputs": [
        {
          "name": "stdout",
          "output_type": "stream",
          "text": [
            "http://www.quackit.com/html/tutorial/html_links.cfm ,  Example Link\n",
            "http://www.quackit.com/html/examples/html_links_examples.cfm ,  More Link Examples...\n",
            "/wiki/Main_Page ,  Main page\n",
            "/wiki/Portal:Contents ,  Contents\n",
            "/wiki/Portal:Featured_content ,  Featured content\n",
            "/wiki/Portal:Current_events ,  Current events\n",
            "/wiki/Special:Random ,  Random article\n",
            "//donate.wikimedia.org/wiki/Special:FundraiserRedirector?utm_source=donate&utm_medium=sidebar&utm_campaign=C13_en\\.wikipedia.org&uselang=en ,  Donate to Wikipedia\n"
          ]
        }
      ],
      "source": [
        "# 3\n",
        "n = 2\n",
        "input = [ '''<p><a href=\"http://www.quackit.com/html/tutorial/html_links.cfm\">Example Link</a></p>\\n\\\n",
        "<div class=\"more-info\"><a href=\"http://www.quackit.com/html/examples/html_links_examples.cfm\">More Link Examples...</a></div>''',\n",
        "'''<div class=\"portal\" role=\"navigation\" id='p-navigation'>\\\n",
        "<h3>Navigation</h3>\\\n",
        "<div class=\"body\">\\\n",
        "<ul>\\\n",
        " <li id=\"n-mainpage-description\"><a href=\"/wiki/Main_Page\" title=\"Visit the main page [z]\" accesskey=\"z\">Main page</a></li>\\\n",
        " <li id=\"n-contents\"><a href=\"/wiki/Portal:Contents\" title=\"Guides to browsing Wikipedia\">Contents</a></li>\\\n",
        " <li id=\"n-featuredcontent\"><a href=\"/wiki/Portal:Featured_content\" title=\"Featured content  the best of Wikipedia\">Featured content</a></li>\\\n",
        "<li id=\"n-currentevents\"><a href=\"/wiki/Portal:Current_events\" title=\"Find background information on current events\">Current events</a></li>\\\n",
        "<li id=\"n-randompage\"><a href=\"/wiki/Special:Random\" title=\"Load a random article [x]\" accesskey=\"x\">Random article</a></li>\\\n",
        "<li id=\"n-sitesupport\"><a href=\"//donate.wikimedia.org/wiki/Special:FundraiserRedirector?utm_source=donate&utm_medium=sidebar&utm_campaign=C13_en\\.wikipedia.org&uselang=en\" title=\"Support us\">Donate to Wikipedia</a></li>\\\n",
        "</ul>\\\n",
        "</div>\\\n",
        "</div>'''\n",
        "]\n",
        "\n",
        "\n",
        "pattern = r'<a href=\"([^\"]*)\"[^>]*>(.*?)</a>'\n",
        "\n",
        "for text in input:\n",
        "    # print(f'text: {text}')\n",
        "    matches = re.findall(pattern, text)\n",
        "    for match in matches: \n",
        "        print(match[0], ', ', match[1])\n"
      ]
    }
  ],
  "metadata": {
    "colab": {
      "name": "NLP1_homework",
      "provenance": [],
      "toc_visible": true
    },
    "kernelspec": {
      "display_name": "Python 3",
      "name": "python3"
    },
    "language_info": {
      "codemirror_mode": {
        "name": "ipython",
        "version": 3
      },
      "file_extension": ".py",
      "mimetype": "text/x-python",
      "name": "python",
      "nbconvert_exporter": "python",
      "pygments_lexer": "ipython3",
      "version": "3.9.7"
    }
  },
  "nbformat": 4,
  "nbformat_minor": 0
}
