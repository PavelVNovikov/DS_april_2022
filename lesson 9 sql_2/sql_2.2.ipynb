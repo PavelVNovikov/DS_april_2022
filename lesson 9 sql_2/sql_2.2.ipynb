{
 "cells": [
  {
   "cell_type": "code",
   "execution_count": 1,
   "metadata": {
    "ExecuteTime": {
     "end_time": "2022-05-30T18:17:20.176450Z",
     "start_time": "2022-05-30T18:17:19.437909Z"
    }
   },
   "outputs": [],
   "source": [
    "import sqlite3\n",
    "import pandas as pd"
   ]
  },
  {
   "cell_type": "code",
   "execution_count": 2,
   "metadata": {
    "ExecuteTime": {
     "end_time": "2022-05-30T18:17:20.753969Z",
     "start_time": "2022-05-30T18:17:20.750597Z"
    }
   },
   "outputs": [],
   "source": [
    "con = sqlite3.connect(\":memory:\")\n",
    "cur = con.cursor()"
   ]
  },
  {
   "cell_type": "code",
   "execution_count": 3,
   "metadata": {
    "ExecuteTime": {
     "end_time": "2022-05-30T18:17:22.915540Z",
     "start_time": "2022-05-30T18:17:22.912739Z"
    }
   },
   "outputs": [],
   "source": [
    "link = 'https://raw.githubusercontent.com/plotly/datasets/master/dash-sample-apps/dash-web-trader/data/EURUSD.csv'"
   ]
  },
  {
   "cell_type": "code",
   "execution_count": 4,
   "metadata": {
    "ExecuteTime": {
     "end_time": "2022-05-30T18:17:27.769308Z",
     "start_time": "2022-05-30T18:17:25.278877Z"
    }
   },
   "outputs": [],
   "source": [
    "data = pd.read_csv(link)"
   ]
  },
  {
   "cell_type": "code",
   "execution_count": 5,
   "metadata": {
    "ExecuteTime": {
     "end_time": "2022-05-30T18:17:47.706433Z",
     "start_time": "2022-05-30T18:17:47.666541Z"
    }
   },
   "outputs": [
    {
     "data": {
      "text/html": [
       "<div>\n",
       "<style scoped>\n",
       "    .dataframe tbody tr th:only-of-type {\n",
       "        vertical-align: middle;\n",
       "    }\n",
       "\n",
       "    .dataframe tbody tr th {\n",
       "        vertical-align: top;\n",
       "    }\n",
       "\n",
       "    .dataframe thead th {\n",
       "        text-align: right;\n",
       "    }\n",
       "</style>\n",
       "<table border=\"1\" class=\"dataframe\">\n",
       "  <thead>\n",
       "    <tr style=\"text-align: right;\">\n",
       "      <th></th>\n",
       "      <th>Symbol</th>\n",
       "      <th>Date</th>\n",
       "      <th>Bid</th>\n",
       "      <th>Ask</th>\n",
       "    </tr>\n",
       "  </thead>\n",
       "  <tbody>\n",
       "    <tr>\n",
       "      <th>0</th>\n",
       "      <td>EURUSD</td>\n",
       "      <td>2016-01-04 18:00:40.420</td>\n",
       "      <td>1.08196</td>\n",
       "      <td>1.08200</td>\n",
       "    </tr>\n",
       "    <tr>\n",
       "      <th>1</th>\n",
       "      <td>EURUSD</td>\n",
       "      <td>2016-01-04 18:00:40.442</td>\n",
       "      <td>1.08194</td>\n",
       "      <td>1.08200</td>\n",
       "    </tr>\n",
       "    <tr>\n",
       "      <th>2</th>\n",
       "      <td>EURUSD</td>\n",
       "      <td>2016-01-04 18:00:40.528</td>\n",
       "      <td>1.08196</td>\n",
       "      <td>1.08200</td>\n",
       "    </tr>\n",
       "    <tr>\n",
       "      <th>3</th>\n",
       "      <td>EURUSD</td>\n",
       "      <td>2016-01-04 18:00:40.554</td>\n",
       "      <td>1.08194</td>\n",
       "      <td>1.08200</td>\n",
       "    </tr>\n",
       "    <tr>\n",
       "      <th>4</th>\n",
       "      <td>EURUSD</td>\n",
       "      <td>2016-01-04 18:00:40.651</td>\n",
       "      <td>1.08194</td>\n",
       "      <td>1.08198</td>\n",
       "    </tr>\n",
       "  </tbody>\n",
       "</table>\n",
       "</div>"
      ],
      "text/plain": [
       "   Symbol                     Date      Bid      Ask\n",
       "0  EURUSD  2016-01-04 18:00:40.420  1.08196  1.08200\n",
       "1  EURUSD  2016-01-04 18:00:40.442  1.08194  1.08200\n",
       "2  EURUSD  2016-01-04 18:00:40.528  1.08196  1.08200\n",
       "3  EURUSD  2016-01-04 18:00:40.554  1.08194  1.08200\n",
       "4  EURUSD  2016-01-04 18:00:40.651  1.08194  1.08198"
      ]
     },
     "execution_count": 5,
     "metadata": {},
     "output_type": "execute_result"
    }
   ],
   "source": [
    "data.head()"
   ]
  },
  {
   "cell_type": "code",
   "execution_count": 6,
   "metadata": {
    "ExecuteTime": {
     "end_time": "2022-05-30T18:17:54.081242Z",
     "start_time": "2022-05-30T18:17:53.616612Z"
    }
   },
   "outputs": [],
   "source": [
    "data.to_sql(\"data\", con, index=False, if_exists=\"replace\")"
   ]
  },
  {
   "cell_type": "code",
   "execution_count": 7,
   "metadata": {
    "ExecuteTime": {
     "end_time": "2022-05-30T18:17:57.306606Z",
     "start_time": "2022-05-30T18:17:57.295551Z"
    },
    "scrolled": true
   },
   "outputs": [
    {
     "data": {
      "text/html": [
       "<div>\n",
       "<style scoped>\n",
       "    .dataframe tbody tr th:only-of-type {\n",
       "        vertical-align: middle;\n",
       "    }\n",
       "\n",
       "    .dataframe tbody tr th {\n",
       "        vertical-align: top;\n",
       "    }\n",
       "\n",
       "    .dataframe thead th {\n",
       "        text-align: right;\n",
       "    }\n",
       "</style>\n",
       "<table border=\"1\" class=\"dataframe\">\n",
       "  <thead>\n",
       "    <tr style=\"text-align: right;\">\n",
       "      <th></th>\n",
       "      <th>Symbol</th>\n",
       "      <th>Date</th>\n",
       "      <th>Bid</th>\n",
       "      <th>Ask</th>\n",
       "    </tr>\n",
       "  </thead>\n",
       "  <tbody>\n",
       "    <tr>\n",
       "      <th>0</th>\n",
       "      <td>EURUSD</td>\n",
       "      <td>2016-01-04 18:00:40.420</td>\n",
       "      <td>1.08196</td>\n",
       "      <td>1.08200</td>\n",
       "    </tr>\n",
       "    <tr>\n",
       "      <th>1</th>\n",
       "      <td>EURUSD</td>\n",
       "      <td>2016-01-04 18:00:40.442</td>\n",
       "      <td>1.08194</td>\n",
       "      <td>1.08200</td>\n",
       "    </tr>\n",
       "    <tr>\n",
       "      <th>2</th>\n",
       "      <td>EURUSD</td>\n",
       "      <td>2016-01-04 18:00:40.528</td>\n",
       "      <td>1.08196</td>\n",
       "      <td>1.08200</td>\n",
       "    </tr>\n",
       "    <tr>\n",
       "      <th>3</th>\n",
       "      <td>EURUSD</td>\n",
       "      <td>2016-01-04 18:00:40.554</td>\n",
       "      <td>1.08194</td>\n",
       "      <td>1.08200</td>\n",
       "    </tr>\n",
       "    <tr>\n",
       "      <th>4</th>\n",
       "      <td>EURUSD</td>\n",
       "      <td>2016-01-04 18:00:40.651</td>\n",
       "      <td>1.08194</td>\n",
       "      <td>1.08198</td>\n",
       "    </tr>\n",
       "  </tbody>\n",
       "</table>\n",
       "</div>"
      ],
      "text/plain": [
       "   Symbol                     Date      Bid      Ask\n",
       "0  EURUSD  2016-01-04 18:00:40.420  1.08196  1.08200\n",
       "1  EURUSD  2016-01-04 18:00:40.442  1.08194  1.08200\n",
       "2  EURUSD  2016-01-04 18:00:40.528  1.08196  1.08200\n",
       "3  EURUSD  2016-01-04 18:00:40.554  1.08194  1.08200\n",
       "4  EURUSD  2016-01-04 18:00:40.651  1.08194  1.08198"
      ]
     },
     "execution_count": 7,
     "metadata": {},
     "output_type": "execute_result"
    }
   ],
   "source": [
    "pd.read_sql(\n",
    "    \"\"\"\n",
    "    SELECT * FROM data\n",
    "    limit 5\n",
    "    \"\"\",\n",
    "    con,\n",
    ")"
   ]
  },
  {
   "cell_type": "raw",
   "metadata": {},
   "source": [
    "предыдущее значение\n",
    "дельта с предыдущим (2,3,4)\n",
    "% изменения\n",
    "рост или падение\n",
    "\n",
    "разница между bid и ask\n",
    "разница значений на начало минуты, на конец + максимум минимум за минуту (промежуток времени)\n",
    "\n",
    "значение на начало минуты, на конец + максимум минимум за минуту (промежуток времени)\n",
    "день недели\n",
    "сезон года\n",
    "праздники\n",
    "график работы биржи\n",
    "\n",
    "рабочее/нерабочее время (9-18)\n",
    "время суток"
   ]
  },
  {
   "cell_type": "code",
   "execution_count": null,
   "metadata": {},
   "outputs": [],
   "source": []
  }
 ],
 "metadata": {
  "kernelspec": {
   "display_name": "Python 3",
   "language": "python",
   "name": "python3"
  },
  "language_info": {
   "codemirror_mode": {
    "name": "ipython",
    "version": 3
   },
   "file_extension": ".py",
   "mimetype": "text/x-python",
   "name": "python",
   "nbconvert_exporter": "python",
   "pygments_lexer": "ipython3",
   "version": "3.7.6"
  }
 },
 "nbformat": 4,
 "nbformat_minor": 4
}
