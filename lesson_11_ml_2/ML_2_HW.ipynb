{
 "cells": [
  {
   "cell_type": "code",
   "execution_count": 3,
   "metadata": {},
   "outputs": [],
   "source": [
    "from sklearn.datasets import load_boston\n",
    "import pandas as pd\n",
    "import numpy as np"
   ]
  },
  {
   "cell_type": "code",
   "execution_count": 4,
   "metadata": {},
   "outputs": [],
   "source": [
    "RANDOM_STATE = 42"
   ]
  },
  {
   "cell_type": "code",
   "execution_count": 5,
   "metadata": {},
   "outputs": [
    {
     "data": {
      "text/html": [
       "<div>\n",
       "<style scoped>\n",
       "    .dataframe tbody tr th:only-of-type {\n",
       "        vertical-align: middle;\n",
       "    }\n",
       "\n",
       "    .dataframe tbody tr th {\n",
       "        vertical-align: top;\n",
       "    }\n",
       "\n",
       "    .dataframe thead th {\n",
       "        text-align: right;\n",
       "    }\n",
       "</style>\n",
       "<table border=\"1\" class=\"dataframe\">\n",
       "  <thead>\n",
       "    <tr style=\"text-align: right;\">\n",
       "      <th></th>\n",
       "      <th>CRIM</th>\n",
       "      <th>ZN</th>\n",
       "      <th>INDUS</th>\n",
       "      <th>CHAS</th>\n",
       "      <th>NOX</th>\n",
       "      <th>RM</th>\n",
       "      <th>AGE</th>\n",
       "      <th>DIS</th>\n",
       "      <th>RAD</th>\n",
       "      <th>TAX</th>\n",
       "      <th>PTRATIO</th>\n",
       "      <th>B</th>\n",
       "      <th>LSTAT</th>\n",
       "    </tr>\n",
       "  </thead>\n",
       "  <tbody>\n",
       "    <tr>\n",
       "      <th>501</th>\n",
       "      <td>0.06263</td>\n",
       "      <td>0.0</td>\n",
       "      <td>11.93</td>\n",
       "      <td>0.0</td>\n",
       "      <td>0.573</td>\n",
       "      <td>6.593</td>\n",
       "      <td>69.1</td>\n",
       "      <td>2.4786</td>\n",
       "      <td>1.0</td>\n",
       "      <td>273.0</td>\n",
       "      <td>21.0</td>\n",
       "      <td>391.99</td>\n",
       "      <td>9.67</td>\n",
       "    </tr>\n",
       "    <tr>\n",
       "      <th>502</th>\n",
       "      <td>0.04527</td>\n",
       "      <td>0.0</td>\n",
       "      <td>11.93</td>\n",
       "      <td>0.0</td>\n",
       "      <td>0.573</td>\n",
       "      <td>6.120</td>\n",
       "      <td>76.7</td>\n",
       "      <td>2.2875</td>\n",
       "      <td>1.0</td>\n",
       "      <td>273.0</td>\n",
       "      <td>21.0</td>\n",
       "      <td>396.90</td>\n",
       "      <td>9.08</td>\n",
       "    </tr>\n",
       "    <tr>\n",
       "      <th>503</th>\n",
       "      <td>0.06076</td>\n",
       "      <td>0.0</td>\n",
       "      <td>11.93</td>\n",
       "      <td>0.0</td>\n",
       "      <td>0.573</td>\n",
       "      <td>6.976</td>\n",
       "      <td>91.0</td>\n",
       "      <td>2.1675</td>\n",
       "      <td>1.0</td>\n",
       "      <td>273.0</td>\n",
       "      <td>21.0</td>\n",
       "      <td>396.90</td>\n",
       "      <td>5.64</td>\n",
       "    </tr>\n",
       "    <tr>\n",
       "      <th>504</th>\n",
       "      <td>0.10959</td>\n",
       "      <td>0.0</td>\n",
       "      <td>11.93</td>\n",
       "      <td>0.0</td>\n",
       "      <td>0.573</td>\n",
       "      <td>6.794</td>\n",
       "      <td>89.3</td>\n",
       "      <td>2.3889</td>\n",
       "      <td>1.0</td>\n",
       "      <td>273.0</td>\n",
       "      <td>21.0</td>\n",
       "      <td>393.45</td>\n",
       "      <td>6.48</td>\n",
       "    </tr>\n",
       "    <tr>\n",
       "      <th>505</th>\n",
       "      <td>0.04741</td>\n",
       "      <td>0.0</td>\n",
       "      <td>11.93</td>\n",
       "      <td>0.0</td>\n",
       "      <td>0.573</td>\n",
       "      <td>6.030</td>\n",
       "      <td>80.8</td>\n",
       "      <td>2.5050</td>\n",
       "      <td>1.0</td>\n",
       "      <td>273.0</td>\n",
       "      <td>21.0</td>\n",
       "      <td>396.90</td>\n",
       "      <td>7.88</td>\n",
       "    </tr>\n",
       "  </tbody>\n",
       "</table>\n",
       "</div>"
      ],
      "text/plain": [
       "        CRIM   ZN  INDUS  CHAS    NOX     RM   AGE     DIS  RAD    TAX  \\\n",
       "501  0.06263  0.0  11.93   0.0  0.573  6.593  69.1  2.4786  1.0  273.0   \n",
       "502  0.04527  0.0  11.93   0.0  0.573  6.120  76.7  2.2875  1.0  273.0   \n",
       "503  0.06076  0.0  11.93   0.0  0.573  6.976  91.0  2.1675  1.0  273.0   \n",
       "504  0.10959  0.0  11.93   0.0  0.573  6.794  89.3  2.3889  1.0  273.0   \n",
       "505  0.04741  0.0  11.93   0.0  0.573  6.030  80.8  2.5050  1.0  273.0   \n",
       "\n",
       "     PTRATIO       B  LSTAT  \n",
       "501     21.0  391.99   9.67  \n",
       "502     21.0  396.90   9.08  \n",
       "503     21.0  396.90   5.64  \n",
       "504     21.0  393.45   6.48  \n",
       "505     21.0  396.90   7.88  "
      ]
     },
     "execution_count": 5,
     "metadata": {},
     "output_type": "execute_result"
    }
   ],
   "source": [
    "dataset = load_boston()\n",
    "X = pd.DataFrame(dataset.data)\n",
    "X.columns = dataset.feature_names\n",
    "y = dataset.target\n",
    "\n",
    "X.tail()"
   ]
  },
  {
   "cell_type": "markdown",
   "metadata": {},
   "source": [
    "1. Разделите выборку на обучающую и тестовую в отношении 80%/20%"
   ]
  },
  {
   "cell_type": "code",
   "execution_count": 6,
   "metadata": {},
   "outputs": [
    {
     "data": {
      "text/plain": [
       "((404, 13), (102, 13), (404,), (102,))"
      ]
     },
     "execution_count": 6,
     "metadata": {},
     "output_type": "execute_result"
    }
   ],
   "source": [
    "from sklearn.model_selection import train_test_split\n",
    "X_train, X_test, y_train, y_test = train_test_split(X, y, test_size = 0.2, random_state = 42)\n",
    "X_train.shape, X_test.shape, y_train.shape, y_test.shape"
   ]
  },
  {
   "cell_type": "markdown",
   "metadata": {},
   "source": [
    "2. Обучите стандартную регрессию, а также Ridge и  Lasso и параметрами по умолчанию и выведите их R2 на тестовой выборке"
   ]
  },
  {
   "cell_type": "code",
   "execution_count": 7,
   "metadata": {},
   "outputs": [
    {
     "name": "stdout",
     "output_type": "stream",
     "text": [
      "R^2 test: 0.6687595\n"
     ]
    }
   ],
   "source": [
    "# подсказка https://nagornyy.me/it/regressionnye-modeli-v-python/\n",
    "from sklearn.linear_model import LinearRegression\n",
    "slr = LinearRegression()\n",
    "slr.fit(X_train, y_train)\n",
    "y_test_pred = slr.predict(X_test)\n",
    "from sklearn.metrics import r2_score\n",
    "print('R^2 test: {:.7f}'.format(r2_score(y_test, y_test_pred)))"
   ]
  },
  {
   "cell_type": "code",
   "execution_count": 8,
   "metadata": {},
   "outputs": [
    {
     "name": "stdout",
     "output_type": "stream",
     "text": [
      "R^2 test: 0.6686244\n"
     ]
    }
   ],
   "source": [
    "from sklearn.linear_model import Ridge\n",
    "ridge = Ridge(alpha=0.1)\n",
    "ridge.fit(X_train, y_train)\n",
    "y_test_pred = ridge.predict(X_test)\n",
    "R2_ridge = r2_score(y_test, y_test_pred)\n",
    "print('R^2 test: {:.7f}'.format(R2_ridge))"
   ]
  },
  {
   "cell_type": "code",
   "execution_count": 9,
   "metadata": {},
   "outputs": [
    {
     "name": "stdout",
     "output_type": "stream",
     "text": [
      "Lasso R^2 test: 0.6569713\n"
     ]
    }
   ],
   "source": [
    "from sklearn.linear_model import Lasso\n",
    "lasso = Lasso(alpha=0.1)\n",
    "lasso.fit(X_train, y_train)\n",
    "y_test_pred = lasso.predict(X_test)\n",
    "R2_lasso = r2_score(y_test, y_test_pred)\n",
    "print('Lasso R^2 test: {:.7f}'.format(R2_lasso))"
   ]
  },
  {
   "cell_type": "markdown",
   "metadata": {},
   "source": [
    "3. Для Ridge и Lasso подберите коэффициент регуляризации(используйте GridSearchCV, RidgeCV, LassoCV) в пределах от $10^{-5}$ до $10^5$ (по степеням 10). Посчитайте R2 на тестовой выборке по лучшим моделям и сравните с предыдущими результатами. Напишите как изменился результат"
   ]
  },
  {
   "cell_type": "code",
   "execution_count": 10,
   "metadata": {},
   "outputs": [
    {
     "name": "stdout",
     "output_type": "stream",
     "text": [
      "RidgeCV R^2 test: 0.7655114\n",
      "LassoCV R^2 test: 0.7196445\n"
     ]
    }
   ],
   "source": [
    "# https://scikit-learn.org/stable/modules/generated/sklearn.linear_model.RidgeCV.html\n",
    "from sklearn.linear_model import RidgeCV\n",
    "clf = RidgeCV(alphas=[1e-5,1e-4,1e-3, 1e-2, 1e-1, 1,1e+1,1e+2,1e+3,1e+4,1e+5]).fit(X_test, y_test)\n",
    "R2_ridgeCV = clf.score(X_test, y_test)\n",
    "print('RidgeCV R^2 test: {:.7f}'.format(R2_ridgeCV))\n",
    "\n",
    "from sklearn.linear_model import LassoCV\n",
    "clf = LassoCV(alphas=[1e-5,1e-4,1e-3, 1e-2, 1e-1, 1,1e+1,1e+2,1e+3,1e+4,1e+5]).fit(X_test, y_test)\n",
    "R2_lassoCV = clf.score(X_test, y_test)\n",
    "print('LassoCV R^2 test: {:.7f}'.format(R2_lassoCV))\n"
   ]
  },
  {
   "cell_type": "code",
   "execution_count": 11,
   "metadata": {},
   "outputs": [
    {
     "name": "stdout",
     "output_type": "stream",
     "text": [
      "R2_lassoCV-R2_lasso =  0.06267320152991263\n",
      "R2_ridgeCV-R2_ridge =  0.09688698353788339\n"
     ]
    }
   ],
   "source": [
    "# R2 вырос\n",
    "print('R2_lassoCV-R2_lasso = ',(R2_lassoCV-R2_lasso))\n",
    "print('R2_ridgeCV-R2_ridge = ',(R2_ridgeCV-R2_ridge))"
   ]
  },
  {
   "cell_type": "markdown",
   "metadata": {},
   "source": [
    "4. Проведите масштабирование выборки(используйте Pipeline, StandardScaler, MinMaxScaler), посчитайте R2 и сравните с предыдущими результатами. Напишите как изменился результат"
   ]
  },
  {
   "cell_type": "code",
   "execution_count": 12,
   "metadata": {},
   "outputs": [
    {
     "name": "stdout",
     "output_type": "stream",
     "text": [
      "Pipeline r2_ridge_scaler 0.6687594905710065\n",
      "r2_ridge_scaler-R2_ridgeCV -0.09675190516901855\n",
      "Pipeline r2_lasso_scaler 0.668759038334717\n",
      "r2_lasso_scaler - R2_lassoCV -0.05088544341758916\n"
     ]
    }
   ],
   "source": [
    "from sklearn.pipeline import Pipeline\n",
    "from sklearn.preprocessing import StandardScaler, MinMaxScaler, PolynomialFeatures\n",
    "pipeline = Pipeline([('scaler',StandardScaler()), ('clf', Ridge(alpha=10**-5))])\n",
    "pipeline.fit(X_train, y_train)\n",
    "r2_ridge_scaler = pipeline.score(X_test, y_test)\n",
    "print('Pipeline r2_ridge_scaler',r2_ridge_scaler)\n",
    "print('r2_ridge_scaler-R2_ridgeCV', r2_ridge_scaler-R2_ridgeCV)\n",
    "pipeline = Pipeline([('scaler',StandardScaler()), ('clf', Lasso(alpha=10**-5))])\n",
    "pipeline.fit(X_train, y_train)\n",
    "r2_lasso_scaler = pipeline.score(X_test, y_test)\n",
    "print ('Pipeline r2_lasso_scaler',r2_lasso_scaler)\n",
    "print ('r2_lasso_scaler - R2_lassoCV',r2_lasso_scaler - R2_lassoCV)\n"
   ]
  },
  {
   "cell_type": "code",
   "execution_count": 13,
   "metadata": {},
   "outputs": [
    {
     "name": "stdout",
     "output_type": "stream",
     "text": [
      "MinMaxScaler r2_ridge_scaler 0.6687596289762543\n",
      "r2_ridge_scaler-R2_ridgeCV -0.09675176676377073\n",
      "MinMaxScaler r2_lasso_scaler 0.6687605073677362\n",
      "r2_lasso_scaler - R2_lassoCV -0.05088397438456993\n"
     ]
    }
   ],
   "source": [
    "pipeline = Pipeline([('scaler',MinMaxScaler()), ('clf', Ridge(alpha=10**-5))])\n",
    "pipeline.fit(X_train, y_train)\n",
    "r2_ridge_scaler = pipeline.score(X_test, y_test)\n",
    "r2_ridge_scaler\n",
    "print('MinMaxScaler r2_ridge_scaler',r2_ridge_scaler)\n",
    "print('r2_ridge_scaler-R2_ridgeCV', r2_ridge_scaler-R2_ridgeCV)\n",
    "pipeline = Pipeline([('scaler', MinMaxScaler()), ('clf', Lasso(alpha=10**-5))])\n",
    "pipeline.fit(X_train, y_train)\n",
    "r2_lasso_scaler = pipeline.score(X_test, y_test)\n",
    "r2_lasso_scaler\n",
    "print ('MinMaxScaler r2_lasso_scaler',r2_lasso_scaler)\n",
    "print ('r2_lasso_scaler - R2_lassoCV',r2_lasso_scaler - R2_lassoCV)\n"
   ]
  },
  {
   "cell_type": "markdown",
   "metadata": {},
   "source": [
    "5. Подберите коэффициент регуляризации для Ridge и Lasso на масштабированных данных, посчитайте R2 и сравните с предыдущими результатами. Напишите как изменился результат"
   ]
  },
  {
   "cell_type": "code",
   "execution_count": 14,
   "metadata": {},
   "outputs": [
    {
     "name": "stdout",
     "output_type": "stream",
     "text": [
      "MinMax + Ridge: alpha_opt = 1, r2 score = 0.6764100365423611\n",
      "MinMax + Lasso: alpha_opt = 0.01, r2 score = 0.6676993404117642\n",
      "Standard + Ridge: alpha_opt = 10.0, r2 score = 0.6659677905050349\n",
      "Standard + Lasso: alpha_opt = 0.01, r2 score = 0.6681815922762605\n"
     ]
    }
   ],
   "source": [
    "from sklearn.model_selection import GridSearchCV\n",
    "scalers = [('MinMax', MinMaxScaler()),\n",
    "           ('Standard', StandardScaler())]\n",
    "models = [('Ridge', Ridge()),\n",
    "          ('Lasso', Lasso())]\n",
    "alphas=[1e-5,1e-4,1e-3, 1e-2, 1e-1, 1,1e+1,1e+2,1e+3,1e+4,1e+5]\n",
    "CV=10\n",
    "for scaler_name, scaler in scalers:\n",
    "    for model_name, model in models:\n",
    "        pipe = Pipeline([('scaler', scaler), ('model', model)])\n",
    "        grid_search = GridSearchCV(pipe, param_grid=[{'model__alpha': alphas}], scoring='r2', cv=CV)\n",
    "        grid_search.fit(X_train, y_train)\n",
    "        score = grid_search.score(X_test, y_test)\n",
    "        print(\n",
    "            f\"{scaler_name} + {model_name}: alpha_opt = {grid_search.best_params_['model__alpha']}, r2 score = {score}\")"
   ]
  },
  {
   "cell_type": "markdown",
   "metadata": {},
   "source": [
    "6. Добавьте попарные произведения признаков и их квадраты (используйте PolynomialFeatures) на масштабированных признаках, посчитайте R2 и сравните с предыдущими результатами. Напишите как изменился результат"
   ]
  },
  {
   "cell_type": "code",
   "execution_count": 15,
   "metadata": {},
   "outputs": [
    {
     "name": "stdout",
     "output_type": "stream",
     "text": [
      "MinMax + Ridge + feature mults without feature squares: alpha_opt = 0.01, r2 score = 0.8572252837849037\n",
      "MinMax + Ridge + feature mults + feature squares: alpha_opt = 0.01, r2 score = 0.8335358555037755\n",
      "MinMax + Lasso + feature mults without feature squares: alpha_opt = 0.0001, r2 score = 0.8401697806745037\n",
      "MinMax + Lasso + feature mults + feature squares: alpha_opt = 0.001, r2 score = 0.8390581680518304\n",
      "Standard + Ridge + feature mults without feature squares: alpha_opt = 10.0, r2 score = 0.8496468217328315\n",
      "Standard + Ridge + feature mults + feature squares: alpha_opt = 10.0, r2 score = 0.8180465877243659\n",
      "Standard + Lasso + feature mults without feature squares: alpha_opt = 0.01, r2 score = 0.8509794967776149\n",
      "Standard + Lasso + feature mults + feature squares: alpha_opt = 0.01, r2 score = 0.8138518691835616\n"
     ]
    }
   ],
   "source": [
    "from sklearn.preprocessing import PolynomialFeatures\n",
    "import warnings\n",
    "warnings.filterwarnings('ignore')\n",
    "\n",
    "scalers = [('MinMax', MinMaxScaler()),\n",
    "           ('Standard', StandardScaler())]\n",
    "models = [('Ridge', Ridge()),\n",
    "          ('Lasso', Lasso())]\n",
    "polyfeatures = [('feature mults without feature squares', PolynomialFeatures(degree=2, interaction_only=True)),\n",
    "                ('feature mults + feature squares', PolynomialFeatures(degree=2))]\n",
    "\n",
    "for scaler_name, scaler in scalers:\n",
    "    for model_name, model in models:\n",
    "        for polyf_name, polyfeature in polyfeatures:\n",
    "            pipe = Pipeline([('scaler', scaler), ('poly', polyfeature), ('model', model)])\n",
    "            grid_search = GridSearchCV(pipe, param_grid=[{'model__alpha': alphas}], scoring='r2', cv=CV)\n",
    "            grid_search.fit(X_train, y_train)\n",
    "            score = grid_search.score(X_test, y_test)\n",
    "            print(\n",
    "                f\"{scaler_name} + {model_name} + {polyf_name}: alpha_opt = {grid_search.best_params_['model__alpha']}, r2 score = {score}\")\n",
    "# результат улучшился"
   ]
  },
  {
   "cell_type": "markdown",
   "metadata": {},
   "source": [
    "7. Подберите наилучшую модель (используйте Pipeline, GridSearchSCV) подбирая тип регуляризации (L1,L2), коэффициент регуляризации, метод масштабирования и степень полинома в PolynomialFeatures. Выведите итоговые параметры и результат R2. Напишите как изменился R2 по сравнению с предыдущими экспериментами"
   ]
  },
  {
   "cell_type": "code",
   "execution_count": 16,
   "metadata": {},
   "outputs": [
    {
     "name": "stdout",
     "output_type": "stream",
     "text": [
      "opt_scaler: StandardScaler()\n",
      "opt_poly:PolynomialFeatures(interaction_only=True)\n",
      "opt_model:Ridge(alpha=10.0)\n",
      "opt_score:0.8496468217328315\n"
     ]
    }
   ],
   "source": [
    "param_grid = dict(scaler=[None, MinMaxScaler(), StandardScaler()],\n",
    "                  poly=[None, PolynomialFeatures(degree=2, interaction_only=True), PolynomialFeatures(degree=2)],\n",
    "                  model=[Ridge(), Lasso()],\n",
    "                  model__alpha=alphas)\n",
    "\n",
    "pipe = Pipeline([('scaler', 'passthrough'), ('poly', 'passthrough'), ('model', 'passthrough')])\n",
    "grid_search = GridSearchCV(pipe, param_grid, scoring='r2', cv=CV)\n",
    "grid_search.fit(X_train, y_train)\n",
    "score = grid_search.score(X_test, y_test)\n",
    "print(f\"opt_scaler: {grid_search.best_params_['scaler']}\\n\"\n",
    "      f\"opt_poly:{grid_search.best_params_['poly']}\\n\"\n",
    "      f\"opt_model:{grid_search.best_params_['model']}\\n\"\n",
    "      f\"opt_score:{score}\"\n",
    "      )"
   ]
  },
  {
   "cell_type": "markdown",
   "metadata": {},
   "source": [
    "http://archive.ics.uci.edu/ml/datasets/Adult"
   ]
  },
  {
   "cell_type": "code",
   "execution_count": 17,
   "metadata": {},
   "outputs": [],
   "source": [
    "link = 'https://raw.githubusercontent.com/jbrownlee/Datasets/master/adult-all.csv'\n",
    "data = pd.read_csv(link, header=None)"
   ]
  },
  {
   "cell_type": "code",
   "execution_count": 18,
   "metadata": {},
   "outputs": [
    {
     "data": {
      "text/html": [
       "<div>\n",
       "<style scoped>\n",
       "    .dataframe tbody tr th:only-of-type {\n",
       "        vertical-align: middle;\n",
       "    }\n",
       "\n",
       "    .dataframe tbody tr th {\n",
       "        vertical-align: top;\n",
       "    }\n",
       "\n",
       "    .dataframe thead th {\n",
       "        text-align: right;\n",
       "    }\n",
       "</style>\n",
       "<table border=\"1\" class=\"dataframe\">\n",
       "  <thead>\n",
       "    <tr style=\"text-align: right;\">\n",
       "      <th></th>\n",
       "      <th>0</th>\n",
       "      <th>1</th>\n",
       "      <th>2</th>\n",
       "      <th>3</th>\n",
       "      <th>4</th>\n",
       "      <th>5</th>\n",
       "      <th>6</th>\n",
       "      <th>7</th>\n",
       "      <th>8</th>\n",
       "      <th>9</th>\n",
       "      <th>10</th>\n",
       "      <th>11</th>\n",
       "      <th>12</th>\n",
       "      <th>13</th>\n",
       "      <th>14</th>\n",
       "    </tr>\n",
       "  </thead>\n",
       "  <tbody>\n",
       "    <tr>\n",
       "      <th>0</th>\n",
       "      <td>39</td>\n",
       "      <td>State-gov</td>\n",
       "      <td>77516</td>\n",
       "      <td>Bachelors</td>\n",
       "      <td>13</td>\n",
       "      <td>Never-married</td>\n",
       "      <td>Adm-clerical</td>\n",
       "      <td>Not-in-family</td>\n",
       "      <td>White</td>\n",
       "      <td>Male</td>\n",
       "      <td>2174</td>\n",
       "      <td>0</td>\n",
       "      <td>40</td>\n",
       "      <td>United-States</td>\n",
       "      <td>&lt;=50K</td>\n",
       "    </tr>\n",
       "    <tr>\n",
       "      <th>1</th>\n",
       "      <td>50</td>\n",
       "      <td>Self-emp-not-inc</td>\n",
       "      <td>83311</td>\n",
       "      <td>Bachelors</td>\n",
       "      <td>13</td>\n",
       "      <td>Married-civ-spouse</td>\n",
       "      <td>Exec-managerial</td>\n",
       "      <td>Husband</td>\n",
       "      <td>White</td>\n",
       "      <td>Male</td>\n",
       "      <td>0</td>\n",
       "      <td>0</td>\n",
       "      <td>13</td>\n",
       "      <td>United-States</td>\n",
       "      <td>&lt;=50K</td>\n",
       "    </tr>\n",
       "    <tr>\n",
       "      <th>2</th>\n",
       "      <td>38</td>\n",
       "      <td>Private</td>\n",
       "      <td>215646</td>\n",
       "      <td>HS-grad</td>\n",
       "      <td>9</td>\n",
       "      <td>Divorced</td>\n",
       "      <td>Handlers-cleaners</td>\n",
       "      <td>Not-in-family</td>\n",
       "      <td>White</td>\n",
       "      <td>Male</td>\n",
       "      <td>0</td>\n",
       "      <td>0</td>\n",
       "      <td>40</td>\n",
       "      <td>United-States</td>\n",
       "      <td>&lt;=50K</td>\n",
       "    </tr>\n",
       "    <tr>\n",
       "      <th>3</th>\n",
       "      <td>53</td>\n",
       "      <td>Private</td>\n",
       "      <td>234721</td>\n",
       "      <td>11th</td>\n",
       "      <td>7</td>\n",
       "      <td>Married-civ-spouse</td>\n",
       "      <td>Handlers-cleaners</td>\n",
       "      <td>Husband</td>\n",
       "      <td>Black</td>\n",
       "      <td>Male</td>\n",
       "      <td>0</td>\n",
       "      <td>0</td>\n",
       "      <td>40</td>\n",
       "      <td>United-States</td>\n",
       "      <td>&lt;=50K</td>\n",
       "    </tr>\n",
       "    <tr>\n",
       "      <th>4</th>\n",
       "      <td>28</td>\n",
       "      <td>Private</td>\n",
       "      <td>338409</td>\n",
       "      <td>Bachelors</td>\n",
       "      <td>13</td>\n",
       "      <td>Married-civ-spouse</td>\n",
       "      <td>Prof-specialty</td>\n",
       "      <td>Wife</td>\n",
       "      <td>Black</td>\n",
       "      <td>Female</td>\n",
       "      <td>0</td>\n",
       "      <td>0</td>\n",
       "      <td>40</td>\n",
       "      <td>Cuba</td>\n",
       "      <td>&lt;=50K</td>\n",
       "    </tr>\n",
       "  </tbody>\n",
       "</table>\n",
       "</div>"
      ],
      "text/plain": [
       "   0                 1       2          3   4                   5   \\\n",
       "0  39         State-gov   77516  Bachelors  13       Never-married   \n",
       "1  50  Self-emp-not-inc   83311  Bachelors  13  Married-civ-spouse   \n",
       "2  38           Private  215646    HS-grad   9            Divorced   \n",
       "3  53           Private  234721       11th   7  Married-civ-spouse   \n",
       "4  28           Private  338409  Bachelors  13  Married-civ-spouse   \n",
       "\n",
       "                  6              7      8       9     10  11  12  \\\n",
       "0       Adm-clerical  Not-in-family  White    Male  2174   0  40   \n",
       "1    Exec-managerial        Husband  White    Male     0   0  13   \n",
       "2  Handlers-cleaners  Not-in-family  White    Male     0   0  40   \n",
       "3  Handlers-cleaners        Husband  Black    Male     0   0  40   \n",
       "4     Prof-specialty           Wife  Black  Female     0   0  40   \n",
       "\n",
       "              13     14  \n",
       "0  United-States  <=50K  \n",
       "1  United-States  <=50K  \n",
       "2  United-States  <=50K  \n",
       "3  United-States  <=50K  \n",
       "4           Cuba  <=50K  "
      ]
     },
     "execution_count": 18,
     "metadata": {},
     "output_type": "execute_result"
    }
   ],
   "source": [
    "data.head()"
   ]
  },
  {
   "cell_type": "markdown",
   "metadata": {},
   "source": [
    "8. Разделите выборку на признаки и целевую переменную(колонка со зачениями {<=50K,>50K}). Замените целевую переменную на числовые значения."
   ]
  },
  {
   "cell_type": "code",
   "execution_count": 19,
   "metadata": {},
   "outputs": [],
   "source": [
    "df = data.copy()\n",
    "N = len(df.columns)\n",
    "X = df.iloc[:, :N - 1]\n",
    "y = df.iloc[:, -1].apply(lambda x: 1.0 if x == '>50K' else 0.0)"
   ]
  },
  {
   "cell_type": "markdown",
   "metadata": {},
   "source": [
    "9. Выясните, присутствуют ли в данных пропуски. Заполните их самыми частыми значениями (испольуйте SimpleImputer)"
   ]
  },
  {
   "cell_type": "code",
   "execution_count": 20,
   "metadata": {},
   "outputs": [
    {
     "data": {
      "text/plain": [
       "True"
      ]
     },
     "execution_count": 20,
     "metadata": {},
     "output_type": "execute_result"
    }
   ],
   "source": [
    "df.shape == df.dropna().shape"
   ]
  },
  {
   "cell_type": "markdown",
   "metadata": {},
   "source": [
    "10. Выберите колонки с числовыми и категориальными переменными."
   ]
  },
  {
   "cell_type": "code",
   "execution_count": 21,
   "metadata": {},
   "outputs": [
    {
     "name": "stdout",
     "output_type": "stream",
     "text": [
      "категориальные:[1, 3, 5, 6, 7, 8, 9, 13]\n",
      "числовые:[0, 2, 4, 10, 11, 12]\n"
     ]
    }
   ],
   "source": [
    "from pandas.api.types import is_string_dtype\n",
    "\n",
    "max_n_unique = 0.000005 * df.shape[0]\n",
    "cat, non_cat = [], []\n",
    "for col in X.columns:\n",
    "    if df[col].nunique() < max_n_unique or is_string_dtype(df[col]):\n",
    "        cat.append(col)\n",
    "    else:\n",
    "        non_cat.append(col)\n",
    "\n",
    "print(f'категориальные:{cat}\\nчисловые:{non_cat}')"
   ]
  },
  {
   "cell_type": "markdown",
   "metadata": {},
   "source": [
    "11. Создайте пайплайн по обработке колонок(используйте OneHotEncoder,MinMaxScaler)."
   ]
  },
  {
   "cell_type": "code",
   "execution_count": 22,
   "metadata": {},
   "outputs": [
    {
     "data": {
      "text/html": [
       "<div>\n",
       "<style scoped>\n",
       "    .dataframe tbody tr th:only-of-type {\n",
       "        vertical-align: middle;\n",
       "    }\n",
       "\n",
       "    .dataframe tbody tr th {\n",
       "        vertical-align: top;\n",
       "    }\n",
       "\n",
       "    .dataframe thead th {\n",
       "        text-align: right;\n",
       "    }\n",
       "</style>\n",
       "<table border=\"1\" class=\"dataframe\">\n",
       "  <thead>\n",
       "    <tr style=\"text-align: right;\">\n",
       "      <th></th>\n",
       "      <th>0</th>\n",
       "      <th>1</th>\n",
       "      <th>2</th>\n",
       "      <th>3</th>\n",
       "      <th>4</th>\n",
       "      <th>5</th>\n",
       "      <th>6</th>\n",
       "      <th>7</th>\n",
       "      <th>8</th>\n",
       "      <th>9</th>\n",
       "      <th>...</th>\n",
       "      <th>98</th>\n",
       "      <th>99</th>\n",
       "      <th>100</th>\n",
       "      <th>101</th>\n",
       "      <th>102</th>\n",
       "      <th>103</th>\n",
       "      <th>104</th>\n",
       "      <th>105</th>\n",
       "      <th>106</th>\n",
       "      <th>107</th>\n",
       "    </tr>\n",
       "  </thead>\n",
       "  <tbody>\n",
       "    <tr>\n",
       "      <th>0</th>\n",
       "      <td>0.301370</td>\n",
       "      <td>0.044131</td>\n",
       "      <td>0.800000</td>\n",
       "      <td>0.02174</td>\n",
       "      <td>0.0</td>\n",
       "      <td>0.397959</td>\n",
       "      <td>0.0</td>\n",
       "      <td>0.0</td>\n",
       "      <td>0.0</td>\n",
       "      <td>0.0</td>\n",
       "      <td>...</td>\n",
       "      <td>0.0</td>\n",
       "      <td>0.0</td>\n",
       "      <td>0.0</td>\n",
       "      <td>0.0</td>\n",
       "      <td>0.0</td>\n",
       "      <td>0.0</td>\n",
       "      <td>0.0</td>\n",
       "      <td>1.0</td>\n",
       "      <td>0.0</td>\n",
       "      <td>0.0</td>\n",
       "    </tr>\n",
       "    <tr>\n",
       "      <th>1</th>\n",
       "      <td>0.452055</td>\n",
       "      <td>0.048052</td>\n",
       "      <td>0.800000</td>\n",
       "      <td>0.00000</td>\n",
       "      <td>0.0</td>\n",
       "      <td>0.122449</td>\n",
       "      <td>0.0</td>\n",
       "      <td>0.0</td>\n",
       "      <td>0.0</td>\n",
       "      <td>0.0</td>\n",
       "      <td>...</td>\n",
       "      <td>0.0</td>\n",
       "      <td>0.0</td>\n",
       "      <td>0.0</td>\n",
       "      <td>0.0</td>\n",
       "      <td>0.0</td>\n",
       "      <td>0.0</td>\n",
       "      <td>0.0</td>\n",
       "      <td>1.0</td>\n",
       "      <td>0.0</td>\n",
       "      <td>0.0</td>\n",
       "    </tr>\n",
       "    <tr>\n",
       "      <th>2</th>\n",
       "      <td>0.287671</td>\n",
       "      <td>0.137581</td>\n",
       "      <td>0.533333</td>\n",
       "      <td>0.00000</td>\n",
       "      <td>0.0</td>\n",
       "      <td>0.397959</td>\n",
       "      <td>0.0</td>\n",
       "      <td>0.0</td>\n",
       "      <td>0.0</td>\n",
       "      <td>0.0</td>\n",
       "      <td>...</td>\n",
       "      <td>0.0</td>\n",
       "      <td>0.0</td>\n",
       "      <td>0.0</td>\n",
       "      <td>0.0</td>\n",
       "      <td>0.0</td>\n",
       "      <td>0.0</td>\n",
       "      <td>0.0</td>\n",
       "      <td>1.0</td>\n",
       "      <td>0.0</td>\n",
       "      <td>0.0</td>\n",
       "    </tr>\n",
       "    <tr>\n",
       "      <th>3</th>\n",
       "      <td>0.493151</td>\n",
       "      <td>0.150486</td>\n",
       "      <td>0.400000</td>\n",
       "      <td>0.00000</td>\n",
       "      <td>0.0</td>\n",
       "      <td>0.397959</td>\n",
       "      <td>0.0</td>\n",
       "      <td>0.0</td>\n",
       "      <td>0.0</td>\n",
       "      <td>0.0</td>\n",
       "      <td>...</td>\n",
       "      <td>0.0</td>\n",
       "      <td>0.0</td>\n",
       "      <td>0.0</td>\n",
       "      <td>0.0</td>\n",
       "      <td>0.0</td>\n",
       "      <td>0.0</td>\n",
       "      <td>0.0</td>\n",
       "      <td>1.0</td>\n",
       "      <td>0.0</td>\n",
       "      <td>0.0</td>\n",
       "    </tr>\n",
       "    <tr>\n",
       "      <th>4</th>\n",
       "      <td>0.150685</td>\n",
       "      <td>0.220635</td>\n",
       "      <td>0.800000</td>\n",
       "      <td>0.00000</td>\n",
       "      <td>0.0</td>\n",
       "      <td>0.397959</td>\n",
       "      <td>0.0</td>\n",
       "      <td>0.0</td>\n",
       "      <td>0.0</td>\n",
       "      <td>0.0</td>\n",
       "      <td>...</td>\n",
       "      <td>0.0</td>\n",
       "      <td>0.0</td>\n",
       "      <td>0.0</td>\n",
       "      <td>0.0</td>\n",
       "      <td>0.0</td>\n",
       "      <td>0.0</td>\n",
       "      <td>0.0</td>\n",
       "      <td>0.0</td>\n",
       "      <td>0.0</td>\n",
       "      <td>0.0</td>\n",
       "    </tr>\n",
       "  </tbody>\n",
       "</table>\n",
       "<p>5 rows × 108 columns</p>\n",
       "</div>"
      ],
      "text/plain": [
       "        0         1         2        3    4         5    6    7    8    9    \\\n",
       "0  0.301370  0.044131  0.800000  0.02174  0.0  0.397959  0.0  0.0  0.0  0.0   \n",
       "1  0.452055  0.048052  0.800000  0.00000  0.0  0.122449  0.0  0.0  0.0  0.0   \n",
       "2  0.287671  0.137581  0.533333  0.00000  0.0  0.397959  0.0  0.0  0.0  0.0   \n",
       "3  0.493151  0.150486  0.400000  0.00000  0.0  0.397959  0.0  0.0  0.0  0.0   \n",
       "4  0.150685  0.220635  0.800000  0.00000  0.0  0.397959  0.0  0.0  0.0  0.0   \n",
       "\n",
       "   ...  98   99   100  101  102  103  104  105  106  107  \n",
       "0  ...  0.0  0.0  0.0  0.0  0.0  0.0  0.0  1.0  0.0  0.0  \n",
       "1  ...  0.0  0.0  0.0  0.0  0.0  0.0  0.0  1.0  0.0  0.0  \n",
       "2  ...  0.0  0.0  0.0  0.0  0.0  0.0  0.0  1.0  0.0  0.0  \n",
       "3  ...  0.0  0.0  0.0  0.0  0.0  0.0  0.0  1.0  0.0  0.0  \n",
       "4  ...  0.0  0.0  0.0  0.0  0.0  0.0  0.0  0.0  0.0  0.0  \n",
       "\n",
       "[5 rows x 108 columns]"
      ]
     },
     "execution_count": 22,
     "metadata": {},
     "output_type": "execute_result"
    }
   ],
   "source": [
    "from sklearn.preprocessing import OneHotEncoder\n",
    "from sklearn.compose import ColumnTransformer\n",
    "\n",
    "t = [('num', MinMaxScaler(), non_cat), ('cat', OneHotEncoder(), cat)]\n",
    "transformer = ColumnTransformer(transformers=t)\n",
    "X_train1_sparse = transformer.fit_transform(X.copy())\n",
    "X1 = pd.DataFrame(X_train1_sparse.toarray())\n",
    "X1.head()"
   ]
  },
  {
   "cell_type": "markdown",
   "metadata": {},
   "source": [
    "12. Посчитайте метрики accuracy и f1_score на предсказании только самого частого класса в целевой переменной."
   ]
  },
  {
   "cell_type": "code",
   "execution_count": 23,
   "metadata": {},
   "outputs": [
    {
     "name": "stdout",
     "output_type": "stream",
     "text": [
      "accuracy: 0.9335486475575293\n",
      "f1 score(weighted):0.9656324383012485\n",
      "f1 score(binary):0.0\n",
      "f1 score(micro):0.9335486475575293\n"
     ]
    }
   ],
   "source": [
    "from sklearn.linear_model import LogisticRegression\n",
    "from sklearn.metrics import accuracy_score\n",
    "from sklearn.metrics import f1_score\n",
    "\n",
    "X1_train, X1_test, y1_train, y1_test = train_test_split(X1, y, test_size=0.2, random_state=RANDOM_STATE)\n",
    "most_freq_val = y.value_counts().idxmax()\n",
    "X1_most_freq_train = X1.loc[y == most_freq_val]\n",
    "y1_most_freq = y.loc[y == most_freq_val]\n",
    "\n",
    "log_reg = LogisticRegression()\n",
    "log_reg.fit(X1_train, y1_train)\n",
    "y1_pred = log_reg.predict(X1_most_freq_train)\n",
    "accuracy = accuracy_score(y1_most_freq, y1_pred)\n",
    "f1_score_w = f1_score(y1_most_freq, y1_pred, average='weighted')\n",
    "f1_score_b = f1_score(y1_most_freq, y1_pred, average='binary')\n",
    "f1_score_m = f1_score(y1_most_freq, y1_pred, average='micro')\n",
    "print(\n",
    "    f'accuracy: {accuracy}\\nf1 score(weighted):{f1_score_w}\\nf1 score(binary):{f1_score_b}\\nf1 score(micro):{f1_score_m}')"
   ]
  },
  {
   "cell_type": "markdown",
   "metadata": {},
   "source": [
    "13. Посчитайте cross_val_score по алгоритмам LogisticRegression, SVC, LinearSVC по метрикам accuracy и f1_score.\n",
    "Напишите удалось ли превзойти предыдущий результат."
   ]
  },
  {
   "cell_type": "code",
   "execution_count": 24,
   "metadata": {},
   "outputs": [
    {
     "name": "stdout",
     "output_type": "stream",
     "text": [
      "model: LogisticRegression(), metric: accuracy, score: 0.8512142211067493\n",
      "model: LogisticRegression(), metric: f1, score: 0.656585452057147\n",
      "model: SVC(), metric: accuracy, score: 0.8410180549023947\n",
      "model: SVC(), metric: f1, score: 0.6225568402859734\n",
      "model: LinearSVC(), metric: accuracy, score: 0.852667876306566\n",
      "model: LinearSVC(), metric: f1, score: 0.6571268426576358\n"
     ]
    }
   ],
   "source": [
    "from sklearn.model_selection import cross_val_score\n",
    "from sklearn.svm import SVC, LinearSVC\n",
    "\n",
    "models = [LogisticRegression(), SVC(), LinearSVC()]\n",
    "metrics = ['accuracy', 'f1']\n",
    "\n",
    "for model in models:\n",
    "    for metric in metrics:\n",
    "        score = cross_val_score(model, X1, y, cv=CV, scoring=metric).mean()\n",
    "        print(f'model: {model}, metric: {metric}, score: {score}')"
   ]
  },
  {
   "cell_type": "markdown",
   "metadata": {},
   "source": [
    "14. Можно заметить что в данных присутствуют значения '?', замените их самыми частыми значениями (испольуйте SimpleImputer)"
   ]
  },
  {
   "cell_type": "code",
   "execution_count": 25,
   "metadata": {},
   "outputs": [
    {
     "data": {
      "text/html": [
       "<div>\n",
       "<style scoped>\n",
       "    .dataframe tbody tr th:only-of-type {\n",
       "        vertical-align: middle;\n",
       "    }\n",
       "\n",
       "    .dataframe tbody tr th {\n",
       "        vertical-align: top;\n",
       "    }\n",
       "\n",
       "    .dataframe thead th {\n",
       "        text-align: right;\n",
       "    }\n",
       "</style>\n",
       "<table border=\"1\" class=\"dataframe\">\n",
       "  <thead>\n",
       "    <tr style=\"text-align: right;\">\n",
       "      <th></th>\n",
       "      <th>0</th>\n",
       "      <th>1</th>\n",
       "      <th>2</th>\n",
       "      <th>3</th>\n",
       "      <th>4</th>\n",
       "      <th>5</th>\n",
       "      <th>6</th>\n",
       "      <th>7</th>\n",
       "      <th>8</th>\n",
       "      <th>9</th>\n",
       "      <th>10</th>\n",
       "      <th>11</th>\n",
       "      <th>12</th>\n",
       "      <th>13</th>\n",
       "    </tr>\n",
       "  </thead>\n",
       "  <tbody>\n",
       "    <tr>\n",
       "      <th>0</th>\n",
       "      <td>39</td>\n",
       "      <td>State-gov</td>\n",
       "      <td>77516</td>\n",
       "      <td>Bachelors</td>\n",
       "      <td>13</td>\n",
       "      <td>Never-married</td>\n",
       "      <td>Adm-clerical</td>\n",
       "      <td>Not-in-family</td>\n",
       "      <td>White</td>\n",
       "      <td>Male</td>\n",
       "      <td>2174</td>\n",
       "      <td>0</td>\n",
       "      <td>40</td>\n",
       "      <td>United-States</td>\n",
       "    </tr>\n",
       "    <tr>\n",
       "      <th>1</th>\n",
       "      <td>50</td>\n",
       "      <td>Self-emp-not-inc</td>\n",
       "      <td>83311</td>\n",
       "      <td>Bachelors</td>\n",
       "      <td>13</td>\n",
       "      <td>Married-civ-spouse</td>\n",
       "      <td>Exec-managerial</td>\n",
       "      <td>Husband</td>\n",
       "      <td>White</td>\n",
       "      <td>Male</td>\n",
       "      <td>0</td>\n",
       "      <td>0</td>\n",
       "      <td>13</td>\n",
       "      <td>United-States</td>\n",
       "    </tr>\n",
       "    <tr>\n",
       "      <th>2</th>\n",
       "      <td>38</td>\n",
       "      <td>Private</td>\n",
       "      <td>215646</td>\n",
       "      <td>HS-grad</td>\n",
       "      <td>9</td>\n",
       "      <td>Divorced</td>\n",
       "      <td>Handlers-cleaners</td>\n",
       "      <td>Not-in-family</td>\n",
       "      <td>White</td>\n",
       "      <td>Male</td>\n",
       "      <td>0</td>\n",
       "      <td>0</td>\n",
       "      <td>40</td>\n",
       "      <td>United-States</td>\n",
       "    </tr>\n",
       "    <tr>\n",
       "      <th>3</th>\n",
       "      <td>53</td>\n",
       "      <td>Private</td>\n",
       "      <td>234721</td>\n",
       "      <td>11th</td>\n",
       "      <td>7</td>\n",
       "      <td>Married-civ-spouse</td>\n",
       "      <td>Handlers-cleaners</td>\n",
       "      <td>Husband</td>\n",
       "      <td>Black</td>\n",
       "      <td>Male</td>\n",
       "      <td>0</td>\n",
       "      <td>0</td>\n",
       "      <td>40</td>\n",
       "      <td>United-States</td>\n",
       "    </tr>\n",
       "    <tr>\n",
       "      <th>4</th>\n",
       "      <td>28</td>\n",
       "      <td>Private</td>\n",
       "      <td>338409</td>\n",
       "      <td>Bachelors</td>\n",
       "      <td>13</td>\n",
       "      <td>Married-civ-spouse</td>\n",
       "      <td>Prof-specialty</td>\n",
       "      <td>Wife</td>\n",
       "      <td>Black</td>\n",
       "      <td>Female</td>\n",
       "      <td>0</td>\n",
       "      <td>0</td>\n",
       "      <td>40</td>\n",
       "      <td>Cuba</td>\n",
       "    </tr>\n",
       "  </tbody>\n",
       "</table>\n",
       "</div>"
      ],
      "text/plain": [
       "   0                 1       2          3   4                   5   \\\n",
       "0  39         State-gov   77516  Bachelors  13       Never-married   \n",
       "1  50  Self-emp-not-inc   83311  Bachelors  13  Married-civ-spouse   \n",
       "2  38           Private  215646    HS-grad   9            Divorced   \n",
       "3  53           Private  234721       11th   7  Married-civ-spouse   \n",
       "4  28           Private  338409  Bachelors  13  Married-civ-spouse   \n",
       "\n",
       "                  6              7      8       9     10 11  12             13  \n",
       "0       Adm-clerical  Not-in-family  White    Male  2174  0  40  United-States  \n",
       "1    Exec-managerial        Husband  White    Male     0  0  13  United-States  \n",
       "2  Handlers-cleaners  Not-in-family  White    Male     0  0  40  United-States  \n",
       "3  Handlers-cleaners        Husband  Black    Male     0  0  40  United-States  \n",
       "4     Prof-specialty           Wife  Black  Female     0  0  40           Cuba  "
      ]
     },
     "execution_count": 25,
     "metadata": {},
     "output_type": "execute_result"
    }
   ],
   "source": [
    "from sklearn.impute import SimpleImputer\n",
    "\n",
    "inputer = SimpleImputer(missing_values='?', strategy='most_frequent')\n",
    "inputer = inputer.fit_transform(X.copy())\n",
    "X_cleared = pd.DataFrame(inputer)\n",
    "X_cleared.head()"
   ]
  },
  {
   "cell_type": "markdown",
   "metadata": {},
   "source": [
    "15. Посчитайте cross_val_score на новых данных. Напишите удалось ли улучшить результат."
   ]
  },
  {
   "cell_type": "code",
   "execution_count": 26,
   "metadata": {},
   "outputs": [
    {
     "name": "stdout",
     "output_type": "stream",
     "text": [
      "model: LogisticRegression(), metric: accuracy, score: 0.8506408870021971\n",
      "model: LogisticRegression(), metric: f1, score: 0.6538607252852946\n",
      "model: LinearSVC(), metric: accuracy, score: 0.8511322874935976\n",
      "model: LinearSVC(), metric: f1, score: 0.6517974174872275\n"
     ]
    }
   ],
   "source": [
    "X_cleared_sparse = transformer.fit_transform(X_cleared.copy())\n",
    "X2 = pd.DataFrame(X_cleared_sparse.toarray())\n",
    "\n",
    "models = [LogisticRegression(), LinearSVC()]\n",
    "metrics = ['accuracy', 'f1']\n",
    "\n",
    "for model in models:\n",
    "    for metric in metrics:\n",
    "        score = cross_val_score(model, X2, y, cv=CV, scoring=metric).mean()\n",
    "        print(f'model: {model}, metric: {metric}, score: {score}')\n",
    "# результат улучшить не удалось"
   ]
  },
  {
   "cell_type": "markdown",
   "metadata": {},
   "source": [
    "16. Посчитайте cross_val_score, если просто удалить значения '?'. Напишите как изменился результат"
   ]
  },
  {
   "cell_type": "code",
   "execution_count": 27,
   "metadata": {},
   "outputs": [
    {
     "name": "stdout",
     "output_type": "stream",
     "text": [
      "model: LogisticRegression(), metric: accuracy, score: 0.8471099407099377\n",
      "model: LogisticRegression(), metric: f1, score: 0.6604944060167736\n",
      "model: LinearSVC(), metric: accuracy, score: 0.8483703520157381\n",
      "model: LinearSVC(), metric: f1, score: 0.6613169761301343\n"
     ]
    }
   ],
   "source": [
    "X_dropped = df.copy().replace('?', np.nan).dropna()\n",
    "X1_dropped = X_dropped.iloc[:, :N - 1]\n",
    "y = X_dropped.iloc[:, -1].apply(lambda x: 1.0 if x == '>50K' else 0.0)\n",
    "\n",
    "X1_dropped_sparse = transformer.fit_transform(X1_dropped)\n",
    "X2_dropped = pd.DataFrame(X1_dropped_sparse.toarray())\n",
    "\n",
    "for model in models:\n",
    "    for metric in metrics:\n",
    "        score = cross_val_score(model, X2_dropped, y, cv=CV, scoring=metric).mean()\n",
    "        print(f'model: {model}, metric: {metric}, score: {score}')\n",
    "# результат немного ухудшился"
   ]
  },
  {
   "cell_type": "markdown",
   "metadata": {},
   "source": [
    " 17. Посчитайте cross_val_score для RandomForestClassifier,GradientBoostingClassifier. Напишите как изменился результат и какой вывод можно из этого сделать."
   ]
  },
  {
   "cell_type": "code",
   "execution_count": 28,
   "metadata": {},
   "outputs": [
    {
     "name": "stdout",
     "output_type": "stream",
     "text": [
      "model: RandomForestClassifier(), metric: accuracy, score: 0.8493654184622054\n",
      "model: RandomForestClassifier(), metric: f1, score: 0.6735577973376395\n",
      "model: GradientBoostingClassifier(), metric: accuracy, score: 0.8630314878898486\n",
      "model: GradientBoostingClassifier(), metric: f1, score: 0.6880056062412362\n"
     ]
    }
   ],
   "source": [
    "from sklearn.ensemble import RandomForestClassifier, GradientBoostingClassifier\n",
    "\n",
    "models = [RandomForestClassifier(), GradientBoostingClassifier()]\n",
    "for model in models:\n",
    "    for metric in metrics:\n",
    "        score = cross_val_score(model, X2_dropped, y, cv=CV, scoring=metric).mean()\n",
    "        print(f'model: {model}, metric: {metric}, score: {score}')\n",
    "# результат улучшился"
   ]
  },
  {
   "cell_type": "markdown",
   "metadata": {},
   "source": [
    "18. Подберите наилучшую модель, подбирая методы обработки колонок - масштабирование признаков, кодирование признаков и заполнение пропусков. Параметры алгоритмов оставьте по умолчанию. Выведите итоговые параметры и результат accuracy и f1_score."
   ]
  },
  {
   "cell_type": "code",
   "execution_count": null,
   "metadata": {},
   "outputs": [],
   "source": []
  }
 ],
 "metadata": {
  "kernelspec": {
   "display_name": "Python 3.7.6 ('base')",
   "language": "python",
   "name": "python3"
  },
  "language_info": {
   "codemirror_mode": {
    "name": "ipython",
    "version": 3
   },
   "file_extension": ".py",
   "mimetype": "text/x-python",
   "name": "python",
   "nbconvert_exporter": "python",
   "pygments_lexer": "ipython3",
   "version": "3.9.7"
  },
  "vscode": {
   "interpreter": {
    "hash": "ad2bdc8ecc057115af97d19610ffacc2b4e99fae6737bb82f5d7fb13d2f2c186"
   }
  }
 },
 "nbformat": 4,
 "nbformat_minor": 2
}
