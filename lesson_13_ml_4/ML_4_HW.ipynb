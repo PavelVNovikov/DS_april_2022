{
 "cells": [
  {
   "cell_type": "code",
   "execution_count": 25,
   "metadata": {},
   "outputs": [],
   "source": [
    "import pandas as pd\n",
    "import numpy as np"
   ]
  },
  {
   "cell_type": "markdown",
   "metadata": {},
   "source": [
    "https://archive.ics.uci.edu/ml/datasets/wine+quality"
   ]
  },
  {
   "cell_type": "code",
   "execution_count": 26,
   "metadata": {},
   "outputs": [],
   "source": [
    "link = 'https://archive.ics.uci.edu/ml/machine-learning-databases/wine-quality/winequality-red.csv'\n",
    "data = pd.read_csv('winequality-red.csv',sep=';')"
   ]
  },
  {
   "cell_type": "markdown",
   "metadata": {},
   "source": [
    "1.Оцените качество по метрике accuracy для классификаторов:\n",
    "\n",
    "DecisionTreeClassifier\n",
    "\n",
    "BaggingClassifier со 100 деревьями\n",
    "\n",
    "RandomForestClassifier со 100 деревьями\n",
    "\n",
    "Сравните результаты и напишите какой вывод можно сделать."
   ]
  },
  {
   "cell_type": "code",
   "execution_count": 27,
   "metadata": {},
   "outputs": [
    {
     "data": {
      "text/html": [
       "<div>\n",
       "<style scoped>\n",
       "    .dataframe tbody tr th:only-of-type {\n",
       "        vertical-align: middle;\n",
       "    }\n",
       "\n",
       "    .dataframe tbody tr th {\n",
       "        vertical-align: top;\n",
       "    }\n",
       "\n",
       "    .dataframe thead th {\n",
       "        text-align: right;\n",
       "    }\n",
       "</style>\n",
       "<table border=\"1\" class=\"dataframe\">\n",
       "  <thead>\n",
       "    <tr style=\"text-align: right;\">\n",
       "      <th></th>\n",
       "      <th>fixed acidity</th>\n",
       "      <th>volatile acidity</th>\n",
       "      <th>citric acid</th>\n",
       "      <th>residual sugar</th>\n",
       "      <th>chlorides</th>\n",
       "      <th>free sulfur dioxide</th>\n",
       "      <th>total sulfur dioxide</th>\n",
       "      <th>density</th>\n",
       "      <th>pH</th>\n",
       "      <th>sulphates</th>\n",
       "      <th>alcohol</th>\n",
       "      <th>quality</th>\n",
       "    </tr>\n",
       "  </thead>\n",
       "  <tbody>\n",
       "    <tr>\n",
       "      <th>0</th>\n",
       "      <td>7.4</td>\n",
       "      <td>0.70</td>\n",
       "      <td>0.00</td>\n",
       "      <td>1.9</td>\n",
       "      <td>0.076</td>\n",
       "      <td>11.0</td>\n",
       "      <td>34.0</td>\n",
       "      <td>0.9978</td>\n",
       "      <td>3.51</td>\n",
       "      <td>0.56</td>\n",
       "      <td>9.4</td>\n",
       "      <td>5</td>\n",
       "    </tr>\n",
       "    <tr>\n",
       "      <th>1</th>\n",
       "      <td>7.8</td>\n",
       "      <td>0.88</td>\n",
       "      <td>0.00</td>\n",
       "      <td>2.6</td>\n",
       "      <td>0.098</td>\n",
       "      <td>25.0</td>\n",
       "      <td>67.0</td>\n",
       "      <td>0.9968</td>\n",
       "      <td>3.20</td>\n",
       "      <td>0.68</td>\n",
       "      <td>9.8</td>\n",
       "      <td>5</td>\n",
       "    </tr>\n",
       "    <tr>\n",
       "      <th>2</th>\n",
       "      <td>7.8</td>\n",
       "      <td>0.76</td>\n",
       "      <td>0.04</td>\n",
       "      <td>2.3</td>\n",
       "      <td>0.092</td>\n",
       "      <td>15.0</td>\n",
       "      <td>54.0</td>\n",
       "      <td>0.9970</td>\n",
       "      <td>3.26</td>\n",
       "      <td>0.65</td>\n",
       "      <td>9.8</td>\n",
       "      <td>5</td>\n",
       "    </tr>\n",
       "    <tr>\n",
       "      <th>3</th>\n",
       "      <td>11.2</td>\n",
       "      <td>0.28</td>\n",
       "      <td>0.56</td>\n",
       "      <td>1.9</td>\n",
       "      <td>0.075</td>\n",
       "      <td>17.0</td>\n",
       "      <td>60.0</td>\n",
       "      <td>0.9980</td>\n",
       "      <td>3.16</td>\n",
       "      <td>0.58</td>\n",
       "      <td>9.8</td>\n",
       "      <td>6</td>\n",
       "    </tr>\n",
       "    <tr>\n",
       "      <th>4</th>\n",
       "      <td>7.4</td>\n",
       "      <td>0.70</td>\n",
       "      <td>0.00</td>\n",
       "      <td>1.9</td>\n",
       "      <td>0.076</td>\n",
       "      <td>11.0</td>\n",
       "      <td>34.0</td>\n",
       "      <td>0.9978</td>\n",
       "      <td>3.51</td>\n",
       "      <td>0.56</td>\n",
       "      <td>9.4</td>\n",
       "      <td>5</td>\n",
       "    </tr>\n",
       "  </tbody>\n",
       "</table>\n",
       "</div>"
      ],
      "text/plain": [
       "   fixed acidity  volatile acidity  citric acid  residual sugar  chlorides  \\\n",
       "0            7.4              0.70         0.00             1.9      0.076   \n",
       "1            7.8              0.88         0.00             2.6      0.098   \n",
       "2            7.8              0.76         0.04             2.3      0.092   \n",
       "3           11.2              0.28         0.56             1.9      0.075   \n",
       "4            7.4              0.70         0.00             1.9      0.076   \n",
       "\n",
       "   free sulfur dioxide  total sulfur dioxide  density    pH  sulphates  \\\n",
       "0                 11.0                  34.0   0.9978  3.51       0.56   \n",
       "1                 25.0                  67.0   0.9968  3.20       0.68   \n",
       "2                 15.0                  54.0   0.9970  3.26       0.65   \n",
       "3                 17.0                  60.0   0.9980  3.16       0.58   \n",
       "4                 11.0                  34.0   0.9978  3.51       0.56   \n",
       "\n",
       "   alcohol  quality  \n",
       "0      9.4        5  \n",
       "1      9.8        5  \n",
       "2      9.8        5  \n",
       "3      9.8        6  \n",
       "4      9.4        5  "
      ]
     },
     "execution_count": 27,
     "metadata": {},
     "output_type": "execute_result"
    }
   ],
   "source": [
    "data.head()"
   ]
  },
  {
   "cell_type": "code",
   "execution_count": 28,
   "metadata": {},
   "outputs": [
    {
     "data": {
      "text/plain": [
       "0    5\n",
       "1    5\n",
       "2    5\n",
       "3    6\n",
       "4    5\n",
       "Name: quality, dtype: int64"
      ]
     },
     "execution_count": 28,
     "metadata": {},
     "output_type": "execute_result"
    }
   ],
   "source": [
    "y = data['quality']\n",
    "y.head()"
   ]
  },
  {
   "cell_type": "code",
   "execution_count": 29,
   "metadata": {},
   "outputs": [
    {
     "data": {
      "text/html": [
       "<div>\n",
       "<style scoped>\n",
       "    .dataframe tbody tr th:only-of-type {\n",
       "        vertical-align: middle;\n",
       "    }\n",
       "\n",
       "    .dataframe tbody tr th {\n",
       "        vertical-align: top;\n",
       "    }\n",
       "\n",
       "    .dataframe thead th {\n",
       "        text-align: right;\n",
       "    }\n",
       "</style>\n",
       "<table border=\"1\" class=\"dataframe\">\n",
       "  <thead>\n",
       "    <tr style=\"text-align: right;\">\n",
       "      <th></th>\n",
       "      <th>fixed acidity</th>\n",
       "      <th>volatile acidity</th>\n",
       "      <th>citric acid</th>\n",
       "      <th>residual sugar</th>\n",
       "      <th>chlorides</th>\n",
       "      <th>free sulfur dioxide</th>\n",
       "      <th>total sulfur dioxide</th>\n",
       "      <th>density</th>\n",
       "      <th>pH</th>\n",
       "      <th>sulphates</th>\n",
       "      <th>alcohol</th>\n",
       "    </tr>\n",
       "  </thead>\n",
       "  <tbody>\n",
       "    <tr>\n",
       "      <th>0</th>\n",
       "      <td>7.4</td>\n",
       "      <td>0.70</td>\n",
       "      <td>0.00</td>\n",
       "      <td>1.9</td>\n",
       "      <td>0.076</td>\n",
       "      <td>11.0</td>\n",
       "      <td>34.0</td>\n",
       "      <td>0.9978</td>\n",
       "      <td>3.51</td>\n",
       "      <td>0.56</td>\n",
       "      <td>9.4</td>\n",
       "    </tr>\n",
       "    <tr>\n",
       "      <th>1</th>\n",
       "      <td>7.8</td>\n",
       "      <td>0.88</td>\n",
       "      <td>0.00</td>\n",
       "      <td>2.6</td>\n",
       "      <td>0.098</td>\n",
       "      <td>25.0</td>\n",
       "      <td>67.0</td>\n",
       "      <td>0.9968</td>\n",
       "      <td>3.20</td>\n",
       "      <td>0.68</td>\n",
       "      <td>9.8</td>\n",
       "    </tr>\n",
       "    <tr>\n",
       "      <th>2</th>\n",
       "      <td>7.8</td>\n",
       "      <td>0.76</td>\n",
       "      <td>0.04</td>\n",
       "      <td>2.3</td>\n",
       "      <td>0.092</td>\n",
       "      <td>15.0</td>\n",
       "      <td>54.0</td>\n",
       "      <td>0.9970</td>\n",
       "      <td>3.26</td>\n",
       "      <td>0.65</td>\n",
       "      <td>9.8</td>\n",
       "    </tr>\n",
       "    <tr>\n",
       "      <th>3</th>\n",
       "      <td>11.2</td>\n",
       "      <td>0.28</td>\n",
       "      <td>0.56</td>\n",
       "      <td>1.9</td>\n",
       "      <td>0.075</td>\n",
       "      <td>17.0</td>\n",
       "      <td>60.0</td>\n",
       "      <td>0.9980</td>\n",
       "      <td>3.16</td>\n",
       "      <td>0.58</td>\n",
       "      <td>9.8</td>\n",
       "    </tr>\n",
       "    <tr>\n",
       "      <th>4</th>\n",
       "      <td>7.4</td>\n",
       "      <td>0.70</td>\n",
       "      <td>0.00</td>\n",
       "      <td>1.9</td>\n",
       "      <td>0.076</td>\n",
       "      <td>11.0</td>\n",
       "      <td>34.0</td>\n",
       "      <td>0.9978</td>\n",
       "      <td>3.51</td>\n",
       "      <td>0.56</td>\n",
       "      <td>9.4</td>\n",
       "    </tr>\n",
       "  </tbody>\n",
       "</table>\n",
       "</div>"
      ],
      "text/plain": [
       "   fixed acidity  volatile acidity  citric acid  residual sugar  chlorides  \\\n",
       "0            7.4              0.70         0.00             1.9      0.076   \n",
       "1            7.8              0.88         0.00             2.6      0.098   \n",
       "2            7.8              0.76         0.04             2.3      0.092   \n",
       "3           11.2              0.28         0.56             1.9      0.075   \n",
       "4            7.4              0.70         0.00             1.9      0.076   \n",
       "\n",
       "   free sulfur dioxide  total sulfur dioxide  density    pH  sulphates  \\\n",
       "0                 11.0                  34.0   0.9978  3.51       0.56   \n",
       "1                 25.0                  67.0   0.9968  3.20       0.68   \n",
       "2                 15.0                  54.0   0.9970  3.26       0.65   \n",
       "3                 17.0                  60.0   0.9980  3.16       0.58   \n",
       "4                 11.0                  34.0   0.9978  3.51       0.56   \n",
       "\n",
       "   alcohol  \n",
       "0      9.4  \n",
       "1      9.8  \n",
       "2      9.8  \n",
       "3      9.8  \n",
       "4      9.4  "
      ]
     },
     "execution_count": 29,
     "metadata": {},
     "output_type": "execute_result"
    }
   ],
   "source": [
    "X = data.drop('quality',axis=1)\n",
    "X.head()"
   ]
  },
  {
   "cell_type": "code",
   "execution_count": 30,
   "metadata": {},
   "outputs": [],
   "source": [
    "from sklearn import metrics\n",
    "from sklearn.svm import SVC\n",
    "from sklearn.model_selection import train_test_split, cross_val_score\n",
    "from sklearn.tree import DecisionTreeClassifier\n",
    "from sklearn.ensemble import BaggingClassifier,RandomForestClassifier"
   ]
  },
  {
   "cell_type": "code",
   "execution_count": 31,
   "metadata": {},
   "outputs": [
    {
     "name": "stdout",
     "output_type": "stream",
     "text": [
      "Accuracy_DTC: 1.0\n",
      "DTC:  0.4534083802376485\n",
      "Accuracy_BC: 0.5103189493433395\n",
      "BC:  0.564102564102564\n",
      "Accuracy_RFC: 1.0\n",
      "RFC:  0.5603502188868043\n"
     ]
    }
   ],
   "source": [
    "RANDOM_STATE = 42\n",
    "\n",
    "clf_DTC = DecisionTreeClassifier().fit(X,y)\n",
    "y_pred_DTC = clf_DTC.predict(X)\n",
    "print(\"Accuracy_DTC:\",metrics.accuracy_score(y, y_pred_DTC))\n",
    "clf = DecisionTreeClassifier()\n",
    "print('DTC: ', cross_val_score(clf, X, y, cv=3, scoring='accuracy').mean())\n",
    "\n",
    "clf_BC = BaggingClassifier(base_estimator=SVC(), n_estimators=100, random_state=RANDOM_STATE).fit(X, y)\n",
    "y_pred_BC = clf_BC.predict(X)\n",
    "print(\"Accuracy_BC:\",metrics.accuracy_score(y, y_pred_BC))\n",
    "clf = BaggingClassifier(n_estimators=100)\n",
    "print('BC: ', cross_val_score(clf, X, y, cv=3, scoring='accuracy').mean())\n",
    "\n",
    "clf_RFC = RandomForestClassifier(max_depth=100, random_state=RANDOM_STATE).fit(X, y)\n",
    "y_pred_RFC = clf_RFC.predict(X)\n",
    "print(\"Accuracy_RFC:\",metrics.accuracy_score(y, y_pred_RFC))\n",
    "clf = RandomForestClassifier(n_estimators=100)\n",
    "print('RFC: ', cross_val_score(clf, X, y, cv=3, scoring='accuracy').mean())\n"
   ]
  },
  {
   "cell_type": "markdown",
   "metadata": {},
   "source": [
    "2.Разделите выборку на обучающую и тестовую в отношении 70%/30%"
   ]
  },
  {
   "cell_type": "code",
   "execution_count": 32,
   "metadata": {},
   "outputs": [],
   "source": [
    "X_train, X_test, y_train, y_test = train_test_split(X, y, test_size=0.3, random_state=RANDOM_STATE) "
   ]
  },
  {
   "cell_type": "markdown",
   "metadata": {},
   "source": [
    "3.Посчитайте качество на тестовой выборке по метрике accuracy для классификатора RandomForestClassifier, используя значения деревьев:\n",
    "    \n",
    "10, 50, 100, 200, далее с шагом 200 до 5000 деревьев.\n",
    "Постройте график зависимости качества от числа деревьев.\n",
    "\n"
   ]
  },
  {
   "cell_type": "code",
   "execution_count": 33,
   "metadata": {},
   "outputs": [],
   "source": [
    "from matplotlib import pyplot as plt\n",
    "from sklearn.metrics import accuracy_score\n",
    "trees = [10, 50, 100] + [i for i in range(200,5001,200)]\n",
    "scores = []"
   ]
  },
  {
   "cell_type": "code",
   "execution_count": 34,
   "metadata": {},
   "outputs": [
    {
     "data": {
      "image/png": "[encoded data removed]",
      "text/plain": [
       "<Figure size 432x288 with 1 Axes>"
      ]
     },
     "metadata": {
      "needs_background": "light"
     },
     "output_type": "display_data"
    }
   ],
   "source": [
    "n_estimators = [10, 50, 100] + list(range(200, 5200, 200))\n",
    "scores = []\n",
    "for n_est in n_estimators:\n",
    "    clf = RandomForestClassifier(n_estimators=n_est, random_state=RANDOM_STATE).fit(X_train, y_train)\n",
    "    y_pred = clf.predict(X_test)\n",
    "    scores.append(clf.score(X_test, y_test))\n",
    "\n",
    "plt.plot(n_estimators, scores)\n",
    "plt.xlabel('number of trees')\n",
    "plt.ylabel('score')\n",
    "plt.show()"
   ]
  },
  {
   "cell_type": "markdown",
   "metadata": {},
   "source": [
    "4.Обучите реализации градиентного бустинга с параметрами по умолчанию из библиотек sklearn и xgboost. Сравните значение метрики accuracy по cross_val_score"
   ]
  },
  {
   "cell_type": "code",
   "execution_count": 35,
   "metadata": {},
   "outputs": [
    {
     "name": "stdout",
     "output_type": "stream",
     "text": [
      "model:sklearn GB, score: 0.5640762578616352\n",
      "model:xgboost GB, score: 0.5547091194968552\n"
     ]
    }
   ],
   "source": [
    "from sklearn.ensemble import GradientBoostingClassifier\n",
    "from xgboost import XGBClassifier\n",
    "\n",
    "X, y = data.iloc[:,:-1], data.iloc[:,-1]\n",
    "y = y-min(y)\n",
    "clfs = [('sklearn GB',GradientBoostingClassifier()),\n",
    "        ('xgboost GB', XGBClassifier())]\n",
    "for name, clf in clfs:\n",
    "     cross_val_sc = cross_val_score(clf, X, y, scoring='accuracy', cv=10).mean()\n",
    "     print(f'model:{name}, score: {cross_val_sc}')"
   ]
  },
  {
   "cell_type": "markdown",
   "metadata": {},
   "source": [
    "5.Подберите оптимальные параметры этих алгоритмов с помощью GridSearchCV(cv=3).\n",
    "Параметры для оптимизации:\n",
    "\n",
    "оптимизируемый функционал\n",
    "\n",
    "скорость обучения\n",
    "\n",
    "количество деревьев\n",
    "\n",
    "глубина деревьев\n",
    "\n",
    "Сравните значение метрики accuracy и скорость работы. Выведите лучшие параметры алгоритмов."
   ]
  },
  {
   "cell_type": "code",
   "execution_count": 36,
   "metadata": {},
   "outputs": [
    {
     "name": "stdout",
     "output_type": "stream",
     "text": [
      "Wall time: 5min 53s\n",
      "model:sklearn GB, opt_params:{'learning_rate': 0.3, 'loss': 'deviance', 'max_depth': 2, 'n_estimators': 10}, score:0.5678549093183239\n",
      "Wall time: 2min 9s\n",
      "model:xgboost, opt_params:{'eval_metric': 'mlogloss', 'learning_rate': 0.1, 'max_depth': 4, 'n_estimators': 20, 'objective': 'multi:softprob'}, score:0.5859912445278299\n"
     ]
    }
   ],
   "source": [
    "from sklearn.model_selection import GridSearchCV\n",
    "\n",
    "learning_rate = [0.1, 0.2, 0.3, 0.4, 0.5, 0.6, 0.7, 0.8, 0.9]\n",
    "n_estimators = [10, 20, 30, 40, 50]\n",
    "max_depth =  [2, 3, 4, 5]\n",
    "models = [\n",
    "    (\n",
    "        'sklearn GB',\n",
    "         GradientBoostingClassifier,\n",
    "         [{\n",
    "            'loss':['deviance'],\n",
    "            'learning_rate': learning_rate,\n",
    "            'n_estimators': n_estimators, \n",
    "            'max_depth': max_depth\n",
    "         }]\n",
    "    ),\n",
    "    (\n",
    "        'xgboost',\n",
    "        XGBClassifier,\n",
    "        [{\n",
    "            'objective': ['multi:softprob'],\n",
    "            'eval_metric': ['mlogloss', 'mae'],\n",
    "            'learning_rate': learning_rate,\n",
    "            'n_estimators': n_estimators,  \n",
    "            'max_depth': max_depth\n",
    "        }]\n",
    "    )\n",
    "    \n",
    "]\n",
    "\n",
    "for name, model, param in models:\n",
    "    %time search = GridSearchCV(model(), param_grid=param, scoring='accuracy', cv=3).fit(X, y)\n",
    "    print(f'model:{name}, opt_params:{search.best_params_}, score:{search.best_score_}')\n"
   ]
  },
  {
   "cell_type": "markdown",
   "metadata": {},
   "source": [
    "6.Обучите реализации градиентного бустинга с параметрами по умолчанию из библиотек lightgbm и catboost. Сравните значение метрики accuracy по cross_val_score по всем четырем реализациям."
   ]
  },
  {
   "cell_type": "code",
   "execution_count": 37,
   "metadata": {},
   "outputs": [
    {
     "name": "stdout",
     "output_type": "stream",
     "text": [
      "Wall time: 5.54 s\n",
      "sklearn GB: 0.539712320200125\n",
      "Wall time: 1.3 s\n",
      "xgboost GB: 0.5284552845528455\n",
      "Wall time: 1.39 s\n",
      "lightgbm GB: 0.5284552845528455\n",
      "Wall time: 25.1 s\n",
      "catboost GB: 0.5328330206378987\n"
     ]
    }
   ],
   "source": [
    "from lightgbm import LGBMClassifier\n",
    "from catboost import CatBoostClassifier\n",
    "\n",
    "clfs = [('sklearn GB', GradientBoostingClassifier()),\n",
    "       ('xgboost GB', XGBClassifier()), \n",
    "        ('lightgbm GB', LGBMClassifier()),\n",
    "        ('catboost GB', CatBoostClassifier(verbose=False))]\n",
    "for name, clf in clfs:\n",
    "    %time score = cross_val_score(clf, X, y, scoring=\"accuracy\", cv=3).mean()\n",
    "    print(f'{name}: {score}')"
   ]
  },
  {
   "cell_type": "markdown",
   "metadata": {},
   "source": [
    "7.Подберите оптимальные параметры для алгоритмов градиентного бустинга из библиотек lightgbm и catboost с теми же условиями. Выведите лучшие параметры алгоритмов.\n",
    "Сравните значение метрики accuracy и скорость по этим четырем реализациям."
   ]
  },
  {
   "cell_type": "code",
   "execution_count": 38,
   "metadata": {},
   "outputs": [
    {
     "name": "stdout",
     "output_type": "stream",
     "text": [
      "Wall time: 28.6 s\n",
      "model:lightgbm GB, opt_params:{'learning_rate': 0.1, 'max_depth': 2, 'n_estimators': 20, 'objective': 'multi:softprob'}, score:0.5716072545340838\n",
      "Wall time: 1min 27s\n",
      "model:catboost GB, opt_params:{'eval_metric': 'MultiClass', 'learning_rate': 0.1, 'loss_function': 'MultiClass', 'max_depth': 4, 'n_estimators': 40}, score:0.5934959349593497\n"
     ]
    }
   ],
   "source": [
    "learning_rate = [0.1, 0.2, 0.3, 0.4, 0.5, 0.6, 0.7, 0.8, 0.9]\n",
    "n_estimators = [10, 20, 30, 40, 50]\n",
    "max_depth =  [2, 3, 4, 5]\n",
    "models = [\n",
    "    (\n",
    "        'lightgbm GB',\n",
    "         LGBMClassifier(),\n",
    "         [{\n",
    "            'objective':['multi:softprob'],\n",
    "            'learning_rate': learning_rate,\n",
    "            'n_estimators': n_estimators, \n",
    "            'max_depth': max_depth\n",
    "         }]\n",
    "    ),\n",
    "    (\n",
    "        'catboost GB',\n",
    "        CatBoostClassifier(verbose=False),\n",
    "        [{\n",
    "            'loss_function': ['MultiClass'],\n",
    "            'eval_metric': ['MultiClass'],\n",
    "            'learning_rate': learning_rate,\n",
    "            'n_estimators': n_estimators,  \n",
    "            'max_depth': max_depth\n",
    "        }]\n",
    "    )\n",
    "    \n",
    "]\n",
    "\n",
    "for name, model, param in models:\n",
    "    %time search = GridSearchCV(model, param_grid=param, scoring='accuracy', cv=3).fit(X, y)\n",
    "    print(f'model:{name}, opt_params:{search.best_params_}, score:{search.best_score_}')"
   ]
  },
  {
   "cell_type": "markdown",
   "metadata": {},
   "source": [
    "8.Подберите оптимальные параметры алгоритма из библиотеки xgbost с помощью [hyperopt](https://github.com/hyperopt/hyperopt) . Параметры для оптимизации:\n",
    "\n",
    "оптимизируемый функционал\n",
    "\n",
    "скорость обучения\n",
    "\n",
    "количество деревьев\n",
    "\n",
    "глубина деревьев\n",
    "\n",
    "Сравните результат с поиском по сетке из sklearn. Выведите лучшие параметры алгоритма, найденные даным способом."
   ]
  },
  {
   "cell_type": "code",
   "execution_count": 39,
   "metadata": {},
   "outputs": [
    {
     "name": "stdout",
     "output_type": "stream",
     "text": [
      "100%|██████████| 10/10 [00:05<00:00,  1.72trial/s, best loss: -0.5484677923702314]\n",
      "{'learning_rate': 0.10941341233950388, 'max_depth': 33, 'n_estimators': 23}\n",
      "Wall time: 1.85 s\n",
      "model:catboost GB, opt_params:{'learning_rate': 0.1, 'loss': 'deviance', 'max_depth': 2, 'n_estimators': 30}, score:0.5703564727954972\n"
     ]
    }
   ],
   "source": [
    "from hyperopt import hp, tpe\n",
    "from hyperopt.fmin import fmin\n",
    "from sklearn.ensemble import GradientBoostingClassifier\n",
    "from xgboost import XGBClassifier\n",
    "\n",
    "\n",
    "def hyperopt_xgb_score(params):\n",
    "    clf = XGBClassifier(**params)\n",
    "    current_score = cross_val_score(clf, X, y, cv=3).mean()\n",
    "    return -current_score\n",
    "\n",
    "space_xgb = {\n",
    "            'n_estimators': hp.choice('n_estimators',     range(1, 51, 1)),\n",
    "            'learning_rate':hp.uniform('learning_rate',0.1, 0.91),\n",
    "            'max_depth':    hp.choice('max_depth',        range(1, 51, 1)),\n",
    "        }\n",
    "\n",
    "print(fmin(fn=hyperopt_xgb_score, space=space_xgb, algo=tpe.suggest, max_evals=10))\n",
    "\n",
    "param = [{\n",
    "            'loss':['deviance'],\n",
    "            'learning_rate': [0.1],\n",
    "            'n_estimators': [30], \n",
    "            'max_depth': [2]\n",
    "         }]\n",
    "%time search = GridSearchCV(GradientBoostingClassifier(), param_grid=param, scoring='accuracy', cv=3).fit(X, y)\n",
    "\n",
    "print(f'model:{name}, opt_params:{search.best_params_}, score:{search.best_score_}')\n",
    "# HyperOpt параметры показывают более точные(меньшие) значения, требуется дополнительная проверка выданных параметров"
   ]
  },
  {
   "cell_type": "code",
   "execution_count": 40,
   "metadata": {},
   "outputs": [],
   "source": [
    "# from hyperopt import hp, fmin, tpe, Trials, STATUS_OK\n",
    "# from functools import partial\n",
    "# from sklearn.pipeline import Pipeline\n",
    "\n",
    "# search_space = {\n",
    "#                 'clf__learning_rate' : hp.loguniform(label='learning_rate', low=np.log(0.04), high=np.log(0.5)),\n",
    "#                 'clf__n_estimators' :  hp.choice(label='n_estimators', options=np.arange(1, 100, 10, dtype=int)),\n",
    "#                 'clf__max_depth':  hp.choice(label='max_depth', options=np.arange(2, 10, 1, dtype=int))\n",
    "#                 }\n",
    "\n",
    "# clfs = [('sklearn GB',GradientBoostingClassifier(loss='deviance')),\n",
    "#         ('xgboost GB', XGBClassifier(objective ='multi:softprob', eval_metric= 'mlogloss')),\n",
    "#         ('lightgbm GB', LGBMClassifier(objective ='multi:softprob')),\n",
    "#         ('catboost GB',CatBoostClassifier(loss_function ='MultiClass', eval_metric='MultiClass', verbose=False))\n",
    "#        ]\n",
    "\n",
    "# def objective(params, pipeline,  X_train, y_train):\n",
    "#     pipeline.set_params(**params)\n",
    "#     score = cross_val_score(estimator=pipeline, X=X_train, y=y_train, \n",
    "#                             scoring='accuracy', cv=3)\n",
    "#     return   {'loss': -score.mean(), 'params': params, 'status': STATUS_OK}\n",
    "\n",
    "# for name, clf in clfs:\n",
    "#     print(name, clf)\n",
    "#     pipeline = Pipeline([('clf', clf)])\n",
    "#     trials = Trials()\n",
    "#     best = fmin( \n",
    "#                 fn=partial(objective, pipeline=pipeline, X_train=X, y_train=y),\n",
    "#                 space=search_space,\n",
    "#                 algo=tpe.suggest,\n",
    "#                 max_evals=40,\n",
    "#                 trials=trials,\n",
    "#                 show_progressbar=True\n",
    "#             )\n",
    "#     print(f'{name}: {best}')"
   ]
  },
  {
   "cell_type": "markdown",
   "metadata": {},
   "source": [
    "9.Выведите качество по метрике accuracy стэкинга (StackingClassifier) 4-х алгоритмов с базовыми параметрами градиентного бустинга."
   ]
  },
  {
   "cell_type": "code",
   "execution_count": 44,
   "metadata": {},
   "outputs": [
    {
     "name": "stdout",
     "output_type": "stream",
     "text": [
      "0.6729166666666667\n"
     ]
    }
   ],
   "source": [
    "from sklearn.ensemble import StackingClassifier\n",
    "estimators = [('sklearn GB', GradientBoostingClassifier()),\n",
    "       ('xgboost GB', XGBClassifier()), \n",
    "        ('lightgbm GB', LGBMClassifier()),\n",
    "        ('catboost GB', CatBoostClassifier(verbose=False))]\n",
    "\n",
    "clf_Stack = StackingClassifier(estimators=estimators) #, n_jobs=-1,verbose='False')\n",
    "\n",
    "clf_Stack.fit(X_train, y_train)\n",
    "print(clf_Stack.score(X_test, y_test))"
   ]
  },
  {
   "cell_type": "markdown",
   "metadata": {},
   "source": [
    "10.Выведите качество по метрике accuracy стэкинга 4-х алгоритмов с оптимальными параметрами градиентного бустинга. Сравните результаты с предыдущим шагом и напишите какой вывод можно из этого сделать."
   ]
  },
  {
   "cell_type": "code",
   "execution_count": 46,
   "metadata": {},
   "outputs": [
    {
     "name": "stdout",
     "output_type": "stream",
     "text": [
      "StackingClassifier: score: 0.5897435897435898\n"
     ]
    }
   ],
   "source": [
    "estimators = [('sklearn GB', \n",
    "               GradientBoostingClassifier(\n",
    "                   loss='deviance',\n",
    "                   learning_rate = 0.1,\n",
    "                   n_estimators = 30, \n",
    "                   max_depth = 2\n",
    "               )),\n",
    "       ('xgboost GB', \n",
    "        XGBClassifier(\n",
    "            objective ='multi:softprob',\n",
    "            eval_metric= 'mlogloss',\n",
    "            learning_rate= 0.1,\n",
    "            n_estimators = 20,  \n",
    "            max_depth = 4\n",
    "        \n",
    "        )), \n",
    "        ('lightgbm GB', \n",
    "         LGBMClassifier(\n",
    "             objective= 'multi:softprob',\n",
    "            learning_rate=0.1,\n",
    "            n_estimators=25, \n",
    "            max_depth=2\n",
    "         )),\n",
    "        ('catboost GB',\n",
    "         CatBoostClassifier(\n",
    "            loss_function= 'MultiClass',\n",
    "            eval_metric='MultiClass',\n",
    "            learning_rate = 0.3,\n",
    "            n_estimators= 30,  \n",
    "            max_depth= 2,\n",
    "            verbose=False))]\n",
    "\n",
    "clf = StackingClassifier(estimators=estimators)\n",
    "cross_val_sc = cross_val_score(clf, X, y, scoring='accuracy', cv=3).mean()\n",
    "print(f'StackingClassifier: score: {cross_val_sc}')\n",
    "\n",
    "# точность увеличивается"
   ]
  }
 ],
 "metadata": {
  "kernelspec": {
   "display_name": "Python 3.9.12 ('base')",
   "language": "python",
   "name": "python3"
  },
  "language_info": {
   "codemirror_mode": {
    "name": "ipython",
    "version": 3
   },
   "file_extension": ".py",
   "mimetype": "text/x-python",
   "name": "python",
   "nbconvert_exporter": "python",
   "pygments_lexer": "ipython3",
   "version": "3.9.7"
  },
  "vscode": {
   "interpreter": {
    "hash": "ad2bdc8ecc057115af97d19610ffacc2b4e99fae6737bb82f5d7fb13d2f2c186"
   }
  }
 },
 "nbformat": 4,
 "nbformat_minor": 2
}
