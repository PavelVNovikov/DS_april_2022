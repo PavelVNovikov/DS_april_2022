{
 "cells": [
  {
   "cell_type": "code",
   "execution_count": null,
   "metadata": {},
   "outputs": [],
   "source": [
    "select a.date,\n",
    "    avg(a.salary),\n",
    "    a.bank,\n",
    "    b.gender,\n",
    "    count(client_id)\n",
    "from clnt_agr a, clnt_data b\n",
    "where a.client_id = b.client_id and\n",
    "        (a.data between 2017/12/31 and 2019/01/01) and\n",
    "        b.age between 0 and 18\n",
    "group by a.date, a.bank, b.gender"
   ]
  },
  {
   "cell_type": "code",
   "execution_count": 1,
   "metadata": {},
   "outputs": [
    {
     "name": "stdout",
     "output_type": "stream",
     "text": [
      "i= 0 , j= 1\n"
     ]
    }
   ],
   "source": [
    "num = [2,7,11,15]\n",
    "t = 9\n",
    "for i in range(len(num)):\n",
    "    for j in range(i+1,len(num)):\n",
    "        if num[i] + num[j] == t: print ('i=',i,', j=',j)"
   ]
  },
  {
   "cell_type": "code",
   "execution_count": null,
   "metadata": {},
   "outputs": [],
   "source": [
    "разбить пользователей на кластера\n",
    "найти взаимное совпадение лайков\n",
    "рекомендовать пользователям из одного кластера пару из пула взаимных совпадений."
   ]
  }
 ],
 "metadata": {
  "interpreter": {
   "hash": "97ae724bfa85b9b34df7982b8bb8c7216f435b92902d749e4263f71162bea840"
  },
  "kernelspec": {
   "display_name": "Python 3.9.7 ('base')",
   "language": "python",
   "name": "python3"
  },
  "language_info": {
   "codemirror_mode": {
    "name": "ipython",
    "version": 3
   },
   "file_extension": ".py",
   "mimetype": "text/x-python",
   "name": "python",
   "nbconvert_exporter": "python",
   "pygments_lexer": "ipython3",
   "version": "3.9.7"
  },
  "orig_nbformat": 4
 },
 "nbformat": 4,
 "nbformat_minor": 2
}
